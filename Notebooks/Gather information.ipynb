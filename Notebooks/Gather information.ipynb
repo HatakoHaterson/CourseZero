{
 "cells": [
  {
   "cell_type": "markdown",
   "metadata": {},
   "source": [
    "# Disclaimer\n",
    "\n",
    "The Course Hero website allows students to upload materials to assist other students. Unfortunately, these materials may include items which violate their instructors' intellectual property rights. Course Hero professes a commitment to protecting intellectual property and provides an easy to use webform (https://www.coursehero.com/copyright-infringement/) to request the removal of infringing materials. \n",
    "\n",
    "However, the site does not seem to standardize the names / abbreviations for departments and courses, and uses whatever uploading student's favored spelling of the instructor's name. It is thus difficult for an instructor to be sure they've checked all materials which might belong to them.\n",
    "\n",
    "This is a tool which automates the process of searching the site which I created to help me more easily keep tabs on what materials appear on the site.\n",
    "\n",
    "It is thus extremely rough and probably not very user friendly. That said, I am making them public in case others find them useful.  \n",
    "\n",
    "These tools are provided in the hope that they will be useful to those seeking to protect their intellectual property, but WITHOUT ANY WARRANTY; without even the implied warranty of MERCHANTABILITY or FITNESS FOR A PARTICULAR PURPOSE.\n",
    "\n",
    "I am not a lawyer; nothing in here should be construed as legal advice. Make sure you understand your rights and responsibilities under the DCMA and other applicable laws before submitting takedown requests. The tools are provided here with no warranty or claim that their use is consistent with any law, policy, terms of use policy, or any other constraint. IF YOU CHOOSE TO USE THEM, YOU AGREE TO REVIEW AND COMPLY WITH ALL RELEVANT POLICIES, INCLUDING SITE TERMS OF SERVICE, AND YOU AGREE THAT YOUR USE IS SOLELY AT YOUR OWN RISK.\n",
    "\n",
    "Questions, requests, complaints, or other feedback (or pull-requests!) are welcome through this project's github page\n",
    "        \n",
    "        https://github.com/HatakoHaterson/CourseZero\n",
    "\n",
    "Please understand that this is not an active project for me; I will monitor the project on github very infrequently.\n",
    "\n",
    "-- 復讐者\n",
    "\n",
    "\n",
    "View a static image of the main notebook (does not run) on Jupyter: \n",
    "    \n",
    "    https://nbviewer.jupyter.org/github/HatakoHaterson/CourseZero/blob/master/Notebooks/Gather%20information.ipynb?flush_cache=true\n",
    "\n",
    "Or run it on your own mini-server using Binder\n",
    "\n",
    "    https://mybinder.org/v2/gh/HatakoHaterson/CourseZero/master?filepath=Notebooks%2FGather%20information.ipynb\n"
   ]
  },
  {
   "cell_type": "markdown",
   "metadata": {},
   "source": [
    "# Get started\n",
    "\n",
    "Once the notebook has opened in binder, a toolbar will appear at the top of the notebook containing several buttons. The 'run' button is the most important.\n",
    "\n",
    "After you've opened the notebook in binder, click the run button above a few times. Each click runs the code in the highlighted cell. You can also press shift+return to run it. You can change which cell is highlighted with the up and down arrows or by just clicking on it.\n",
    "\n",
    "Try it with the next cell:"
   ]
  },
  {
   "cell_type": "code",
   "execution_count": null,
   "metadata": {
    "ExecuteTime": {
     "end_time": "2019-07-19T00:29:33.193123Z",
     "start_time": "2019-07-19T00:29:33.189587Z"
    }
   },
   "outputs": [],
   "source": [
    "print(\"You've successfully run this cell!\")"
   ]
  },
  {
   "cell_type": "markdown",
   "metadata": {},
   "source": [
    "Since these are rough-and-ready tools, I've left in much of the code. If you want to follow along, I've left comments to myself which identify the various steps. These are either single lines which start with a '#', like this: \n",
    "    \n",
    "    # Query the server for records\n",
    "    code code code\n",
    "    \n",
    "Or, multiple lines enclosed with three double quotes: \n",
    "    \n",
    "    \"\"\"blah blah\n",
    "    tacos are good\n",
    "    \"\"\"  \n",
    "\n",
    "You'll be able to tell that a cell is running by an asterisk appearing in the brackets to the left ( [ * ]). Some tasks may take a couple of minutes to run, so it may appear frozen.\n",
    "\n",
    "I haven't set it up with an easy way to reset things. If you want to search a different campus or different set of departments, use the 'restart kernel' button above (to the right of the run button).\n",
    "\n",
    "The next cell will grab and import all the code that operates behind the scenes. (If you're curious, you can check it out here: https://github.com/HatakoHaterson/CourseZero)"
   ]
  },
  {
   "cell_type": "code",
   "execution_count": null,
   "metadata": {},
   "outputs": [],
   "source": []
  },
  {
   "cell_type": "code",
   "execution_count": null,
   "metadata": {
    "ExecuteTime": {
     "end_time": "2019-07-19T00:29:33.250540Z",
     "start_time": "2019-07-19T00:29:33.239687Z"
    }
   },
   "outputs": [],
   "source": [
    "%%javascript\n",
    "IPython.OutputArea.prototype._should_scroll = function(lines) {\n",
    "    return false;\n",
    "}"
   ]
  },
  {
   "cell_type": "markdown",
   "metadata": {},
   "source": [
    "# Todo\n",
    "\n",
    "progress display\n",
    "\n",
    "cleanup some of the embedded callbacks\n",
    "\n",
    "ensure that output doesn't truncate or scroll\n"
   ]
  },
  {
   "cell_type": "code",
   "execution_count": 1,
   "metadata": {
    "ExecuteTime": {
     "end_time": "2019-07-19T00:53:31.208517Z",
     "start_time": "2019-07-19T00:53:30.625170Z"
    }
   },
   "outputs": [
    {
     "name": "stdout",
     "output_type": "stream",
     "text": [
      "/Users/adam/Dropbox/CourseZero\n"
     ]
    }
   ],
   "source": [
    "# for binder\n",
    "# !pip install CourseZero\n",
    "\n",
    "# for local testing\n",
    "%cd ../\n",
    "\n",
    "# import json\n",
    "# import pandas as pd\n",
    "\n",
    "# import requests\n",
    "# from bs4 import BeautifulSoup\n",
    "\n",
    "# import environment as env\n",
    "# from CourseZero.FileSystemTools import getSystemRoot\n",
    "\n",
    "# from IPython.display import display, clear_output\n",
    "# from ipywidgets import widgets\n",
    "\n",
    "# from CourseZero.RequestTools import get_docs_for_campuses, get_docs_for_campus\n",
    "# # from CourseZero.Store import DataStore\n",
    "# from CourseZero.Widgets.CampusAndProfIdentifiers import make_campus_selector\n",
    "# from CourseZero.FileSystemTools import getSystemRoot\n",
    "# from CourseZero.DataStorageTools import load_campus_id_data\n",
    "\n",
    "# from CourseZero.Errors import UnsetValue\n",
    "\n",
    "# from CourseZero.DataHandlingTools import parse_json_into_df,get_departments, filter_by_dept_abbrevs, get_by_course_id\n",
    "# from CourseZero.Widgets.Inputs import dept_selection\n",
    "# from CourseZero.Widgets.Inputs import make_course_b\n",
    "# from CourseZero.Widgets.Inputs import make_link, make_infringement_b, make_html_url_list, make_infringing_lists\n",
    "# from CourseZero.Store import TakedownStore\n",
    "\n",
    "# from CourseZero.Widgets.TakedownInputs import make_text_input, make_email_helper_button\n",
    "# import datetime\n",
    "\n",
    "\n",
    "from environment import *\n",
    "from CourseZero.Widgets.CampusAndProfIdentifiers import make_campus_selector\n",
    "from CourseZero.UI import search_depts"
   ]
  },
  {
   "cell_type": "markdown",
   "metadata": {
    "ExecuteTime": {
     "end_time": "2019-02-16T04:17:45.566277Z",
     "start_time": "2019-02-16T04:17:45.563812Z"
    }
   },
   "source": [
    "# Select your campus\n",
    "\n",
    "\n",
    "Running the next cell will display a selection menu. Use it to select the CSU you want to search.\n",
    "\n",
    "NB, for now this will only work with CSU campuses. If there is a demand for covering more institutions, please leave a note on the github page \n",
    "\n",
    "When the search starts it will display a message like \"Searching for California State University Dominguez Hills\". You may need to wait a few seconds for it to complete.\n",
    "\n",
    "When the search completes, it will display buttons with all the departments found for the campus. Select all the departments you want to search for materials from..\n",
    "\n",
    "The site does not seem to standardize the departments students enter. Thus your class may be identified in some rather odd ways.\n"
   ]
  },
  {
   "cell_type": "code",
   "execution_count": null,
   "metadata": {
    "ExecuteTime": {
     "end_time": "2019-07-19T00:29:33.887953Z",
     "start_time": "2019-07-19T00:29:33.881708Z"
    },
    "deletable": false,
    "editable": false,
    "run_control": {
     "frozen": true
    }
   },
   "outputs": [],
   "source": [
    "def show_email_draft_area():\n",
    "    field_map = {r['prop'] : make_text_input(r) for r in TakedownStore.input_fields }\n",
    "    inputs = list(field_map.values())\n",
    "\n",
    "    def make_email_draft(**kwargs):\n",
    "        letter_date = datetime.date.isoformat( datetime.date.today() )\n",
    "#         doc_urls = make_html_url_list(TakedownStore.data_store.infringing_docs)\n",
    "        doc_urls = make_infringing_lists(TakedownStore.data_store.infringing_doc_tuples)\n",
    "        with open('{}/takedown_request.html'.format(env.TEMPLATE_FOLDER), 'r') as o:\n",
    "            template = o.read()\n",
    "\n",
    "        formatted = template.format(letter_date=letter_date, doc_urls=doc_urls, **kwargs)\n",
    "        return display(widgets.HTML(value=formatted))\n",
    "\n",
    "    # Show the email draft and fields to fill it in\n",
    "    email_out = widgets.interactive_output(make_email_draft, field_map )\n",
    "    return display(widgets.VBox([widgets.VBox(inputs), email_out]))\n",
    "# show_email_draft_area()"
   ]
  },
  {
   "cell_type": "code",
   "execution_count": 2,
   "metadata": {
    "ExecuteTime": {
     "end_time": "2019-07-19T00:53:40.306254Z",
     "start_time": "2019-07-19T00:53:40.280999Z"
    }
   },
   "outputs": [
    {
     "data": {
      "application/vnd.jupyter.widget-view+json": {
       "model_id": "c28cc82dd97b4e22940877ccbafc2e1f",
       "version_major": 2,
       "version_minor": 0
      },
      "text/plain": [
       "VBox(children=(HTML(value='<h1>Select campus to search</h1>'), Dropdown(description='Campus', layout=Layout(wi…"
      ]
     },
     "metadata": {},
     "output_type": "display_data"
    },
    {
     "name": "stdout",
     "output_type": "stream",
     "text": [
      "Searching for California Maritime Academy\n",
      "34 courses identified at California Maritime Academy\n",
      "23 department names located\n"
     ]
    },
    {
     "data": {
      "application/vnd.jupyter.widget-view+json": {
       "model_id": "5a582c919f734b2f913fc002c46c0c69",
       "version_major": 2,
       "version_minor": 0
      },
      "text/plain": [
       "Output(layout=Layout(border='1px solid black'))"
      ]
     },
     "metadata": {},
     "output_type": "display_data"
    },
    {
     "data": {
      "application/vnd.jupyter.widget-view+json": {
       "model_id": "dbde82d70e2d40389de3017bceff28d4",
       "version_major": 2,
       "version_minor": 0
      },
      "text/plain": [
       "Output(layout=Layout(border='1px solid black'))"
      ]
     },
     "metadata": {},
     "output_type": "display_data"
    },
    {
     "data": {
      "application/vnd.jupyter.widget-view+json": {
       "model_id": "9e7f0e798bc0488288a1ee7eb5a47a0d",
       "version_major": 2,
       "version_minor": 0
      },
      "text/plain": [
       "Output(layout=Layout(border='1px solid black'))"
      ]
     },
     "metadata": {},
     "output_type": "display_data"
    },
    {
     "data": {
      "application/vnd.jupyter.widget-view+json": {
       "model_id": "79d4e7c8415044d3a7db1d64946d7521",
       "version_major": 2,
       "version_minor": 0
      },
      "text/plain": [
       "Output(layout=Layout(border='1px solid black'))"
      ]
     },
     "metadata": {},
     "output_type": "display_data"
    },
    {
     "data": {
      "application/vnd.jupyter.widget-view+json": {
       "model_id": "76a772c00bf149739259702663b0d6bd",
       "version_major": 2,
       "version_minor": 0
      },
      "text/plain": [
       "Output(layout=Layout(border='1px solid black'))"
      ]
     },
     "metadata": {},
     "output_type": "display_data"
    },
    {
     "data": {
      "application/vnd.jupyter.widget-view+json": {
       "model_id": "d5f8c021cc404786bf9b34cffad929fe",
       "version_major": 2,
       "version_minor": 0
      },
      "text/plain": [
       "Output(layout=Layout(border='1px solid black'))"
      ]
     },
     "metadata": {},
     "output_type": "display_data"
    }
   ],
   "source": [
    "make_campus_selector(DataStore, search_depts)"
   ]
  },
  {
   "cell_type": "code",
   "execution_count": null,
   "metadata": {
    "ExecuteTime": {
     "end_time": "2019-07-19T00:15:26.989984Z",
     "start_time": "2019-07-19T00:15:26.985098Z"
    },
    "deletable": false,
    "editable": false,
    "run_control": {
     "frozen": true
    }
   },
   "outputs": [],
   "source": [
    "def make_infringing_table(infringing_tuples):\n",
    "    \"\"\"Returns an HTML table of the infringing doc names and urls\"\"\"\n",
    "    def make_row(infringing_tuple):\n",
    "        return \"<tr><td>{}</td><td>{}</td></tr>\".format(infringing_tuple[1], infringing_tuple[2])\n",
    "    t = \"<table>\"\n",
    "    for infringing_tuple in infringing_tuples:\n",
    "        t += make_row(infringing_tuple)\n",
    "    t += \"</table>\"\n",
    "    return t\n",
    "\n",
    "def make_infringing_lists(infringing_tuples):\n",
    "    \"\"\"Returns a copyable list infringing doc names and urls\"\"\"\n",
    "    t1 =\"\"\n",
    "    t2=\"\"\n",
    "                                \n",
    "    for infringing_tuple in infringing_tuples:\n",
    "        t1 += \"{}<br/>\".format(infringing_tuple[1])\n",
    "        t2 += \"{}<br/>\".format(infringing_tuple[2])\n",
    "    return \"\"\"\n",
    "    <div class='infringing-docs'>\n",
    "    <h3>Document names (as named by the uploader)</h3>\n",
    "    <p>{}</p>\n",
    "    <h3> Document urls</h3>\n",
    "    <p>{}</p>\n",
    "    </div>\n",
    "    \"\"\".format(t1, t2) \n",
    "\n",
    "# make_infringing_table(DataStore.infringing_doc_tuples)"
   ]
  },
  {
   "cell_type": "code",
   "execution_count": null,
   "metadata": {
    "ExecuteTime": {
     "end_time": "2019-07-19T00:29:33.911256Z",
     "start_time": "2019-07-19T00:29:33.892516Z"
    },
    "deletable": false,
    "editable": false,
    "run_control": {
     "frozen": true
    },
    "scrolled": false
   },
   "outputs": [],
   "source": [
    "\n",
    "def search_depts(data_store):\n",
    "    \"\"\"Callback which queries the site for departments associated with the selected\n",
    "    campus. It then fires a callback which drills down to courses in the department, \n",
    "    and so on.\n",
    "    \"\"\"\n",
    "    try:\n",
    "        \n",
    "        # dev !!!!!!!!!!!!!!!!!!!!!!!!!!!!!!!!!!!!!!!!!\n",
    "        \n",
    "        # Query for results and parse them into a dataframe\n",
    "        json_data = get_docs_for_campus(data_store.campus_id, data_store.campus_name)\n",
    "        data_store.data = parse_json_into_df(json_data)\n",
    "        \n",
    "        print(\"{} courses identified at {}\".format(len(data_store.data), data_store.campus_name))\n",
    "        print(\"{} department names located\".format(len(data_store.departments)))\n",
    "        \n",
    "        # Create the output areas\n",
    "        progress_out = widgets.Output(layout={'border': '1px solid black'})\n",
    "        display(progress_out)\n",
    "        depts_out = widgets.Output(layout={'border': '1px solid black'})\n",
    "        display(depts_out)\n",
    "        courses_out = widgets.Output(layout={'border': '1px solid black'})    \n",
    "        display(courses_out)\n",
    "        docs_out = widgets.Output(layout={'border': '1px solid black'})\n",
    "        display(docs_out)\n",
    "        takedown_out = widgets.Output(layout={'border': '1px solid black'})\n",
    "        display(takedown_out)\n",
    "        email_out = widgets.Output(layout={'border': '1px solid black'})\n",
    "        display(email_out)\n",
    "        \n",
    "        # make the store accessible on the TakedownStore class\n",
    "        # this is a shortcut for getting the store inside callbacks\n",
    "        TakedownStore.data_store = data_store\n",
    "\n",
    "\n",
    "        def search_courses(data_store):\n",
    "            \"\"\"Make buttons for courses corresponding to the selected departments\"\"\"\n",
    "            course_buttons =[]\n",
    "            for i, r in data_store.selected_departments_data.iterrows():\n",
    "                course_buttons.append(make_course_b(r, data_store, search_documents))\n",
    "\n",
    "            buttons = widgets.VBox(course_buttons)\n",
    "            label = widgets.HTML(value=\"<h1>Select courses to search</h1>\")\n",
    "            courses_out.clear_output()\n",
    "            with courses_out:\n",
    "                display(widgets.VBox([label, buttons]))\n",
    "\n",
    "        def search_documents(data_store):\n",
    "            \"\"\"Displays selection buttons for the documents associated with the selected courses\"\"\"\n",
    "            rows = [widgets.HBox([make_infringement_b(d, data_store, show_takedown), widgets.HTML(value=make_link(d))]) for d in data_store.selected_courses_documents_urls]\n",
    "            docs_out.clear_output()\n",
    "            with open('{}/file_selection_instructions.html'.format(env.TEMPLATE_FOLDER), 'r') as o:\n",
    "                doc_instructions = o.read()\n",
    "\n",
    "            doc_instructions = widgets.HTML(value=doc_instructions)\n",
    "            with docs_out:\n",
    "                display(widgets.VBox([doc_instructions, widgets.VBox(rows)]))\n",
    "\n",
    "        def show_takedown(data_store):\n",
    "            \"\"\"Callback which controls whether the information about submitting a takedown request \n",
    "            is displayed\"\"\"\n",
    "            if len(data_store.infringing_docs) == 0: pass\n",
    "            \n",
    "            with open('{}/takedown_instructions.html'.format(env.TEMPLATE_FOLDER), 'r') as o:\n",
    "                takedown_instructions = o.read()\n",
    "                # add list of urls\n",
    "#                 url_list = make_infringing_table(data_store.infringing_doc_tuples)\n",
    "                url_list = make_infringing_lists(data_store.infringing_doc_tuples)\n",
    "#                 url_list = make_html_url_list(data_store.infringing_docs)\n",
    "                format_args = {'url_list':url_list}\n",
    "                takedown_instructions = takedown_instructions.format(**format_args)\n",
    "                takedown_instructions = widgets.HTML(value=takedown_instructions)\n",
    "            \n",
    "            takedown_out.clear_output()\n",
    "            \n",
    "            with takedown_out:\n",
    "                display(widgets.VBox([takedown_instructions, make_email_helper_button(show_email_draft_area)]))\n",
    "\n",
    "\n",
    "        # Show the department selection\n",
    "        # buttons and other output areas\n",
    "        with depts_out:\n",
    "            dept_selection(data_store, search_courses)\n",
    "    \n",
    "    except UnsetValue as e:\n",
    "        print(e.message)\n",
    "\n",
    "# dev !!!!!!!!!!!!!!!!!!\n",
    "# search_depts(DataStore)\n",
    "\n",
    "\n"
   ]
  },
  {
   "cell_type": "code",
   "execution_count": null,
   "metadata": {},
   "outputs": [],
   "source": []
  },
  {
   "cell_type": "code",
   "execution_count": null,
   "metadata": {},
   "outputs": [],
   "source": []
  },
  {
   "cell_type": "markdown",
   "metadata": {},
   "source": [
    "# Search for courses on the selected campus\n",
    "\n",
    "The next couple of cells will actually search for courses at the selected campus.\n",
    "\n",
    "NB, when the search starts it will display a message like \"Searching for California State University Dominguez hills\". You may need to wait a few seconds for it to complete.\n",
    "\n",
    "When the search completes, it will display buttons with all the departments found for the campus. Select all the departments you want to search for materials from..\n",
    "\n",
    "The site does not seem to standardize the departments students enter. Thus your class may be identified in some rather odd ways.\n",
    "\n"
   ]
  },
  {
   "cell_type": "markdown",
   "metadata": {},
   "source": [
    "# Select department names / abbreviations\n",
    "\n",
    "The site does not seem to standardize the departments students enter. Thus your class may be identified in some rather odd ways.\n",
    "\n",
    "Run the next cell and select all the possible departments using the buttons which display."
   ]
  },
  {
   "cell_type": "markdown",
   "metadata": {
    "ExecuteTime": {
     "end_time": "2019-02-16T06:17:24.526994Z",
     "start_time": "2019-02-16T06:17:23.927729Z"
    }
   },
   "source": [
    "# Display all courses with uploaded materials for the selected departments\n",
    "\n",
    "Run the next cell and select any of the courses which look like they may be yours"
   ]
  },
  {
   "cell_type": "markdown",
   "metadata": {},
   "source": [
    "# Find material uploaded for selected courses\n",
    "\n",
    "The following cells will query the site and retrieve the url's for all files that students have uploaded for the courses you've selected.\n",
    "\n",
    "You will need the file url's to request that the site remove the content via this website: https://www.coursehero.com/copyright-infringement/\n",
    "\n",
    "Remember that the url's this tool returns are simply all the files uploaded for the selected courses. \n",
    "\n",
    "*You must review the url's to determine that they infringe your rights.* \n",
    "\n",
    "Students may have uploaded their own intellectual property related to your course. You will infringe their rights if you request that their intellectual property be removed."
   ]
  }
 ],
 "metadata": {
  "kernelspec": {
   "display_name": "Python 3",
   "language": "python",
   "name": "python3"
  },
  "language_info": {
   "codemirror_mode": {
    "name": "ipython",
    "version": 3
   },
   "file_extension": ".py",
   "mimetype": "text/x-python",
   "name": "python",
   "nbconvert_exporter": "python",
   "pygments_lexer": "ipython3",
   "version": "3.6.4"
  },
  "latex_envs": {
   "LaTeX_envs_menu_present": true,
   "autoclose": false,
   "autocomplete": true,
   "bibliofile": "biblio.bib",
   "cite_by": "apalike",
   "current_citInitial": 1,
   "eqLabelWithNumbers": true,
   "eqNumInitial": 1,
   "hotkeys": {
    "equation": "Ctrl-E",
    "itemize": "Ctrl-I"
   },
   "labels_anchors": false,
   "latex_user_defs": false,
   "report_style_numbering": false,
   "user_envs_cfg": false
  },
  "toc": {
   "base_numbering": 1,
   "nav_menu": {},
   "number_sections": true,
   "sideBar": true,
   "skip_h1_title": false,
   "title_cell": "Table of Contents",
   "title_sidebar": "Contents",
   "toc_cell": false,
   "toc_position": {},
   "toc_section_display": true,
   "toc_window_display": false
  }
 },
 "nbformat": 4,
 "nbformat_minor": 2
}
