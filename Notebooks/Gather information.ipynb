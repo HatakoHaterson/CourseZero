{
 "cells": [
  {
   "cell_type": "markdown",
   "metadata": {},
   "source": [
    "# Disclaimer\n",
    "\n",
    "These are tools developed to help me determine when my intellectual property is posted without my permission online. \n",
    "These are tools created to help me ensure that content uploaded by students to the site do not infringe my intellectual property rights.\n",
    "\n",
    "They simply automate the process of searching the site and thus make it easier to determine which items infringe rights and which do not.\n",
    "\n",
    "They are extremely rough and probably not very user friendly. That said, I am making them public in case others find them useful.  \n",
    "\n",
    "These tools are provided in the hope that they will be useful to those seeking to protect their intellectual property, but WITHOUT ANY WARRANTY; without even the implied warranty of MERCHANTABILITY or FITNESS FOR A PARTICULAR PURPOSE.\n",
    "\n",
    "The tools are provided here with no warranty or claim that their use is consistent with any law, policy, terms of use policy, or any other constraint. IF YOU CHOOSE TO USE THEM, YOU AGREE TO REVIEW AND COMPLY WITH ALL RELEVANT POLICIES, INCLUDING SITE TERMS OF SERVICE, AND YOU AGREE THAT YOUR USE IS SOLELY AT YOUR OWN RISK.\n",
    "\n",
    "Questions, requests, complaints, or other feedback (or pull-requests!) are welcome through this project's github page\n",
    "        \n",
    "        https://github.com/HatakoHaterson/CourseZero\n",
    "\n",
    "Please understand that this is not an active project for me; I will monitor the project on github very infrequently.\n",
    "\n",
    "-- 復讐者\n",
    "\n",
    "\n",
    "View a static image of the main notebook (does not run) on Jupyter: \n",
    "    \n",
    "    https://nbviewer.jupyter.org/github/HatakoHaterson/CourseZero/blob/master/Notebooks/Gather%20information.ipynb?flush_cache=true\n",
    "\n",
    "Or run it on your own mini-server using Binder\n",
    "\n",
    "    https://mybinder.org/v2/gh/HatakoHaterson/CourseZero/master?filepath=Notebooks%2FGather%20information.ipynb\n"
   ]
  },
  {
   "cell_type": "markdown",
   "metadata": {},
   "source": [
    "# Get started\n",
    "\n",
    "Once the notebook has opened in binder, a toolbar will appear at the top of the notebook containing several buttons. The 'run' button is the most important.\n",
    "\n",
    "After you've opened the notebook in binder, click the run button above a few times. Each click runs the code in the highlighted cell. You can also press shift+return to run it. You can change which cell is highlighted with the up and down arrows or by just clicking on it.\n",
    "\n",
    "Try it with the next cell:"
   ]
  },
  {
   "cell_type": "code",
   "execution_count": null,
   "metadata": {
    "ExecuteTime": {
     "end_time": "2019-07-13T19:28:23.895625Z",
     "start_time": "2019-07-13T19:28:23.890936Z"
    }
   },
   "outputs": [],
   "source": [
    "print(\"You've successfully run this cell!\")"
   ]
  },
  {
   "cell_type": "markdown",
   "metadata": {},
   "source": [
    "Since these are rough-and-ready tools, I've left in much of the code. If you want to follow along, I've left comments to myself which identify the various steps. These are either single lines which start with a '#', like this: \n",
    "    \n",
    "    # Query the server for records\n",
    "    code code code\n",
    "    \n",
    "Or, multiple lines enclosed with three double quotes: \n",
    "    \n",
    "    \"\"\"blah blah\n",
    "    tacos are good\n",
    "    \"\"\"  \n",
    "\n",
    "You'll be able to tell that a cell is running by an asterisk appearing in the brackets to the left ( [ * ]). Some tasks may take a couple of minutes to run, so it may appear frozen.\n",
    "\n",
    "I haven't set it up with an easy way to reset things. If you want to search a different campus or different set of departments, use the 'restart kernel' button above (to the right of the run button).\n",
    "\n",
    "The next cell will grab and import all the code that operates behind the scenes. (If you're curious, you can check it out here: https://github.com/HatakoHaterson/CourseZero)"
   ]
  },
  {
   "cell_type": "code",
   "execution_count": 1,
   "metadata": {
    "ExecuteTime": {
     "end_time": "2019-07-17T20:51:52.613250Z",
     "start_time": "2019-07-17T20:51:52.203736Z"
    }
   },
   "outputs": [
    {
     "name": "stdout",
     "output_type": "stream",
     "text": [
      "/Users/adam/Dropbox/CourseZero\n"
     ]
    }
   ],
   "source": [
    "# for binder\n",
    "# !pip install CourseZero\n",
    "\n",
    "# for local testing\n",
    "%cd ../\n",
    "\n",
    "import json\n",
    "import pandas as pd\n",
    "\n",
    "import requests\n",
    "from bs4 import BeautifulSoup\n",
    "\n",
    "import environment as env\n",
    "from CourseZero.FileSystemTools import getSystemRoot\n",
    "\n",
    "from IPython.display import display, clear_output\n",
    "from ipywidgets import widgets\n",
    "\n",
    "from CourseZero.RequestTools import get_docs_for_campuses, get_docs_for_campus\n",
    "# from CourseZero.Store import DataStore\n",
    "from CourseZero.Widgets.CampusAndProfIdentifiers import make_campus_selector\n",
    "from CourseZero.FileSystemTools import getSystemRoot\n",
    "from CourseZero.DataStorageTools import load_campus_id_data\n",
    "\n",
    "from CourseZero.Errors import UnsetValue\n",
    "\n",
    "from environment import *\n"
   ]
  },
  {
   "cell_type": "markdown",
   "metadata": {
    "ExecuteTime": {
     "end_time": "2019-02-16T04:17:45.566277Z",
     "start_time": "2019-02-16T04:17:45.563812Z"
    }
   },
   "source": [
    "# Select your campus\n",
    "\n",
    "\n",
    "Running the next cell will display a selection menu. Use it to select the CSU you want to search.\n",
    "\n",
    "NB, for now this will only work with CSU campuses"
   ]
  },
  {
   "cell_type": "code",
   "execution_count": 2,
   "metadata": {
    "ExecuteTime": {
     "end_time": "2019-07-17T20:51:54.166291Z",
     "start_time": "2019-07-17T20:51:54.153658Z"
    }
   },
   "outputs": [],
   "source": [
    "from CourseZero.DataHandlingTools import parse_json_into_df,get_departments, filter_by_dept_abbrevs, get_by_course_id\n",
    "from CourseZero.Widgets.Inputs import dept_selection\n",
    "from CourseZero.Widgets.Inputs import make_course_b\n",
    "from CourseZero.Widgets.Inputs import make_link, make_infringement_b\n",
    "from CourseZero.Store import TakedownStore\n",
    "\n",
    "\n",
    "def search_depts(data_store):\n",
    "    # Query for results and parse them into a dataframe\n",
    "    try:\n",
    "        \n",
    "        # dev !!!!!!!!!!!!!!!!!!!!!!!!!!!!!!!!!!!!!!!!!\n",
    "        json_data = get_docs_for_campus(data_store.campus_id, data_store.campus_name)\n",
    "        data_store.data = parse_json_into_df(json_data)\n",
    "        \n",
    "        \n",
    "        print(\"{} courses identified at {}\".format(len(data_store.data), data_store.campus_name))\n",
    "        print(\"{} department names located\".format(len(data_store.departments)))\n",
    "        \n",
    "        # Create the output areas\n",
    "        depts_out = widgets.Output(layout={'border': '1px solid black'})\n",
    "        display(depts_out)\n",
    "        courses_out = widgets.Output(layout={'border': '1px solid black'})    \n",
    "        display(courses_out)\n",
    "        docs_out = widgets.Output(layout={'border': '1px solid black'})\n",
    "        display(docs_out)\n",
    "        progress_out = widgets.Output(layout={'border': '1px solid black'})\n",
    "        display(progress_out)\n",
    "\n",
    "        def search_courses(data_store):\n",
    "            # Make buttons for courses corresponding to the selected departments\n",
    "            course_buttons =[]\n",
    "            for i, r in data_store.selected_departments_data.iterrows():\n",
    "                course_buttons.append(make_course_b(r, data_store, search_documents))\n",
    "\n",
    "            buttons = widgets.VBox(course_buttons)\n",
    "            label = widgets.HTML(value=\"<h1>Select courses to search</h1>\")\n",
    "            courses_out.clear_output()\n",
    "            with courses_out:\n",
    "                display(widgets.VBox([label, buttons]))\n",
    "\n",
    "        def search_documents(data_store):\n",
    "            \"\"\"Displays selection buttons for the documents associated with the selected courses\"\"\"\n",
    "            rows = [widgets.HBox([make_infringement_b(d, TakedownStore), widgets.HTML(value=make_link(d))]) for d in data_store.selected_courses_documents_urls]\n",
    "            docs_out.clear_output()\n",
    "            doc_instructions = widgets.HTML(value=\"Instructions about docs here\")\n",
    "            with docs_out:\n",
    "                display(widgets.VBox([doc_instructions, widgets.VBox(rows)]))\n",
    "\n",
    "        with depts_out:\n",
    "            dept_selection(data_store, search_courses)\n",
    "    \n",
    "    except UnsetValue as e:\n",
    "        print(e.message)\n",
    "\n",
    "# search_depts(DataStore)\n",
    "\n"
   ]
  },
  {
   "cell_type": "code",
   "execution_count": 3,
   "metadata": {
    "ExecuteTime": {
     "end_time": "2019-07-17T20:52:00.729796Z",
     "start_time": "2019-07-17T20:52:00.717947Z"
    }
   },
   "outputs": [
    {
     "data": {
      "application/vnd.jupyter.widget-view+json": {
       "model_id": "ddb1c485df774a0499a6f8407a5ee10d",
       "version_major": 2,
       "version_minor": 0
      },
      "text/plain": [
       "Dropdown(description='Campus', layout=Layout(width='80%'), options=('California State University Bakersfield',…"
      ]
     },
     "metadata": {},
     "output_type": "display_data"
    },
    {
     "name": "stdout",
     "output_type": "stream",
     "text": [
      "Searching for California Maritime Academy\n",
      "34 courses identified at California Maritime Academy\n",
      "23 department names located\n"
     ]
    },
    {
     "data": {
      "application/vnd.jupyter.widget-view+json": {
       "model_id": "26b9bcd2b0a1481aa97d1608fd5cf2d0",
       "version_major": 2,
       "version_minor": 0
      },
      "text/plain": [
       "Output(layout=Layout(border='1px solid black'))"
      ]
     },
     "metadata": {},
     "output_type": "display_data"
    },
    {
     "data": {
      "application/vnd.jupyter.widget-view+json": {
       "model_id": "6656fc60423a438ab2227ff7be131678",
       "version_major": 2,
       "version_minor": 0
      },
      "text/plain": [
       "Output(layout=Layout(border='1px solid black'))"
      ]
     },
     "metadata": {},
     "output_type": "display_data"
    },
    {
     "data": {
      "application/vnd.jupyter.widget-view+json": {
       "model_id": "5125a9c8b5a140f096e03806eb6a14f6",
       "version_major": 2,
       "version_minor": 0
      },
      "text/plain": [
       "Output(layout=Layout(border='1px solid black'))"
      ]
     },
     "metadata": {},
     "output_type": "display_data"
    },
    {
     "data": {
      "application/vnd.jupyter.widget-view+json": {
       "model_id": "55663f32fa3c4ca3b0d454e2cd449e1a",
       "version_major": 2,
       "version_minor": 0
      },
      "text/plain": [
       "Output(layout=Layout(border='1px solid black'))"
      ]
     },
     "metadata": {},
     "output_type": "display_data"
    }
   ],
   "source": [
    "# todo: this needs a default non csu campus\n",
    "\n",
    "make_campus_selector(DataStore, search_depts)"
   ]
  },
  {
   "cell_type": "code",
   "execution_count": null,
   "metadata": {},
   "outputs": [],
   "source": []
  },
  {
   "cell_type": "code",
   "execution_count": null,
   "metadata": {},
   "outputs": [],
   "source": []
  },
  {
   "cell_type": "code",
   "execution_count": null,
   "metadata": {},
   "outputs": [],
   "source": []
  },
  {
   "cell_type": "code",
   "execution_count": null,
   "metadata": {},
   "outputs": [],
   "source": []
  },
  {
   "cell_type": "code",
   "execution_count": null,
   "metadata": {},
   "outputs": [],
   "source": []
  },
  {
   "cell_type": "code",
   "execution_count": null,
   "metadata": {},
   "outputs": [],
   "source": []
  },
  {
   "cell_type": "code",
   "execution_count": null,
   "metadata": {},
   "outputs": [],
   "source": []
  },
  {
   "cell_type": "code",
   "execution_count": 3,
   "metadata": {
    "ExecuteTime": {
     "end_time": "2019-07-17T20:15:57.837649Z",
     "start_time": "2019-07-17T20:15:57.827657Z"
    }
   },
   "outputs": [
    {
     "ename": "NameError",
     "evalue": "name 'widgets' is not defined",
     "output_type": "error",
     "traceback": [
      "\u001b[0;31m---------------------------------------------------------------------------\u001b[0m",
      "\u001b[0;31mNameError\u001b[0m                                 Traceback (most recent call last)",
      "\u001b[0;32m<ipython-input-3-a6bb85e86c8d>\u001b[0m in \u001b[0;36m<module>\u001b[0;34m\u001b[0m\n\u001b[0;32m----> 1\u001b[0;31m \u001b[0mout\u001b[0m \u001b[0;34m=\u001b[0m \u001b[0mwidgets\u001b[0m\u001b[0;34m.\u001b[0m\u001b[0mOutput\u001b[0m\u001b[0;34m(\u001b[0m\u001b[0mlayout\u001b[0m\u001b[0;34m=\u001b[0m\u001b[0;34m{\u001b[0m\u001b[0;34m'border'\u001b[0m\u001b[0;34m:\u001b[0m \u001b[0;34m'1px solid black'\u001b[0m\u001b[0;34m}\u001b[0m\u001b[0;34m)\u001b[0m\u001b[0;34m\u001b[0m\u001b[0m\n\u001b[0m\u001b[1;32m      2\u001b[0m \u001b[0mout2\u001b[0m \u001b[0;34m=\u001b[0m \u001b[0mwidgets\u001b[0m\u001b[0;34m.\u001b[0m\u001b[0mOutput\u001b[0m\u001b[0;34m(\u001b[0m\u001b[0mlayout\u001b[0m\u001b[0;34m=\u001b[0m\u001b[0;34m{\u001b[0m\u001b[0;34m'border'\u001b[0m\u001b[0;34m:\u001b[0m \u001b[0;34m'1px solid black'\u001b[0m\u001b[0;34m}\u001b[0m\u001b[0;34m)\u001b[0m\u001b[0;34m\u001b[0m\u001b[0m\n",
      "\u001b[0;31mNameError\u001b[0m: name 'widgets' is not defined"
     ]
    }
   ],
   "source": [
    "out = widgets.Output(layout={'border': '1px solid black'})\n",
    "out2 = widgets.Output(layout={'border': '1px solid black'})\n"
   ]
  },
  {
   "cell_type": "code",
   "execution_count": null,
   "metadata": {
    "ExecuteTime": {
     "end_time": "2019-07-17T20:15:57.839990Z",
     "start_time": "2019-07-17T20:15:57.782Z"
    }
   },
   "outputs": [],
   "source": [
    "out"
   ]
  },
  {
   "cell_type": "code",
   "execution_count": null,
   "metadata": {
    "ExecuteTime": {
     "end_time": "2019-07-17T00:43:00.821202Z",
     "start_time": "2019-07-17T00:43:00.815536Z"
    }
   },
   "outputs": [],
   "source": [
    "out2"
   ]
  },
  {
   "cell_type": "code",
   "execution_count": null,
   "metadata": {
    "ExecuteTime": {
     "end_time": "2019-07-17T00:35:03.757598Z",
     "start_time": "2019-07-17T00:35:03.744882Z"
    }
   },
   "outputs": [],
   "source": [
    "with out:\n",
    "    display(widgets.IntSlider())"
   ]
  },
  {
   "cell_type": "code",
   "execution_count": 8,
   "metadata": {
    "ExecuteTime": {
     "end_time": "2019-07-17T20:43:00.870452Z",
     "start_time": "2019-07-17T20:43:00.844515Z"
    }
   },
   "outputs": [
    {
     "data": {
      "text/html": [
       "<div>\n",
       "<style scoped>\n",
       "    .dataframe tbody tr th:only-of-type {\n",
       "        vertical-align: middle;\n",
       "    }\n",
       "\n",
       "    .dataframe tbody tr th {\n",
       "        vertical-align: top;\n",
       "    }\n",
       "\n",
       "    .dataframe thead th {\n",
       "        text-align: right;\n",
       "    }\n",
       "</style>\n",
       "<table border=\"1\" class=\"dataframe\">\n",
       "  <thead>\n",
       "    <tr style=\"text-align: right;\">\n",
       "      <th></th>\n",
       "      <th>Essays</th>\n",
       "      <th>Homework Help</th>\n",
       "      <th>Lab Reports</th>\n",
       "      <th>Notes</th>\n",
       "      <th>Test Prep</th>\n",
       "      <th>canonical_course_id</th>\n",
       "      <th>course_id</th>\n",
       "      <th>course_info</th>\n",
       "      <th>course_name</th>\n",
       "      <th>course_num</th>\n",
       "      <th>...</th>\n",
       "      <th>prof_id</th>\n",
       "      <th>prof_name</th>\n",
       "      <th>school_name</th>\n",
       "      <th>term</th>\n",
       "      <th>title</th>\n",
       "      <th>total_doc_count</th>\n",
       "      <th>type</th>\n",
       "      <th>url</th>\n",
       "      <th>verified</th>\n",
       "      <th>year</th>\n",
       "    </tr>\n",
       "  </thead>\n",
       "  <tbody>\n",
       "    <tr>\n",
       "      <th>18</th>\n",
       "      <td>NaN</td>\n",
       "      <td>NaN</td>\n",
       "      <td>NaN</td>\n",
       "      <td>17</td>\n",
       "      <td>NaN</td>\n",
       "      <td>1406353</td>\n",
       "      <td>1406353</td>\n",
       "      <td>ECON 123 s123</td>\n",
       "      <td>s123</td>\n",
       "      <td>123</td>\n",
       "      <td>...</td>\n",
       "      <td>266506</td>\n",
       "      <td>scruble</td>\n",
       "      <td>California Maritime Academy</td>\n",
       "      <td>2</td>\n",
       "      <td>California Maritime Academy - ECON 123 - s123</td>\n",
       "      <td>17</td>\n",
       "      <td>course</td>\n",
       "      <td>/sitemap/schools/245-California-Maritime-Acade...</td>\n",
       "      <td>0</td>\n",
       "      <td>2010</td>\n",
       "    </tr>\n",
       "    <tr>\n",
       "      <th>23</th>\n",
       "      <td>NaN</td>\n",
       "      <td>NaN</td>\n",
       "      <td>NaN</td>\n",
       "      <td>2</td>\n",
       "      <td>NaN</td>\n",
       "      <td>1528511</td>\n",
       "      <td>1528511</td>\n",
       "      <td>ECON 102 macroeconomics</td>\n",
       "      <td>macroeconomics</td>\n",
       "      <td>102</td>\n",
       "      <td>...</td>\n",
       "      <td>331859</td>\n",
       "      <td>niles</td>\n",
       "      <td>California Maritime Academy</td>\n",
       "      <td>3</td>\n",
       "      <td>California Maritime Academy - ECON 102 - macro...</td>\n",
       "      <td>2</td>\n",
       "      <td>course</td>\n",
       "      <td>/sitemap/schools/245-California-Maritime-Acade...</td>\n",
       "      <td>0</td>\n",
       "      <td>2012</td>\n",
       "    </tr>\n",
       "    <tr>\n",
       "      <th>30</th>\n",
       "      <td>NaN</td>\n",
       "      <td>NaN</td>\n",
       "      <td>NaN</td>\n",
       "      <td>1</td>\n",
       "      <td>NaN</td>\n",
       "      <td>1431617</td>\n",
       "      <td>1431617</td>\n",
       "      <td>ECON 401 Mba</td>\n",
       "      <td>Mba</td>\n",
       "      <td>401</td>\n",
       "      <td>...</td>\n",
       "      <td>279490</td>\n",
       "      <td>Alex</td>\n",
       "      <td>California Maritime Academy</td>\n",
       "      <td>3</td>\n",
       "      <td>California Maritime Academy - ECON 401 - Mba</td>\n",
       "      <td>1</td>\n",
       "      <td>course</td>\n",
       "      <td>/sitemap/schools/245-California-Maritime-Acade...</td>\n",
       "      <td>0</td>\n",
       "      <td>2011</td>\n",
       "    </tr>\n",
       "  </tbody>\n",
       "</table>\n",
       "<p>3 rows × 23 columns</p>\n",
       "</div>"
      ],
      "text/plain": [
       "   Essays Homework Help Lab Reports Notes Test Prep canonical_course_id  \\\n",
       "18    NaN           NaN         NaN    17       NaN             1406353   \n",
       "23    NaN           NaN         NaN     2       NaN             1528511   \n",
       "30    NaN           NaN         NaN     1       NaN             1431617   \n",
       "\n",
       "   course_id              course_info     course_name course_num  ...   \\\n",
       "18   1406353            ECON 123 s123            s123        123  ...    \n",
       "23   1528511  ECON 102 macroeconomics  macroeconomics        102  ...    \n",
       "30   1431617             ECON 401 Mba             Mba        401  ...    \n",
       "\n",
       "   prof_id prof_name                  school_name term  \\\n",
       "18  266506   scruble  California Maritime Academy    2   \n",
       "23  331859     niles  California Maritime Academy    3   \n",
       "30  279490      Alex  California Maritime Academy    3   \n",
       "\n",
       "                                                title total_doc_count    type  \\\n",
       "18      California Maritime Academy - ECON 123 - s123              17  course   \n",
       "23  California Maritime Academy - ECON 102 - macro...               2  course   \n",
       "30       California Maritime Academy - ECON 401 - Mba               1  course   \n",
       "\n",
       "                                                  url  verified  year  \n",
       "18  /sitemap/schools/245-California-Maritime-Acade...         0  2010  \n",
       "23  /sitemap/schools/245-California-Maritime-Acade...         0  2012  \n",
       "30  /sitemap/schools/245-California-Maritime-Acade...         0  2011  \n",
       "\n",
       "[3 rows x 23 columns]"
      ]
     },
     "execution_count": 8,
     "metadata": {},
     "output_type": "execute_result"
    }
   ],
   "source": [
    "DataStore.selected_courses_documents"
   ]
  },
  {
   "cell_type": "code",
   "execution_count": null,
   "metadata": {
    "ExecuteTime": {
     "end_time": "2019-07-17T00:28:22.087674Z",
     "start_time": "2019-07-17T00:28:22.083101Z"
    }
   },
   "outputs": [],
   "source": [
    "def progress_bar():\n",
    "    return widgets.FloatProgress(\n",
    "    value=7.5,\n",
    "    min=0,\n",
    "    max=10.0,\n",
    "    step=0.1,\n",
    "    description='Loading:',\n",
    "    bar_style='info',\n",
    "    orientation='horizontal'\n",
    ")"
   ]
  },
  {
   "cell_type": "code",
   "execution_count": null,
   "metadata": {
    "ExecuteTime": {
     "end_time": "2019-07-17T00:18:40.082861Z",
     "start_time": "2019-07-17T00:18:40.078834Z"
    }
   },
   "outputs": [],
   "source": [
    "DataStore.campus_id"
   ]
  },
  {
   "cell_type": "code",
   "execution_count": null,
   "metadata": {
    "ExecuteTime": {
     "end_time": "2019-07-16T23:47:15.204921Z",
     "start_time": "2019-07-16T23:47:15.201921Z"
    }
   },
   "outputs": [],
   "source": [
    "DataStore.campus_name"
   ]
  },
  {
   "cell_type": "code",
   "execution_count": null,
   "metadata": {
    "ExecuteTime": {
     "end_time": "2019-07-16T23:47:15.461944Z",
     "start_time": "2019-07-16T23:47:15.457616Z"
    }
   },
   "outputs": [],
   "source": [
    "# add check to make sure they actually selected something\n",
    "def check_selected(data_store):\n",
    "    if data_store.campus_id is None:\n",
    "#         out = widgets.Output(layout={'border': '5px solid red'})\n",
    "#         out.append_display_data(\"Please select a campus to search using the dropdown menu above\")\n",
    "        print(\"Please select a campus to search using the dropdown menu above\")\n",
    "check_selected(DataStore)"
   ]
  },
  {
   "cell_type": "markdown",
   "metadata": {},
   "source": [
    "# Search for courses on the selected campus\n",
    "\n",
    "The next couple of cells will actually search for courses at the selected campus.\n",
    "\n",
    "NB, when the search starts it will display a message like \"Searching for California State University Dominguez hills\". You may need to wait a few seconds for it to complete.\n",
    "\n",
    "When the search completes, it will display buttons with all the departments found for the campus. Select all the departments you want to search for materials from..\n",
    "\n",
    "The site does not seem to standardize the departments students enter. Thus your class may be identified in some rather odd ways.\n",
    "\n"
   ]
  },
  {
   "cell_type": "markdown",
   "metadata": {},
   "source": [
    "# Select department names / abbreviations\n",
    "\n",
    "The site does not seem to standardize the departments students enter. Thus your class may be identified in some rather odd ways.\n",
    "\n",
    "Run the next cell and select all the possible departments using the buttons which display."
   ]
  },
  {
   "cell_type": "markdown",
   "metadata": {
    "ExecuteTime": {
     "end_time": "2019-02-16T06:17:24.526994Z",
     "start_time": "2019-02-16T06:17:23.927729Z"
    }
   },
   "source": [
    "# Display all courses with uploaded materials for the selected departments\n",
    "\n",
    "Run the next cell and select any of the courses which look like they may be yours"
   ]
  },
  {
   "cell_type": "markdown",
   "metadata": {},
   "source": [
    "# Find material uploaded for selected courses\n",
    "\n",
    "The following cells will query the site and retrieve the url's for all files that students have uploaded for the courses you've selected.\n",
    "\n",
    "You will need the file url's to request that the site remove the content via this website: https://www.coursehero.com/copyright-infringement/\n",
    "\n",
    "Remember that the url's this tool returns are simply all the files uploaded for the selected courses. \n",
    "\n",
    "*You must review the url's to determine that they infringe your rights.* \n",
    "\n",
    "Students may have uploaded their own intellectual property related to your course. You will infringe their rights if you request that their intellectual property be removed."
   ]
  },
  {
   "cell_type": "code",
   "execution_count": null,
   "metadata": {
    "ExecuteTime": {
     "end_time": "2019-07-13T19:38:55.707961Z",
     "start_time": "2019-07-13T19:38:55.651000Z"
    }
   },
   "outputs": [],
   "source": [
    "from CourseZero.RequestTools import get_file_links_from_course_page\n",
    "from CourseZero.Widgets.Inputs import show_selected_urls\n",
    "from CourseZero.Store import TakedownStore\n",
    "from CourseZero.Widgets.Inputs import make_link, make_infringement_b\n",
    "\n",
    "\n",
    "# Testing\n",
    "docs = ['url1', 'url2', 'url3']\n",
    "\n",
    "# # For reals\n",
    "# # docs = get_urls(data)\n",
    "# # docs = DataStore.selected_courses_documents_urls\n",
    "\n",
    "# # show_selected_urls(data)\n",
    "# def search_documents(documents):\n",
    "#     \"\"\"Displays selection buttons for the documents associated with the selected courses\"\"\"\n",
    "#     rows = [widgets.HBox([make_infringement_b(d, TakedownStore), widgets.HTML(value=make_link(d))]) for d in documents]\n",
    "#     display(widgets.VBox(rows))"
   ]
  },
  {
   "cell_type": "markdown",
   "metadata": {
    "ExecuteTime": {
     "end_time": "2019-07-12T22:53:44.177038Z",
     "start_time": "2019-07-12T22:53:44.174326Z"
    }
   },
   "source": [
    "# Request takedown\n",
    "\n",
    "CourseHero requests that you use their online form for submitting takedown requests. The form is https://www.coursehero.com/copyright-infringement/\n",
    "\n",
    "However, they also provide the alternative of emailing or faxing a letter to DMCA@coursehero.com\n",
    "\n",
    "You can generate the text of an email below.\n",
    "\n",
    "    To file a DMCA takedown request, please complete the Copyright Infringement Notification form below.\n",
    "\n",
    "    You will need to identify the infringing work(s) by providing the specific identification and location of the infringing work(s), including its URL or URLs on Course Hero. Each URL should be in the following format: https://www.coursehero.com/file/xxxx/...\n",
    "\n",
    "    Once you submit a complete takedown request using our Copyright Infringement Notification form, our DMCA Compliance Team will quickly take action to remove the infringing content. You will be notified once the content has been removed.\n",
    "\n",
    "    We are dedicated to helping copyright holders protect their work. As an an alternative to completing this form, you can email or fax your DMCA notification to DMCA@coursehero.com. If you have any questions or need assistance in completing your takedown request, please contact us at DMCA@coursehero.com.\n"
   ]
  },
  {
   "cell_type": "markdown",
   "metadata": {},
   "source": [
    "Review each document below by clicking on the url (it should open the document on the CourseHero website in a new window/tab). If you believe it infringes your copyright, click the corresponding button on the right."
   ]
  },
  {
   "cell_type": "markdown",
   "metadata": {},
   "source": [
    "## Help with submitting through the webform\n",
    "\n",
    "If you would like to submit the request using CourseHero's webform, here are the document names (as submitted by the student) and the corresponding url's"
   ]
  },
  {
   "cell_type": "code",
   "execution_count": null,
   "metadata": {
    "ExecuteTime": {
     "end_time": "2019-07-13T19:39:02.447846Z",
     "start_time": "2019-07-13T19:39:02.445494Z"
    }
   },
   "outputs": [],
   "source": [
    "# display non-link formatted urls and doc names"
   ]
  },
  {
   "cell_type": "code",
   "execution_count": null,
   "metadata": {},
   "outputs": [],
   "source": [
    "# todo: change to use the selected urls in TakedownStore\n",
    "show_selected_urls(data)\n"
   ]
  },
  {
   "cell_type": "markdown",
   "metadata": {},
   "source": [
    "## Help with email request\n",
    "If you would like to make the request via email, input your information below to generate draft email text."
   ]
  },
  {
   "cell_type": "code",
   "execution_count": null,
   "metadata": {
    "ExecuteTime": {
     "end_time": "2019-07-13T19:39:03.413035Z",
     "start_time": "2019-07-13T19:39:03.349942Z"
    }
   },
   "outputs": [],
   "source": [
    "from CourseZero.Widgets.TakedownInputs import make_text_input\n",
    "\n",
    "r=[make_text_input(r) for r in TakedownStore.input_fields]"
   ]
  },
  {
   "cell_type": "code",
   "execution_count": null,
   "metadata": {
    "ExecuteTime": {
     "end_time": "2019-07-13T19:39:03.613534Z",
     "start_time": "2019-07-13T19:39:03.598872Z"
    }
   },
   "outputs": [],
   "source": [
    "with open('{}/takedown_request.html'.format(env.TEMPLATE_FOLDER), 'r') as o:\n",
    "    template = o.read()\n",
    "display(widgets.HTML(value=template.format(**TakedownStore.format_args())))"
   ]
  },
  {
   "cell_type": "code",
   "execution_count": null,
   "metadata": {},
   "outputs": [],
   "source": []
  }
 ],
 "metadata": {
  "kernelspec": {
   "display_name": "Python 3",
   "language": "python",
   "name": "python3"
  },
  "language_info": {
   "codemirror_mode": {
    "name": "ipython",
    "version": 3
   },
   "file_extension": ".py",
   "mimetype": "text/x-python",
   "name": "python",
   "nbconvert_exporter": "python",
   "pygments_lexer": "ipython3",
   "version": "3.6.4"
  },
  "latex_envs": {
   "LaTeX_envs_menu_present": true,
   "autoclose": false,
   "autocomplete": true,
   "bibliofile": "biblio.bib",
   "cite_by": "apalike",
   "current_citInitial": 1,
   "eqLabelWithNumbers": true,
   "eqNumInitial": 1,
   "hotkeys": {
    "equation": "Ctrl-E",
    "itemize": "Ctrl-I"
   },
   "labels_anchors": false,
   "latex_user_defs": false,
   "report_style_numbering": false,
   "user_envs_cfg": false
  },
  "toc": {
   "base_numbering": 1,
   "nav_menu": {},
   "number_sections": true,
   "sideBar": true,
   "skip_h1_title": false,
   "title_cell": "Table of Contents",
   "title_sidebar": "Contents",
   "toc_cell": false,
   "toc_position": {},
   "toc_section_display": true,
   "toc_window_display": false
  }
 },
 "nbformat": 4,
 "nbformat_minor": 2
}
