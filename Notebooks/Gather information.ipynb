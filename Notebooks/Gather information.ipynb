{
 "cells": [
  {
   "cell_type": "markdown",
   "metadata": {},
   "source": [
    "# Disclaimer\n",
    "\n",
    "These are tools developed to help me determine when my intellectual property is posted without my permission online. \n",
    "These are tools created to help me ensure that content uploaded by students to the site do not infringe my intellectual property rights.\n",
    "\n",
    "They simply automate the process of searching the site and thus make it easier to determine which items infringe rights and which do not.\n",
    "\n",
    "They are extremely rough and probably not very user friendly. That said, I am making them public in case others find them useful.  \n",
    "\n",
    "These tools are provided in the hope that they will be useful to those seeking to protect their intellectual property, but WITHOUT ANY WARRANTY; without even the implied warranty of MERCHANTABILITY or FITNESS FOR A PARTICULAR PURPOSE.\n",
    "\n",
    "The tools are provided here with no warranty or claim that their use is consistent with any law, policy, terms of use policy, or any other constraint. IF YOU CHOOSE TO USE THEM, YOU AGREE TO REVIEW AND COMPLY WITH ALL RELEVANT POLICIES, INCLUDING SITE TERMS OF SERVICE, AND YOU AGREE THAT YOUR USE IS SOLELY AT YOUR OWN RISK.\n",
    "\n",
    "Questions, requests, complaints, or other feedback (or pull-requests!) are welcome through this project's github page\n",
    "        \n",
    "        https://github.com/HatakoHaterson/CourseZero\n",
    "\n",
    "Please understand that this is not an active project for me; I will monitor the project on github very infrequently.\n",
    "\n",
    "-- 復讐者\n",
    "\n",
    "\n",
    "View a static image of the main notebook (does not run) on Jupyter: \n",
    "    \n",
    "    https://nbviewer.jupyter.org/github/HatakoHaterson/CourseZero/blob/master/Notebooks/Gather%20information.ipynb?flush_cache=true\n",
    "\n",
    "Or run it on your own mini-server using Binder\n",
    "\n",
    "    https://mybinder.org/v2/gh/HatakoHaterson/CourseZero/master?filepath=Notebooks%2FGather%20information.ipynb\n"
   ]
  },
  {
   "cell_type": "markdown",
   "metadata": {},
   "source": [
    "# Get started\n",
    "\n",
    "Once the notebook has opened in binder, a toolbar will appear at the top of the notebook containing several buttons. The 'run' button is the most important.\n",
    "\n",
    "After you've opened the notebook in binder, click the run button above a few times. Each click runs the code in the highlighted cell. You can also press shift+return to run it. You can change which cell is highlighted with the up and down arrows or by just clicking on it.\n",
    "\n",
    "Try it with the next cell:"
   ]
  },
  {
   "cell_type": "code",
   "execution_count": null,
   "metadata": {
    "ExecuteTime": {
     "end_time": "2019-07-12T01:14:09.421076Z",
     "start_time": "2019-07-12T01:14:09.417095Z"
    }
   },
   "outputs": [],
   "source": [
    "print(\"You've successfully run this cell!\")"
   ]
  },
  {
   "cell_type": "markdown",
   "metadata": {},
   "source": [
    "Since these are rough-and-ready tools, I've left in much of the code. If you want to follow along, I've left comments to myself which identify the various steps. These are either single lines which start with a '#', like this: \n",
    "    \n",
    "    # Query the server for records\n",
    "    code code code\n",
    "    \n",
    "Or, multiple lines enclosed with three double quotes: \n",
    "    \n",
    "    \"\"\"blah blah\n",
    "    tacos are good\n",
    "    \"\"\"  \n",
    "\n",
    "You'll be able to tell that a cell is running by an asterisk appearing in the brackets to the left ( [ * ]). Some tasks may take a couple of minutes to run, so it may appear frozen.\n",
    "\n",
    "I haven't set it up with an easy way to reset things. If you want to search a different campus or different set of departments, use the 'restart kernel' button above (to the right of the run button).\n",
    "\n",
    "The next cell will grab and import all the code that operates behind the scenes. (If you're curious, you can check it out here: https://github.com/HatakoHaterson/CourseZero)"
   ]
  },
  {
   "cell_type": "code",
   "execution_count": 3,
   "metadata": {
    "ExecuteTime": {
     "end_time": "2019-07-12T01:15:24.481336Z",
     "start_time": "2019-07-12T01:15:24.473506Z"
    }
   },
   "outputs": [
    {
     "name": "stdout",
     "output_type": "stream",
     "text": [
      "/Users/adam/Dropbox\n"
     ]
    }
   ],
   "source": [
    "# for binder\n",
    "# !pip install CourseZero\n",
    "\n",
    "# for local testing\n",
    "%cd ../\n",
    "\n",
    "import json\n",
    "import pandas as pd\n",
    "\n",
    "import requests\n",
    "from bs4 import BeautifulSoup\n",
    "\n",
    "import environment as env\n",
    "from CourseZero.FileSystemTools import getSystemRoot\n",
    "\n",
    "from IPython.display import display\n",
    "from ipywidgets import widgets\n",
    "\n",
    "from CourseZero.RequestTools import get_docs_for_campuses, get_docs_for_campus\n",
    "from CourseZero.Store import DataStore\n",
    "from CourseZero.Widgets.CampusAndProfIdentifiers import make_campus_selector\n",
    "from CourseZero.FileSystemTools import getSystemRoot\n",
    "from CourseZero.DataStorageTools import load_campus_id_data"
   ]
  },
  {
   "cell_type": "code",
   "execution_count": 9,
   "metadata": {
    "ExecuteTime": {
     "end_time": "2019-07-12T01:37:00.900051Z",
     "start_time": "2019-07-12T01:37:00.894211Z"
    }
   },
   "outputs": [
    {
     "name": "stdout",
     "output_type": "stream",
     "text": [
      "t\n"
     ]
    }
   ],
   "source": [
    "import sys\n",
    "\n",
    "def t():\n",
    "    this_function_name = sys._getframe().f_code.co_name\n",
    "    print(this_function_name)\n",
    "t()"
   ]
  },
  {
   "cell_type": "code",
   "execution_count": 24,
   "metadata": {
    "ExecuteTime": {
     "end_time": "2019-07-12T01:48:11.255271Z",
     "start_time": "2019-07-12T01:48:11.251516Z"
    }
   },
   "outputs": [],
   "source": [
    "\n",
    "def func_timer_decorator(func):\n",
    "    def func_wrapper(*args, **kwargs):\n",
    "        with EnterExitLog(func.__qualname__):\n",
    "            return func(*args, **kwargs)\n",
    "\n",
    "    return func_wrapper"
   ]
  },
  {
   "cell_type": "code",
   "execution_count": 44,
   "metadata": {
    "ExecuteTime": {
     "end_time": "2019-07-12T01:55:34.185042Z",
     "start_time": "2019-07-12T01:55:34.177969Z"
    }
   },
   "outputs": [],
   "source": [
    "def prop_inspector_dec(func):\n",
    "    def func_wrapper(*args, **kwargs):\n",
    "        cls_name = func.__qualname__.split('.')[0]\n",
    "        cls_prop_name = \"_{}\".format(func.__name__)\n",
    "        print(cls_name, cls_prop_name)\n",
    "        if getattr(args[0], cls_prop_name) is None:\n",
    "            print('oops')\n",
    "        return func(*args, **kwargs)\n",
    "\n",
    "    return func_wrapper\n",
    "\n",
    "\n",
    "class T(object):\n",
    "    _p = None\n",
    "    \n",
    "    def __init__(self):\n",
    "        pass\n",
    "\n",
    "    @property\n",
    "    @prop_inspector_dec\n",
    "    def p(cls):\n",
    "        return cls._p\n"
   ]
  },
  {
   "cell_type": "code",
   "execution_count": 45,
   "metadata": {
    "ExecuteTime": {
     "end_time": "2019-07-12T01:55:34.772736Z",
     "start_time": "2019-07-12T01:55:34.767782Z"
    }
   },
   "outputs": [
    {
     "name": "stdout",
     "output_type": "stream",
     "text": [
      "T _p\n",
      "oops\n"
     ]
    }
   ],
   "source": [
    "t = T()\n",
    "\n",
    "# getattr(t, '_p')\n",
    "t.p"
   ]
  },
  {
   "cell_type": "markdown",
   "metadata": {
    "ExecuteTime": {
     "end_time": "2019-02-16T04:17:45.566277Z",
     "start_time": "2019-02-16T04:17:45.563812Z"
    }
   },
   "source": [
    "# Select your campus\n",
    "\n",
    "\n",
    "Running the next cell will display a selection menu. Use it to select the CSU you want to search.\n",
    "\n",
    "NB, for now this will only work with CSU campuses"
   ]
  },
  {
   "cell_type": "code",
   "execution_count": 5,
   "metadata": {
    "ExecuteTime": {
     "end_time": "2019-07-12T01:15:29.783475Z",
     "start_time": "2019-07-12T01:15:29.769416Z"
    }
   },
   "outputs": [
    {
     "data": {
      "application/vnd.jupyter.widget-view+json": {
       "model_id": "9e6e12edda5e45de884425a0e8992544",
       "version_major": 2,
       "version_minor": 0
      },
      "text/plain": [
       "Dropdown(description='Campus', layout=Layout(width='80%'), options=('California State University Bakersfield',…"
      ]
     },
     "metadata": {},
     "output_type": "display_data"
    }
   ],
   "source": [
    "# Load the campus ids from a file\n",
    "# csu_id_data = '{}/csu_ids.json'.format(env.DATA_FOLDER)\n",
    "campus_ids = load_campus_id_data(env.DEFAULT_CSU_ID_FILE)\n",
    "csu_names = [c['name'] for c in campus_ids]\n",
    "# Display the selector\n",
    "make_campus_selector(DataStore, campus_ids)"
   ]
  },
  {
   "cell_type": "markdown",
   "metadata": {},
   "source": [
    "# Search for courses on the selected campus\n",
    "\n",
    "The next couple of cells will actually search for courses at the selected campus.\n",
    "\n",
    "NB, when the search starts it will display a message like \"Searching for California State University Dominguez hills\". You may need to wait a few seconds for it to complete."
   ]
  },
  {
   "cell_type": "code",
   "execution_count": 6,
   "metadata": {
    "ExecuteTime": {
     "end_time": "2019-07-12T01:15:45.819429Z",
     "start_time": "2019-07-12T01:15:33.664310Z"
    }
   },
   "outputs": [
    {
     "name": "stdout",
     "output_type": "stream",
     "text": [
      "Searching for None\n"
     ]
    },
    {
     "ename": "KeyError",
     "evalue": "\"['canonical_course_id' 'course_id' 'course_info' 'course_name'\\n 'course_num' 'dept_acro' 'dept_id' 'dept_name' 'doc_counts' 'prof_id'\\n 'prof_name' 'school_name' 'term' 'title' 'total_doc_count' 'type' 'url'\\n 'verified' 'year'] not in index\"",
     "output_type": "error",
     "traceback": [
      "\u001b[0;31m---------------------------------------------------------------------------\u001b[0m",
      "\u001b[0;31mKeyError\u001b[0m                                  Traceback (most recent call last)",
      "\u001b[0;32m<ipython-input-6-38fdba271045>\u001b[0m in \u001b[0;36m<module>\u001b[0;34m\u001b[0m\n\u001b[1;32m     88\u001b[0m \u001b[0;31m# Query for results and parse them into a dataframe\u001b[0m\u001b[0;34m\u001b[0m\u001b[0;34m\u001b[0m\u001b[0m\n\u001b[1;32m     89\u001b[0m \u001b[0mjson_data\u001b[0m \u001b[0;34m=\u001b[0m \u001b[0mget_docs_for_campus\u001b[0m\u001b[0;34m(\u001b[0m\u001b[0mDataStore\u001b[0m\u001b[0;34m.\u001b[0m\u001b[0mcampus_id\u001b[0m\u001b[0;34m,\u001b[0m \u001b[0mDataStore\u001b[0m\u001b[0;34m.\u001b[0m\u001b[0mcampus_name\u001b[0m\u001b[0;34m)\u001b[0m\u001b[0;34m\u001b[0m\u001b[0m\n\u001b[0;32m---> 90\u001b[0;31m \u001b[0mdata\u001b[0m \u001b[0;34m=\u001b[0m \u001b[0mparse_json_into_df\u001b[0m\u001b[0;34m(\u001b[0m\u001b[0mjson_data\u001b[0m\u001b[0;34m)\u001b[0m\u001b[0;34m\u001b[0m\u001b[0m\n\u001b[0m\u001b[1;32m     91\u001b[0m \u001b[0mprint\u001b[0m\u001b[0;34m(\u001b[0m\u001b[0;34m\"{} courses identified \"\u001b[0m\u001b[0;34m.\u001b[0m\u001b[0mformat\u001b[0m\u001b[0;34m(\u001b[0m\u001b[0mlen\u001b[0m\u001b[0;34m(\u001b[0m\u001b[0mdata\u001b[0m\u001b[0;34m)\u001b[0m\u001b[0;34m)\u001b[0m\u001b[0;34m)\u001b[0m\u001b[0;34m\u001b[0m\u001b[0m\n\u001b[1;32m     92\u001b[0m \u001b[0mdepts\u001b[0m \u001b[0;34m=\u001b[0m \u001b[0mget_departments\u001b[0m\u001b[0;34m(\u001b[0m\u001b[0mdata\u001b[0m\u001b[0;34m)\u001b[0m\u001b[0;34m\u001b[0m\u001b[0m\n",
      "\u001b[0;32m<ipython-input-6-38fdba271045>\u001b[0m in \u001b[0;36mparse_json_into_df\u001b[0;34m(json_data)\u001b[0m\n\u001b[1;32m     54\u001b[0m     \u001b[0mdata\u001b[0m \u001b[0;34m=\u001b[0m \u001b[0mpd\u001b[0m\u001b[0;34m.\u001b[0m\u001b[0mDataFrame\u001b[0m\u001b[0;34m(\u001b[0m\u001b[0mdata\u001b[0m\u001b[0;34m)\u001b[0m\u001b[0;34m\u001b[0m\u001b[0m\n\u001b[1;32m     55\u001b[0m     \u001b[0;31m# Filter out unneeded columns\u001b[0m\u001b[0;34m\u001b[0m\u001b[0;34m\u001b[0m\u001b[0m\n\u001b[0;32m---> 56\u001b[0;31m     \u001b[0mdata\u001b[0m \u001b[0;34m=\u001b[0m \u001b[0mdata\u001b[0m\u001b[0;34m[\u001b[0m\u001b[0mto_keep\u001b[0m\u001b[0;34m]\u001b[0m\u001b[0;34m\u001b[0m\u001b[0m\n\u001b[0m\u001b[1;32m     57\u001b[0m     \u001b[0;31m# Add the counts of each kind of document to the frame as a column\u001b[0m\u001b[0;34m\u001b[0m\u001b[0;34m\u001b[0m\u001b[0m\n\u001b[1;32m     58\u001b[0m     \u001b[0mdata\u001b[0m \u001b[0;34m=\u001b[0m \u001b[0mdata\u001b[0m\u001b[0;34m.\u001b[0m\u001b[0mapply\u001b[0m\u001b[0;34m(\u001b[0m\u001b[0;32mlambda\u001b[0m \u001b[0mr\u001b[0m\u001b[0;34m:\u001b[0m \u001b[0mparse_counts\u001b[0m\u001b[0;34m(\u001b[0m\u001b[0mr\u001b[0m\u001b[0;34m)\u001b[0m\u001b[0;34m,\u001b[0m \u001b[0maxis\u001b[0m\u001b[0;34m=\u001b[0m\u001b[0;36m1\u001b[0m\u001b[0;34m)\u001b[0m\u001b[0;34m\u001b[0m\u001b[0m\n",
      "\u001b[0;32m~/.pyenv/versions/3.6.4/lib/python3.6/site-packages/pandas/core/frame.py\u001b[0m in \u001b[0;36m__getitem__\u001b[0;34m(self, key)\u001b[0m\n\u001b[1;32m   2680\u001b[0m         \u001b[0;32mif\u001b[0m \u001b[0misinstance\u001b[0m\u001b[0;34m(\u001b[0m\u001b[0mkey\u001b[0m\u001b[0;34m,\u001b[0m \u001b[0;34m(\u001b[0m\u001b[0mSeries\u001b[0m\u001b[0;34m,\u001b[0m \u001b[0mnp\u001b[0m\u001b[0;34m.\u001b[0m\u001b[0mndarray\u001b[0m\u001b[0;34m,\u001b[0m \u001b[0mIndex\u001b[0m\u001b[0;34m,\u001b[0m \u001b[0mlist\u001b[0m\u001b[0;34m)\u001b[0m\u001b[0;34m)\u001b[0m\u001b[0;34m:\u001b[0m\u001b[0;34m\u001b[0m\u001b[0m\n\u001b[1;32m   2681\u001b[0m             \u001b[0;31m# either boolean or fancy integer index\u001b[0m\u001b[0;34m\u001b[0m\u001b[0;34m\u001b[0m\u001b[0m\n\u001b[0;32m-> 2682\u001b[0;31m             \u001b[0;32mreturn\u001b[0m \u001b[0mself\u001b[0m\u001b[0;34m.\u001b[0m\u001b[0m_getitem_array\u001b[0m\u001b[0;34m(\u001b[0m\u001b[0mkey\u001b[0m\u001b[0;34m)\u001b[0m\u001b[0;34m\u001b[0m\u001b[0m\n\u001b[0m\u001b[1;32m   2683\u001b[0m         \u001b[0;32melif\u001b[0m \u001b[0misinstance\u001b[0m\u001b[0;34m(\u001b[0m\u001b[0mkey\u001b[0m\u001b[0;34m,\u001b[0m \u001b[0mDataFrame\u001b[0m\u001b[0;34m)\u001b[0m\u001b[0;34m:\u001b[0m\u001b[0;34m\u001b[0m\u001b[0m\n\u001b[1;32m   2684\u001b[0m             \u001b[0;32mreturn\u001b[0m \u001b[0mself\u001b[0m\u001b[0;34m.\u001b[0m\u001b[0m_getitem_frame\u001b[0m\u001b[0;34m(\u001b[0m\u001b[0mkey\u001b[0m\u001b[0;34m)\u001b[0m\u001b[0;34m\u001b[0m\u001b[0m\n",
      "\u001b[0;32m~/.pyenv/versions/3.6.4/lib/python3.6/site-packages/pandas/core/frame.py\u001b[0m in \u001b[0;36m_getitem_array\u001b[0;34m(self, key)\u001b[0m\n\u001b[1;32m   2724\u001b[0m             \u001b[0;32mreturn\u001b[0m \u001b[0mself\u001b[0m\u001b[0;34m.\u001b[0m\u001b[0m_take\u001b[0m\u001b[0;34m(\u001b[0m\u001b[0mindexer\u001b[0m\u001b[0;34m,\u001b[0m \u001b[0maxis\u001b[0m\u001b[0;34m=\u001b[0m\u001b[0;36m0\u001b[0m\u001b[0;34m)\u001b[0m\u001b[0;34m\u001b[0m\u001b[0m\n\u001b[1;32m   2725\u001b[0m         \u001b[0;32melse\u001b[0m\u001b[0;34m:\u001b[0m\u001b[0;34m\u001b[0m\u001b[0m\n\u001b[0;32m-> 2726\u001b[0;31m             \u001b[0mindexer\u001b[0m \u001b[0;34m=\u001b[0m \u001b[0mself\u001b[0m\u001b[0;34m.\u001b[0m\u001b[0mloc\u001b[0m\u001b[0;34m.\u001b[0m\u001b[0m_convert_to_indexer\u001b[0m\u001b[0;34m(\u001b[0m\u001b[0mkey\u001b[0m\u001b[0;34m,\u001b[0m \u001b[0maxis\u001b[0m\u001b[0;34m=\u001b[0m\u001b[0;36m1\u001b[0m\u001b[0;34m)\u001b[0m\u001b[0;34m\u001b[0m\u001b[0m\n\u001b[0m\u001b[1;32m   2727\u001b[0m             \u001b[0;32mreturn\u001b[0m \u001b[0mself\u001b[0m\u001b[0;34m.\u001b[0m\u001b[0m_take\u001b[0m\u001b[0;34m(\u001b[0m\u001b[0mindexer\u001b[0m\u001b[0;34m,\u001b[0m \u001b[0maxis\u001b[0m\u001b[0;34m=\u001b[0m\u001b[0;36m1\u001b[0m\u001b[0;34m)\u001b[0m\u001b[0;34m\u001b[0m\u001b[0m\n\u001b[1;32m   2728\u001b[0m \u001b[0;34m\u001b[0m\u001b[0m\n",
      "\u001b[0;32m~/.pyenv/versions/3.6.4/lib/python3.6/site-packages/pandas/core/indexing.py\u001b[0m in \u001b[0;36m_convert_to_indexer\u001b[0;34m(self, obj, axis, is_setter)\u001b[0m\n\u001b[1;32m   1325\u001b[0m                 \u001b[0;32mif\u001b[0m \u001b[0mmask\u001b[0m\u001b[0;34m.\u001b[0m\u001b[0many\u001b[0m\u001b[0;34m(\u001b[0m\u001b[0;34m)\u001b[0m\u001b[0;34m:\u001b[0m\u001b[0;34m\u001b[0m\u001b[0m\n\u001b[1;32m   1326\u001b[0m                     raise KeyError('{mask} not in index'\n\u001b[0;32m-> 1327\u001b[0;31m                                    .format(mask=objarr[mask]))\n\u001b[0m\u001b[1;32m   1328\u001b[0m \u001b[0;34m\u001b[0m\u001b[0m\n\u001b[1;32m   1329\u001b[0m                 \u001b[0;32mreturn\u001b[0m \u001b[0mcom\u001b[0m\u001b[0;34m.\u001b[0m\u001b[0m_values_from_object\u001b[0m\u001b[0;34m(\u001b[0m\u001b[0mindexer\u001b[0m\u001b[0;34m)\u001b[0m\u001b[0;34m\u001b[0m\u001b[0m\n",
      "\u001b[0;31mKeyError\u001b[0m: \"['canonical_course_id' 'course_id' 'course_info' 'course_name'\\n 'course_num' 'dept_acro' 'dept_id' 'dept_name' 'doc_counts' 'prof_id'\\n 'prof_name' 'school_name' 'term' 'title' 'total_doc_count' 'type' 'url'\\n 'verified' 'year'] not in index\""
     ]
    }
   ],
   "source": [
    "def parse_counts(row):\n",
    "    \"\"\"The server returns a field with a list of \n",
    "    the various kinds of documents that have been uploaded.\n",
    "    This parses those counts out and adds them as columns to the frame\n",
    "    \"\"\"\n",
    "    for c in row['doc_counts']:\n",
    "        row[c['category']] = c['count']\n",
    "    return row\n",
    "    \n",
    "def parse_json_into_df(json_data):\n",
    "    \"\"\"Parse json data into a usable dataframe\n",
    "    For now: Control which columns are kept by commenting out in to_keep\n",
    "    \"\"\"\n",
    "    to_keep = [\n",
    "#         '@timestamp', \n",
    "     'canonical_course_id', \n",
    "#         'country', \n",
    "        'course_id',\n",
    "       'course_info', \n",
    "        'course_name', \n",
    "        'course_num', \n",
    "#         'course_pk', \n",
    "        'dept_acro',\n",
    "       'dept_id', \n",
    "        'dept_name', \n",
    "        'doc_counts', # if this isn't removed, can't dedupe\n",
    "#         'location', \n",
    "        'prof_id',\n",
    "       'prof_name', \n",
    "#         'school_aliases', \n",
    "#         'school_id', \n",
    "        'school_name',\n",
    "#        'subdivision', \n",
    "        'term', \n",
    "        'title', \n",
    "        'total_doc_count', \n",
    "        'type', \n",
    "        'url',\n",
    "       'verified', \n",
    "        'year'\n",
    "    ]\n",
    "\n",
    "    data = []\n",
    "\n",
    "    for r in json_data:\n",
    "        try:\n",
    "            if r['total'] >0: \n",
    "                for row in r['results']:\n",
    "                    data.append(row)\n",
    "\n",
    "        except Exception as e:\n",
    "            pass\n",
    "    \n",
    "    data = pd.DataFrame(data)\n",
    "    # Filter out unneeded columns\n",
    "    data = data[to_keep]\n",
    "    # Add the counts of each kind of document to the frame as a column\n",
    "    data = data.apply(lambda r: parse_counts(r), axis=1)\n",
    "    # Drop the counts column so can de-dupe (list isn't hashable)\n",
    "    data.drop(['doc_counts'], axis=1, inplace=True)\n",
    "    data.drop_duplicates(inplace=True)\n",
    "    return data\n",
    "\n",
    "# Data frame operations\n",
    "def get_departments(frame):\n",
    "    \"\"\"Extract list of departments from the results frame\"\"\"\n",
    "    depts = list(set(frame.dept_acro.tolist()))\n",
    "    depts.sort()\n",
    "    return depts\n",
    "\n",
    "def normalize_prof_name(prof_name):\n",
    "    return prof_name.strip().upper()\n",
    "\n",
    "# Frame filtration operations\n",
    "def filter_by_dept_abbrevs(frame):\n",
    "    \"\"\"Uses the list of departments defined by the user to\n",
    "    return those departments from the results frame\"\"\"\n",
    "    return frame[frame['dept_acro'].isin(DataStore.departments)]\n",
    "\n",
    "def get_by_course_id(frame, course_ids):\n",
    "    \"\"\"Finds and reeturns a course or list of courses from the results\n",
    "    frame\"\"\"\n",
    "    if type(course_ids) is not list:\n",
    "        course_ids = list(course_ids)\n",
    "    return frame[frame['course_id'].isin(course_ids)]\n",
    "\n",
    "\n",
    "# Query for results and parse them into a dataframe\n",
    "json_data = get_docs_for_campus(DataStore.campus_id, DataStore.campus_name)\n",
    "data = parse_json_into_df(json_data)\n",
    "print(\"{} courses identified \".format(len(data)))\n",
    "depts = get_departments(data)"
   ]
  },
  {
   "cell_type": "markdown",
   "metadata": {},
   "source": [
    "# Select department names / abbreviations\n",
    "\n",
    "The site does not seem to standardize the departments students enter. Thus your class may be identified in some rather odd ways.\n",
    "\n",
    "Run the next cell and select all the possible departments using the buttons which display."
   ]
  },
  {
   "cell_type": "code",
   "execution_count": null,
   "metadata": {
    "ExecuteTime": {
     "end_time": "2019-02-16T06:17:17.201704Z",
     "start_time": "2019-02-16T06:17:17.194736Z"
    }
   },
   "outputs": [],
   "source": [
    "def make_dept_b(dept):\n",
    "    b = widgets.Button(description=dept, button_style='primary')\n",
    "    def handle(event):\n",
    "        if dept in DataStore.departments:\n",
    "            DataStore.remove_department(dept)\n",
    "            b.button_style='primary'\n",
    "        else:\n",
    "            DataStore.add_department(dept)\n",
    "            b.button_style='success'\n",
    "    b.on_click(handle)\n",
    "    return b\n",
    "\n",
    "\n",
    "def split_list(a_list):\n",
    "    half = len(a_list)//2\n",
    "    return a_list[:half], a_list[half:]\n",
    "\n",
    "def dept_selection(depts):\n",
    "    buttons = []\n",
    "    for dept in depts:\n",
    "        buttons.append(make_dept_b(dept))\n",
    "\n",
    "    b1, b3 = split_list(buttons)\n",
    "    b1, b2 = split_list(b1)\n",
    "    b3, b4 = split_list(b3)\n",
    "    \n",
    "    display(widgets.HBox([widgets.VBox(b1), widgets.VBox(b2), widgets.VBox(b3), widgets.VBox(b4)]))\n",
    "\n",
    "    \n",
    "# Create the department selection buttons\n",
    "dept_selection(depts)"
   ]
  },
  {
   "cell_type": "markdown",
   "metadata": {
    "ExecuteTime": {
     "end_time": "2019-02-16T06:17:24.526994Z",
     "start_time": "2019-02-16T06:17:23.927729Z"
    }
   },
   "source": [
    "# Display all courses with uploaded materials for the selected departments\n",
    "\n",
    "Run the next cell and select any of the courses which look like they may be yours"
   ]
  },
  {
   "cell_type": "code",
   "execution_count": null,
   "metadata": {
    "ExecuteTime": {
     "end_time": "2019-02-16T03:52:46.137098Z",
     "start_time": "2019-02-16T03:52:46.131332Z"
    }
   },
   "outputs": [],
   "source": [
    "def make_selection_text(row):\n",
    "    \"\"\"Creates the text displayed in the course selection button\"\"\"\n",
    "    t = \"{prof_name} ---- {dept_acro} {course_num} ----  {course_name} ----  {course_info}\"\n",
    "    return t.format(**row.to_dict())\n",
    "\n",
    "def make_course_b(row):\n",
    "    \"\"\"Creates a button for the course defined in the row. \n",
    "    Sets a handler on the button to toggle whether the course is selected\n",
    "    in the data store\n",
    "    \"\"\"\n",
    "    layout = widgets.Layout(width='90%')\n",
    "    b = widgets.Button(description=make_selection_text(row), button_style='primary', layout=layout)\n",
    "    \n",
    "    def handle(event):\n",
    "        if row['course_id'] in DataStore.course_ids:\n",
    "            DataStore.remove_course(row['course_id'])\n",
    "            b.button_style='primary'\n",
    "        else:\n",
    "            DataStore.add_course(row['course_id'])\n",
    "            b.button_style='success'\n",
    "    b.on_click(handle)\n",
    "    return b\n",
    "\n",
    "\n",
    "# Get the selected departments\n",
    "filtered = filter_by_dept_abbrevs(data)\n",
    "# Make the buttons\n",
    "course_buttons =[]\n",
    "for i, r in filtered.iterrows():\n",
    "    course_buttons.append(make_course_b(r))\n",
    "\n",
    "display(widgets.VBox(course_buttons))"
   ]
  },
  {
   "cell_type": "markdown",
   "metadata": {},
   "source": [
    "# Display material uploaded for selected courses\n",
    "\n",
    "The following cells will query the site and retrieve the url's for all files that students have uploaded for the courses you've selected.\n",
    "\n",
    "You will need the file url's to request that the site remove the content via this website: https://www.coursehero.com/copyright-infringement/\n",
    "\n",
    "Remember that the url's this tool returns are simply all the files uploaded for the selected courses. \n",
    "\n",
    "*You must review the url's to determine that they infringe your rights.* \n",
    "\n",
    "Students may have uploaded their own intellectual property related to your course. You will infringe their rights if you request that their intellectual property be removed."
   ]
  },
  {
   "cell_type": "code",
   "execution_count": null,
   "metadata": {
    "ExecuteTime": {
     "end_time": "2019-02-16T04:15:05.476835Z",
     "start_time": "2019-02-16T04:15:05.467749Z"
    }
   },
   "outputs": [],
   "source": [
    "from CourseZero.RequestTools import get_content\n",
    "CHBASE = \"https://www.coursehero.com{}\"\n",
    "\n",
    "\n",
    "def get_file_links_from_course_page(course_page_url):\n",
    "    \"\"\"Retrieves the page that would be displayed if you went to the\n",
    "    relevant page on the site, then filters out all the links to files\n",
    "    since this is what you need to file the request\n",
    "    \"\"\"\n",
    "    files = []\n",
    "\n",
    "    html_content = get_content(CHBASE.format(course_page_url))\n",
    "    soup = BeautifulSoup(html_content, 'html.parser')\n",
    "\n",
    "    for j in soup.findAll('a'):\n",
    "        try:\n",
    "            dest = j['href']\n",
    "            fnd = \"/file/\"\n",
    "            if dest[: len(fnd)] == fnd:\n",
    "                files.append(CHBASE.format(dest))\n",
    "        except Exception as e:\n",
    "            pass\n",
    "\n",
    "    files = list(set(files))\n",
    "    return files\n",
    "\n",
    "def show_selected(frame):\n",
    "    \"\"\"Handles displaying the urls and information that has been retrieved\"\"\"\n",
    "    selected = get_by_course_id(frame, DataStore.course_ids)\n",
    "    for i, r in selected.iterrows():\n",
    "        files = get_file_links_from_course_page(r['url'])\n",
    "        t = \"{prof_name} ---- {dept_acro} {course_num} ----  {course_name} ----  {course_info}\"\n",
    "        print(t.format(**r.to_dict()))\n",
    "        for f in files:\n",
    "            print(f)\n",
    "\n",
    "show_selected(data)"
   ]
  }
 ],
 "metadata": {
  "kernelspec": {
   "display_name": "Python 3",
   "language": "python",
   "name": "python3"
  },
  "language_info": {
   "codemirror_mode": {
    "name": "ipython",
    "version": 3
   },
   "file_extension": ".py",
   "mimetype": "text/x-python",
   "name": "python",
   "nbconvert_exporter": "python",
   "pygments_lexer": "ipython3",
   "version": "3.6.4"
  },
  "latex_envs": {
   "LaTeX_envs_menu_present": true,
   "autoclose": false,
   "autocomplete": true,
   "bibliofile": "biblio.bib",
   "cite_by": "apalike",
   "current_citInitial": 1,
   "eqLabelWithNumbers": true,
   "eqNumInitial": 1,
   "hotkeys": {
    "equation": "Ctrl-E",
    "itemize": "Ctrl-I"
   },
   "labels_anchors": false,
   "latex_user_defs": false,
   "report_style_numbering": false,
   "user_envs_cfg": false
  },
  "toc": {
   "base_numbering": 1,
   "nav_menu": {},
   "number_sections": true,
   "sideBar": true,
   "skip_h1_title": false,
   "title_cell": "Table of Contents",
   "title_sidebar": "Contents",
   "toc_cell": false,
   "toc_position": {},
   "toc_section_display": true,
   "toc_window_display": false
  }
 },
 "nbformat": 4,
 "nbformat_minor": 2
}
