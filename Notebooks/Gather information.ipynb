{
 "cells": [
  {
   "cell_type": "markdown",
   "metadata": {},
   "source": [
    "# Disclaimer\n",
    "\n",
    "These are tools developed to help me determine when my intellectual property is posted without my permission online. \n",
    "These are tools created to help me ensure that content uploaded by students to the site do not infringe my intellectual property rights.\n",
    "\n",
    "They simply automate the process of searching the site and thus make it easier to determine which items infringe rights and which do not.\n",
    "\n",
    "They are extremely rough and probably not very user friendly. That said, I am making them public in case others find them useful.  \n",
    "\n",
    "These tools are provided in the hope that they will be useful to those seeking to protect their intellectual property, but WITHOUT ANY WARRANTY; without even the implied warranty of MERCHANTABILITY or FITNESS FOR A PARTICULAR PURPOSE.\n",
    "\n",
    "The tools are provided here with no warranty or claim that their use is consistent with any law, policy, terms of use policy, or any other constraint. IF YOU CHOOSE TO USE THEM, YOU AGREE TO REVIEW AND COMPLY WITH ALL RELEVANT POLICIES, INCLUDING SITE TERMS OF SERVICE, AND YOU AGREE THAT YOUR USE IS SOLELY AT YOUR OWN RISK.\n",
    "\n",
    "Questions, requests, complaints, or other feedback (or pull-requests!) are welcome through this project's github page\n",
    "        \n",
    "        https://github.com/HatakoHaterson/CourseZero\n",
    "\n",
    "Please understand that this is not an active project for me; I will monitor the project on github very infrequently.\n",
    "\n",
    "-- 復讐者\n",
    "\n",
    "\n",
    "View a static image of the main notebook (does not run) on Jupyter: \n",
    "    \n",
    "    https://nbviewer.jupyter.org/github/HatakoHaterson/CourseZero/blob/master/Notebooks/Gather%20information.ipynb?flush_cache=true\n",
    "\n",
    "Or run it on your own mini-server using Binder\n",
    "\n",
    "    https://mybinder.org/v2/gh/HatakoHaterson/CourseZero/master?filepath=Notebooks%2FGather%20information.ipynb\n"
   ]
  },
  {
   "cell_type": "markdown",
   "metadata": {},
   "source": [
    "# Get started\n",
    "\n",
    "Once the notebook has opened in binder, a toolbar will appear at the top of the notebook containing several buttons. The 'run' button is the most important.\n",
    "\n",
    "After you've opened the notebook in binder, click the run button above a few times. Each click runs the code in the highlighted cell. You can also press shift+return to run it. You can change which cell is highlighted with the up and down arrows or by just clicking on it.\n",
    "\n",
    "Try it with the next cell:"
   ]
  },
  {
   "cell_type": "code",
   "execution_count": 1,
   "metadata": {
    "ExecuteTime": {
     "end_time": "2019-07-13T00:31:20.435209Z",
     "start_time": "2019-07-13T00:31:20.431844Z"
    }
   },
   "outputs": [
    {
     "name": "stdout",
     "output_type": "stream",
     "text": [
      "You've successfully run this cell!\n"
     ]
    }
   ],
   "source": [
    "print(\"You've successfully run this cell!\")"
   ]
  },
  {
   "cell_type": "markdown",
   "metadata": {},
   "source": [
    "Since these are rough-and-ready tools, I've left in much of the code. If you want to follow along, I've left comments to myself which identify the various steps. These are either single lines which start with a '#', like this: \n",
    "    \n",
    "    # Query the server for records\n",
    "    code code code\n",
    "    \n",
    "Or, multiple lines enclosed with three double quotes: \n",
    "    \n",
    "    \"\"\"blah blah\n",
    "    tacos are good\n",
    "    \"\"\"  \n",
    "\n",
    "You'll be able to tell that a cell is running by an asterisk appearing in the brackets to the left ( [ * ]). Some tasks may take a couple of minutes to run, so it may appear frozen.\n",
    "\n",
    "I haven't set it up with an easy way to reset things. If you want to search a different campus or different set of departments, use the 'restart kernel' button above (to the right of the run button).\n",
    "\n",
    "The next cell will grab and import all the code that operates behind the scenes. (If you're curious, you can check it out here: https://github.com/HatakoHaterson/CourseZero)"
   ]
  },
  {
   "cell_type": "code",
   "execution_count": 2,
   "metadata": {
    "ExecuteTime": {
     "end_time": "2019-07-13T00:31:22.436492Z",
     "start_time": "2019-07-13T00:31:21.944590Z"
    }
   },
   "outputs": [
    {
     "name": "stdout",
     "output_type": "stream",
     "text": [
      "/Users/adam/Dropbox/CourseZero\n"
     ]
    }
   ],
   "source": [
    "# for binder\n",
    "# !pip install CourseZero\n",
    "\n",
    "# for local testing\n",
    "%cd ../\n",
    "\n",
    "import json\n",
    "import pandas as pd\n",
    "\n",
    "import requests\n",
    "from bs4 import BeautifulSoup\n",
    "\n",
    "import environment as env\n",
    "from CourseZero.FileSystemTools import getSystemRoot\n",
    "\n",
    "from IPython.display import display\n",
    "from ipywidgets import widgets\n",
    "\n",
    "from CourseZero.RequestTools import get_docs_for_campuses, get_docs_for_campus\n",
    "from CourseZero.Store import DataStore\n",
    "from CourseZero.Widgets.CampusAndProfIdentifiers import make_campus_selector\n",
    "from CourseZero.FileSystemTools import getSystemRoot\n",
    "from CourseZero.DataStorageTools import load_campus_id_data\n",
    "\n",
    "from CourseZero.Errors import UnsetValue"
   ]
  },
  {
   "cell_type": "markdown",
   "metadata": {
    "ExecuteTime": {
     "end_time": "2019-02-16T04:17:45.566277Z",
     "start_time": "2019-02-16T04:17:45.563812Z"
    }
   },
   "source": [
    "# Select your campus\n",
    "\n",
    "\n",
    "Running the next cell will display a selection menu. Use it to select the CSU you want to search.\n",
    "\n",
    "NB, for now this will only work with CSU campuses"
   ]
  },
  {
   "cell_type": "code",
   "execution_count": 7,
   "metadata": {
    "ExecuteTime": {
     "end_time": "2019-07-12T22:50:40.481298Z",
     "start_time": "2019-07-12T22:50:40.465573Z"
    }
   },
   "outputs": [
    {
     "data": {
      "application/vnd.jupyter.widget-view+json": {
       "model_id": "9c7495fbc180496db2d8d8a5aedcd862",
       "version_major": 2,
       "version_minor": 0
      },
      "text/plain": [
       "Dropdown(description='Campus', layout=Layout(width='80%'), options=('California State University Bakersfield',…"
      ]
     },
     "metadata": {},
     "output_type": "display_data"
    }
   ],
   "source": [
    "# Load the campus ids from a file\n",
    "campus_ids = load_campus_id_data(env.DEFAULT_CSU_ID_FILE)\n",
    "csu_names = [c['name'] for c in campus_ids]\n",
    "# Display the selector\n",
    "make_campus_selector(DataStore, campus_ids)"
   ]
  },
  {
   "cell_type": "code",
   "execution_count": 8,
   "metadata": {
    "ExecuteTime": {
     "end_time": "2019-07-12T22:50:40.490014Z",
     "start_time": "2019-07-12T22:50:40.484124Z"
    }
   },
   "outputs": [],
   "source": [
    "# add check to make sure they actually selected something\n",
    "def check_selected(data_store):\n",
    "    if data_store.campus_id is None:\n",
    "        print(\"Please select a campus to search using the dropdown menu above\")\n",
    "check_selected(DataStore)"
   ]
  },
  {
   "cell_type": "markdown",
   "metadata": {},
   "source": [
    "# Search for courses on the selected campus\n",
    "\n",
    "The next couple of cells will actually search for courses at the selected campus.\n",
    "\n",
    "NB, when the search starts it will display a message like \"Searching for California State University Dominguez hills\". You may need to wait a few seconds for it to complete."
   ]
  },
  {
   "cell_type": "code",
   "execution_count": 10,
   "metadata": {
    "ExecuteTime": {
     "end_time": "2019-07-12T22:51:25.457130Z",
     "start_time": "2019-07-12T22:51:10.826494Z"
    }
   },
   "outputs": [
    {
     "name": "stdout",
     "output_type": "stream",
     "text": [
      "Searching for <property object at 0x11c69b098>\n",
      "162 courses identified at <property object at 0x11c69b098>\n"
     ]
    }
   ],
   "source": [
    "# def parse_counts(row):\n",
    "#     \"\"\"The server returns a field with a list of \n",
    "#     the various kinds of documents that have been uploaded.\n",
    "#     This parses those counts out and adds them as columns to the frame\n",
    "#     \"\"\"\n",
    "#     for c in row['doc_counts']:\n",
    "#         row[c['category']] = c['count']\n",
    "#     return row\n",
    "    \n",
    "# def parse_json_into_df(json_data):\n",
    "#     \"\"\"Parse json data into a usable dataframe\n",
    "#     For now: Control which columns are kept by commenting out in to_keep\n",
    "#     \"\"\"\n",
    "# #     to_keep = [\n",
    "# # #         '@timestamp', \n",
    "# #      'canonical_course_id', \n",
    "# # #         'country', \n",
    "# #         'course_id',\n",
    "# #        'course_info', \n",
    "# #         'course_name', \n",
    "# #         'course_num', \n",
    "# # #         'course_pk', \n",
    "# #         'dept_acro',\n",
    "# #        'dept_id', \n",
    "# #         'dept_name', \n",
    "# #         'doc_counts', # if this isn't removed, can't dedupe\n",
    "# # #         'location', \n",
    "# #         'prof_id',\n",
    "# #        'prof_name', \n",
    "# # #         'school_aliases', \n",
    "# # #         'school_id', \n",
    "# #         'school_name',\n",
    "# # #        'subdivision', \n",
    "# #         'term', \n",
    "# #         'title', \n",
    "# #         'total_doc_count', \n",
    "# #         'type', \n",
    "# #         'url',\n",
    "# #        'verified', \n",
    "# #         'year'\n",
    "# #     ]\n",
    "\n",
    "#     data = []\n",
    "\n",
    "#     for r in json_data:\n",
    "#         try:\n",
    "#             if r['total'] >0: \n",
    "#                 for row in r['results']:\n",
    "#                     data.append(row)\n",
    "\n",
    "#         except Exception as e:\n",
    "#             pass\n",
    "    \n",
    "#     data = pd.DataFrame(data)\n",
    "#     # Filter out unneeded columns\n",
    "#     data = data[env.JSON_FIELDS]\n",
    "#     # Add the counts of each kind of document to the frame as a column\n",
    "#     data = data.apply(lambda r: parse_counts(r), axis=1)\n",
    "#     # Drop the counts column so can de-dupe (list isn't hashable)\n",
    "#     data.drop(['doc_counts'], axis=1, inplace=True)\n",
    "#     data.drop_duplicates(inplace=True)\n",
    "#     return data\n",
    "\n",
    "# # Data frame operations\n",
    "# def get_departments(frame):\n",
    "#     \"\"\"Extract list of departments from the results frame\"\"\"\n",
    "#     depts = list(set(frame.dept_acro.tolist()))\n",
    "#     depts.sort()\n",
    "#     return depts\n",
    "\n",
    "# def normalize_prof_name(prof_name):\n",
    "#     return prof_name.strip().upper()\n",
    "\n",
    "# # Frame filtration operations\n",
    "# def filter_by_dept_abbrevs(frame):\n",
    "#     \"\"\"Uses the list of departments defined by the user to\n",
    "#     return those departments from the results frame\"\"\"\n",
    "#     return frame[frame['dept_acro'].isin(DataStore.departments)]\n",
    "\n",
    "# def get_by_course_id(frame, course_ids):\n",
    "#     \"\"\"Finds and reeturns a course or list of courses from the results\n",
    "#     frame\"\"\"\n",
    "#     if type(course_ids) is not list:\n",
    "#         course_ids = list(course_ids)\n",
    "#     return frame[frame['course_id'].isin(course_ids)]\n",
    "\n",
    "from CourseZero.DataHandlingTools import parse_json_into_df,get_departments\n",
    "\n",
    "# Query for results and parse them into a dataframe\n",
    "try:\n",
    "    json_data = get_docs_for_campus(DataStore.campus_id, DataStore.campus_name)\n",
    "    data = parse_json_into_df(json_data)\n",
    "    print(\"{} courses identified at {}\".format(len(data), DataStore.campus_name))\n",
    "    depts = get_departments(data)\n",
    "except UnsetValue as e:\n",
    "    print(e.message)"
   ]
  },
  {
   "cell_type": "markdown",
   "metadata": {},
   "source": [
    "# Select department names / abbreviations\n",
    "\n",
    "The site does not seem to standardize the departments students enter. Thus your class may be identified in some rather odd ways.\n",
    "\n",
    "Run the next cell and select all the possible departments using the buttons which display."
   ]
  },
  {
   "cell_type": "code",
   "execution_count": 11,
   "metadata": {
    "ExecuteTime": {
     "end_time": "2019-07-12T22:51:25.831120Z",
     "start_time": "2019-07-12T22:51:25.459417Z"
    }
   },
   "outputs": [
    {
     "data": {
      "application/vnd.jupyter.widget-view+json": {
       "model_id": "03806252b14141a69b5d6a617a5ae027",
       "version_major": 2,
       "version_minor": 0
      },
      "text/plain": [
       "HBox(children=(VBox(children=(Button(button_style='primary', description='ACCT', style=ButtonStyle()), Button(…"
      ]
     },
     "metadata": {},
     "output_type": "display_data"
    }
   ],
   "source": [
    "# def make_dept_b(dept):\n",
    "#     b = widgets.Button(description=dept, button_style='primary')\n",
    "#     def handle(event):\n",
    "#         if dept in DataStore.departments:\n",
    "#             DataStore.remove_department(dept)\n",
    "#             b.button_style='primary'\n",
    "#         else:\n",
    "#             DataStore.add_department(dept)\n",
    "#             b.button_style='success'\n",
    "#     b.on_click(handle)\n",
    "#     return b\n",
    "\n",
    "\n",
    "# def split_list(a_list):\n",
    "#     half = len(a_list)//2\n",
    "#     return a_list[:half], a_list[half:]\n",
    "\n",
    "# def dept_selection(depts):\n",
    "#     \"\"\"Create and display the buttons for selecting which departments\n",
    "#     to query\"\"\"\n",
    "#     buttons = []\n",
    "#     for dept in depts:\n",
    "#         buttons.append(make_dept_b(dept))\n",
    "\n",
    "#     b1, b3 = split_list(buttons)\n",
    "#     b1, b2 = split_list(b1)\n",
    "#     b3, b4 = split_list(b3)\n",
    "    \n",
    "#     display(widgets.HBox([widgets.VBox(b1), widgets.VBox(b2), widgets.VBox(b3), widgets.VBox(b4)]))\n",
    "\n",
    "from CourseZero.Inputs import dept_selection\n",
    "    \n",
    "# Create the department selection buttons\n",
    "dept_selection(depts)"
   ]
  },
  {
   "cell_type": "markdown",
   "metadata": {
    "ExecuteTime": {
     "end_time": "2019-02-16T06:17:24.526994Z",
     "start_time": "2019-02-16T06:17:23.927729Z"
    }
   },
   "source": [
    "# Display all courses with uploaded materials for the selected departments\n",
    "\n",
    "Run the next cell and select any of the courses which look like they may be yours"
   ]
  },
  {
   "cell_type": "code",
   "execution_count": 12,
   "metadata": {
    "ExecuteTime": {
     "end_time": "2019-07-12T22:53:33.773328Z",
     "start_time": "2019-07-12T22:53:33.745595Z"
    }
   },
   "outputs": [
    {
     "data": {
      "application/vnd.jupyter.widget-view+json": {
       "model_id": "5b7e73a35fce48729c23318ca017ab0a",
       "version_major": 2,
       "version_minor": 0
      },
      "text/plain": [
       "VBox(children=(Button(button_style='primary', description='Bryan Tomlin ---- ECONOMICS 310 ----  Intermediate …"
      ]
     },
     "metadata": {},
     "output_type": "display_data"
    }
   ],
   "source": [
    "# def make_selection_text(row):\n",
    "#     \"\"\"Creates the text displayed in the course selection button\"\"\"\n",
    "#     t = \"{prof_name} ---- {dept_acro} {course_num} ----  {course_name} ----  {course_info}\"\n",
    "#     return t.format(**row.to_dict())\n",
    "\n",
    "# def make_course_b(row):\n",
    "#     \"\"\"Creates a button for the course defined in the row. \n",
    "#     Sets a handler on the button to toggle whether the course is selected\n",
    "#     in the data store\n",
    "#     \"\"\"\n",
    "#     layout = widgets.Layout(width='90%')\n",
    "#     b = widgets.Button(description=make_selection_text(row), button_style='primary', layout=layout)\n",
    "    \n",
    "#     def handle(event):\n",
    "#         if row['course_id'] in DataStore.course_ids:\n",
    "#             DataStore.remove_course(row['course_id'])\n",
    "#             b.button_style='primary'\n",
    "#         else:\n",
    "#             DataStore.add_course(row['course_id'])\n",
    "#             b.button_style='success'\n",
    "#     b.on_click(handle)\n",
    "#     return b\n",
    "\n",
    "from CourseHero.Inputs import make_course_b\n",
    "# Get the selected departments\n",
    "filtered = filter_by_dept_abbrevs(data)\n",
    "# Make the buttons\n",
    "course_buttons =[]\n",
    "for i, r in filtered.iterrows():\n",
    "    course_buttons.append(make_course_b(r))\n",
    "\n",
    "display(widgets.VBox(course_buttons))"
   ]
  },
  {
   "cell_type": "markdown",
   "metadata": {},
   "source": [
    "# Display material uploaded for selected courses\n",
    "\n",
    "The following cells will query the site and retrieve the url's for all files that students have uploaded for the courses you've selected.\n",
    "\n",
    "You will need the file url's to request that the site remove the content via this website: https://www.coursehero.com/copyright-infringement/\n",
    "\n",
    "Remember that the url's this tool returns are simply all the files uploaded for the selected courses. \n",
    "\n",
    "*You must review the url's to determine that they infringe your rights.* \n",
    "\n",
    "Students may have uploaded their own intellectual property related to your course. You will infringe their rights if you request that their intellectual property be removed."
   ]
  },
  {
   "cell_type": "code",
   "execution_count": 13,
   "metadata": {
    "ExecuteTime": {
     "end_time": "2019-07-12T22:53:44.170805Z",
     "start_time": "2019-07-12T22:53:43.191857Z"
    }
   },
   "outputs": [
    {
     "name": "stdout",
     "output_type": "stream",
     "text": [
      "Bryan Tomlin ---- ECONOMICS 310 ----  Intermediate Microeconomics ----  ECONOMICS 310 Intermediate Microeconomics\n",
      "https://www.coursehero.com/file/22606123/Math-Practice-Derivatives1/\n",
      "https://www.coursehero.com/file/22606574/Econ-310-Quiz-1-Spring-2017/\n",
      "https://www.coursehero.com/file/22606217/Econ-310-Midterm-Review-List/\n",
      "https://www.coursehero.com/file/22606206/Practice-Monopoly-and-Cournot-Duopoly-Questions-Solutions/\n",
      "https://www.coursehero.com/file/22606223/Production-and-Cost/\n",
      "https://www.coursehero.com/file/22606218/Choice-Under-Uncertainty-Solutions/\n",
      "https://www.coursehero.com/file/22606127/Preferences-and-Indifference-Curves-Solutions/\n",
      "https://www.coursehero.com/file/22606124/Math-Practice-Exponents/\n",
      "https://www.coursehero.com/file/22606227/Production-and-Cost-Solutions/\n",
      "https://www.coursehero.com/file/22606200/Price-Discrimination-Practice-Questions-and-Solutions/\n",
      "https://www.coursehero.com/file/22606130/Utility-Practice-Problems-with-Solutions/\n",
      "https://www.coursehero.com/file/22606121/Math-Practice-Exponents-Solutions/\n",
      "https://www.coursehero.com/file/22606122/Math-Practice-Derivatives-Solutions/\n",
      "https://www.coursehero.com/file/22606210/Choice-Under-Uncertainty/\n",
      "https://www.coursehero.com/file/22606214/Labor-Leisure/\n",
      "https://www.coursehero.com/file/22606131/Budget-Constraing-and-Choice-Set-Solutions-even-problems-only/\n",
      "https://www.coursehero.com/file/22606125/Sample-Optimal-Choice-Questions-with-Walk-through-Solutions/\n",
      "https://www.coursehero.com/file/22606226/Practice-Game-Theory-Questions/\n",
      "https://www.coursehero.com/file/22606129/Budget-Constraints-and-Choice-Sets/\n"
     ]
    }
   ],
   "source": [
    "from CourseZero.RequestTools import get_file_links_from_course_page\n",
    "# CHBASE = \"https://www.coursehero.com{}\"\n",
    "\n",
    "\n",
    "# def get_file_links_from_course_page(course_page_url):\n",
    "#     \"\"\"Retrieves the page that would be displayed if you went to the\n",
    "#     relevant page on the site, then filters out all the links to files\n",
    "#     since this is what you need to file the request\n",
    "#     \"\"\"\n",
    "#     files = []\n",
    "\n",
    "#     html_content = get_content(env.CH_BASE_URL.format(course_page_url))\n",
    "#     soup = BeautifulSoup(html_content, 'html.parser')\n",
    "\n",
    "#     for j in soup.findAll('a'):\n",
    "#         try:\n",
    "#             dest = j['href']\n",
    "#             fnd = \"/file/\"\n",
    "#             if dest[: len(fnd)] == fnd:\n",
    "#                 files.append(CHBASE.format(dest))\n",
    "#         except Exception as e:\n",
    "#             pass\n",
    "\n",
    "#     files = list(set(files))\n",
    "#     return files\n",
    "\n",
    "def show_selected(frame):\n",
    "    \"\"\"Handles displaying the urls and information that has been retrieved\"\"\"\n",
    "    selected = get_by_course_id(frame, DataStore.course_ids)\n",
    "    for i, r in selected.iterrows():\n",
    "        files = get_file_links_from_course_page(r['url'])\n",
    "        t = \"{prof_name} ---- {dept_acro} {course_num} ----  {course_name} ----  {course_info}\"\n",
    "        print(t.format(**r.to_dict()))\n",
    "        for f in files:\n",
    "            print(f)\n",
    "\n",
    "show_selected(data)"
   ]
  },
  {
   "cell_type": "markdown",
   "metadata": {
    "ExecuteTime": {
     "end_time": "2019-07-12T22:53:44.177038Z",
     "start_time": "2019-07-12T22:53:44.174326Z"
    }
   },
   "source": [
    "# Request takedown\n",
    "\n",
    "CourseHero requests that you use their online form for submitting takedown requests. The form is https://www.coursehero.com/copyright-infringement/\n",
    "\n",
    "However, they also provide the alternative of emailing or faxing a letter to DMCA@coursehero.com\n",
    "\n",
    "You can generate the text of an email below.\n",
    "\n",
    "    To file a DMCA takedown request, please complete the Copyright Infringement Notification form below.\n",
    "\n",
    "    You will need to identify the infringing work(s) by providing the specific identification and location of the infringing work(s), including its URL or URLs on Course Hero. Each URL should be in the following format: https://www.coursehero.com/file/xxxx/...\n",
    "\n",
    "    Once you submit a complete takedown request using our Copyright Infringement Notification form, our DMCA Compliance Team will quickly take action to remove the infringing content. You will be notified once the content has been removed.\n",
    "\n",
    "    We are dedicated to helping copyright holders protect their work. As an an alternative to completing this form, you can email or fax your DMCA notification to DMCA@coursehero.com. If you have any questions or need assistance in completing your takedown request, please contact us at DMCA@coursehero.com.\n"
   ]
  },
  {
   "cell_type": "code",
   "execution_count": 3,
   "metadata": {
    "ExecuteTime": {
     "end_time": "2019-07-13T00:31:35.091714Z",
     "start_time": "2019-07-13T00:31:35.084639Z"
    }
   },
   "outputs": [],
   "source": [
    "from CourseZero.Store import TakedownStore\n",
    "from CourseZero.Inputs import make_link, make_infringement_b, get_urls\n",
    "\n",
    "# def make_link(url):\n",
    "#     return \"<a href='{}' target='_blank'>{}</a>\".format(url,url)\n",
    "\n",
    "# def make_infringement_b(doc, store):\n",
    "#     \"\"\"Creates a button for the document. \n",
    "#     Sets a handler on the button to toggle whether the doc is selected\n",
    "#     in the data store\n",
    "#     \"\"\"\n",
    "#     layout = widgets.Layout()\n",
    "#     b = widgets.Button(description='NOT Infringing', button_style='primary', layout=layout)\n",
    "    \n",
    "#     def handle(event):\n",
    "#         if doc in store.infringing_docs:\n",
    "#             store.remove_doc(doc)\n",
    "#             b.button_style='primary'\n",
    "#             b.description='NOT Infringing'\n",
    "#         else:\n",
    "#             store.add_doc(doc)\n",
    "#             b.button_style='success'\n",
    "#             b.description='Infringing'\n",
    "#     b.on_click(handle)\n",
    "#     return b\n",
    "\n",
    "# def get_urls(frame):\n",
    "#     \"\"\"Handles displaying the urls and information that has been retrieved\"\"\"\n",
    "#     selected = get_by_course_id(frame, DataStore.course_ids)\n",
    "#     for i, r in selected.iterrows():\n",
    "#         files = get_file_links_from_course_page(r['url'])\n",
    "#     return files"
   ]
  },
  {
   "cell_type": "code",
   "execution_count": 19,
   "metadata": {
    "ExecuteTime": {
     "end_time": "2019-07-13T00:36:54.501535Z",
     "start_time": "2019-07-13T00:36:54.497310Z"
    }
   },
   "outputs": [],
   "source": [
    "# Testing\n",
    "docs = ['url1', 'url2', 'url3']\n",
    "\n",
    "# For reals\n",
    "# docs = get_urls(data)\n",
    "\n",
    "#https://www.coursehero.com/copyright-infringement"
   ]
  },
  {
   "cell_type": "markdown",
   "metadata": {},
   "source": [
    "Review each document below by clicking on the url (it should open the document on the CourseHero website in a new window/tab). If you believe it infringes your copyright, click the corresponding button on the right."
   ]
  },
  {
   "cell_type": "code",
   "execution_count": 30,
   "metadata": {
    "ExecuteTime": {
     "end_time": "2019-07-13T00:59:27.899889Z",
     "start_time": "2019-07-13T00:59:27.832768Z"
    }
   },
   "outputs": [
    {
     "data": {
      "application/vnd.jupyter.widget-view+json": {
       "model_id": "c4fc1c78b11842bbb51dd2fb512235bf",
       "version_major": 2,
       "version_minor": 0
      },
      "text/plain": [
       "VBox(children=(HBox(children=(Button(button_style='primary', description='NOT Infringing', style=ButtonStyle()…"
      ]
     },
     "metadata": {},
     "output_type": "display_data"
    }
   ],
   "source": [
    "rows = [widgets.HBox([make_infringement_b(d, TakedownStore), widgets.HTML(value=make_link(d))]) for d in docs]\n",
    "display(widgets.VBox(rows))"
   ]
  },
  {
   "cell_type": "markdown",
   "metadata": {},
   "source": [
    "## Help with submitting through the webform\n",
    "\n",
    "If you would like to submit the request using CourseHero's webform, here are the document names (as submitted by the student) and the corresponding url's"
   ]
  },
  {
   "cell_type": "code",
   "execution_count": 28,
   "metadata": {
    "ExecuteTime": {
     "end_time": "2019-07-13T00:57:36.380187Z",
     "start_time": "2019-07-13T00:57:36.376904Z"
    }
   },
   "outputs": [],
   "source": [
    "# display non-link formatted urls and doc names"
   ]
  },
  {
   "cell_type": "markdown",
   "metadata": {},
   "source": [
    "## Help with email request\n",
    "If you would like to make the request via email, input your information below to generate draft email text."
   ]
  },
  {
   "cell_type": "code",
   "execution_count": 20,
   "metadata": {
    "ExecuteTime": {
     "end_time": "2019-07-13T00:36:57.537542Z",
     "start_time": "2019-07-13T00:36:57.532332Z"
    }
   },
   "outputs": [],
   "source": [
    "\n",
    "def make_text_input( input_dict ):\n",
    "    \"\"\"Creates a text input field. The given dictionary should have keys 'label' and 'handler'\"\"\"\n",
    "    text = widgets.Text( description=input_dict[ 'label' ], name=input_dict['prop'] )\n",
    "    display( text )\n",
    "    text.observe( TakedownStore.event_handler )\n",
    "    return text\n"
   ]
  },
  {
   "cell_type": "code",
   "execution_count": 23,
   "metadata": {
    "ExecuteTime": {
     "end_time": "2019-07-13T00:37:58.147625Z",
     "start_time": "2019-07-13T00:37:58.063388Z"
    }
   },
   "outputs": [
    {
     "data": {
      "application/vnd.jupyter.widget-view+json": {
       "model_id": "7812175234024188b280d7f543328efa",
       "version_major": 2,
       "version_minor": 0
      },
      "text/plain": [
       "Text(value='', description='Your full name')"
      ]
     },
     "metadata": {},
     "output_type": "display_data"
    },
    {
     "data": {
      "application/vnd.jupyter.widget-view+json": {
       "model_id": "24572ea8e14a4d54989a0de33112d261",
       "version_major": 2,
       "version_minor": 0
      },
      "text/plain": [
       "Text(value='', description='Your institution')"
      ]
     },
     "metadata": {},
     "output_type": "display_data"
    },
    {
     "data": {
      "application/vnd.jupyter.widget-view+json": {
       "model_id": "58e06b9e541b439681c70227474a3f0c",
       "version_major": 2,
       "version_minor": 0
      },
      "text/plain": [
       "Text(value='', description='Department')"
      ]
     },
     "metadata": {},
     "output_type": "display_data"
    },
    {
     "data": {
      "application/vnd.jupyter.widget-view+json": {
       "model_id": "43f7ffc71c5c45dca285fc5c0981a64f",
       "version_major": 2,
       "version_minor": 0
      },
      "text/plain": [
       "Text(value='', description='Street address')"
      ]
     },
     "metadata": {},
     "output_type": "display_data"
    },
    {
     "data": {
      "application/vnd.jupyter.widget-view+json": {
       "model_id": "c8ed7d07a16f4dc2a93cf242431105b0",
       "version_major": 2,
       "version_minor": 0
      },
      "text/plain": [
       "Text(value='', description='City')"
      ]
     },
     "metadata": {},
     "output_type": "display_data"
    },
    {
     "data": {
      "application/vnd.jupyter.widget-view+json": {
       "model_id": "62ab2cf303fa4843a653c5c995d1c571",
       "version_major": 2,
       "version_minor": 0
      },
      "text/plain": [
       "Text(value='', description='Zipcode')"
      ]
     },
     "metadata": {},
     "output_type": "display_data"
    },
    {
     "data": {
      "application/vnd.jupyter.widget-view+json": {
       "model_id": "ece5f746c3484ac994ca871fd6cc72ae",
       "version_major": 2,
       "version_minor": 0
      },
      "text/plain": [
       "Text(value='', description='Email address')"
      ]
     },
     "metadata": {},
     "output_type": "display_data"
    },
    {
     "data": {
      "text/plain": [
       "[Text(value='', description='Your full name'),\n",
       " Text(value='', description='Your institution'),\n",
       " Text(value='', description='Department'),\n",
       " Text(value='', description='Street address'),\n",
       " Text(value='', description='City'),\n",
       " Text(value='', description='Zipcode'),\n",
       " Text(value='', description='Email address')]"
      ]
     },
     "execution_count": 23,
     "metadata": {},
     "output_type": "execute_result"
    },
    {
     "name": "stdout",
     "output_type": "stream",
     "text": [
      "x\n",
      "xz\n",
      "xzz\n",
      "s\n",
      "s\n",
      "a\n",
      "s\n",
      "d\n",
      "f\n"
     ]
    }
   ],
   "source": [
    "[make_text_input(r) for r in TakedownStore.input_fields]"
   ]
  },
  {
   "cell_type": "code",
   "execution_count": 29,
   "metadata": {
    "ExecuteTime": {
     "end_time": "2019-07-13T00:57:53.765801Z",
     "start_time": "2019-07-13T00:57:53.752172Z"
    }
   },
   "outputs": [
    {
     "data": {
      "application/vnd.jupyter.widget-view+json": {
       "model_id": "7b920d2edc2b4e10bac20b1359e841e4",
       "version_major": 2,
       "version_minor": 0
      },
      "text/plain": [
       "HTML(value='<!DOCTYPE html>\\n<html lang=\"en\">\\n<head>\\n    <meta charset=\"UTF-8\">\\n</head>\\n<body>\\n\\n<h1>Copy…"
      ]
     },
     "metadata": {},
     "output_type": "display_data"
    }
   ],
   "source": [
    "with open('{}/takedown_request.html'.format(env.TEMPLATE_FOLDER), 'r') as o:\n",
    "    template = o.read()\n",
    "display(widgets.HTML(value=template.format(**TakedownStore.format_args())))"
   ]
  }
 ],
 "metadata": {
  "kernelspec": {
   "display_name": "Python 3",
   "language": "python",
   "name": "python3"
  },
  "language_info": {
   "codemirror_mode": {
    "name": "ipython",
    "version": 3
   },
   "file_extension": ".py",
   "mimetype": "text/x-python",
   "name": "python",
   "nbconvert_exporter": "python",
   "pygments_lexer": "ipython3",
   "version": "3.6.4"
  },
  "latex_envs": {
   "LaTeX_envs_menu_present": true,
   "autoclose": false,
   "autocomplete": true,
   "bibliofile": "biblio.bib",
   "cite_by": "apalike",
   "current_citInitial": 1,
   "eqLabelWithNumbers": true,
   "eqNumInitial": 1,
   "hotkeys": {
    "equation": "Ctrl-E",
    "itemize": "Ctrl-I"
   },
   "labels_anchors": false,
   "latex_user_defs": false,
   "report_style_numbering": false,
   "user_envs_cfg": false
  },
  "toc": {
   "base_numbering": 1,
   "nav_menu": {},
   "number_sections": true,
   "sideBar": true,
   "skip_h1_title": false,
   "title_cell": "Table of Contents",
   "title_sidebar": "Contents",
   "toc_cell": false,
   "toc_position": {},
   "toc_section_display": true,
   "toc_window_display": false
  }
 },
 "nbformat": 4,
 "nbformat_minor": 2
}
