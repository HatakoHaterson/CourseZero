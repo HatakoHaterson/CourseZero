{
 "cells": [
  {
   "cell_type": "markdown",
   "metadata": {},
   "source": [
    "# What's this?\n",
    "\n",
    "The Course Hero website allows students to upload materials to assist other students. Unfortunately, these materials may include items which violate their instructors' intellectual property rights. Course Hero professes a commitment to protecting intellectual property and provides an easy to use webform (https://www.coursehero.com/copyright-infringement/) to request the removal of infringing materials. \n",
    "\n",
    "However, the site does not seem to standardize the names / abbreviations for departments and courses, and uses whatever uploading student's favored spelling of the instructor's name. It is thus difficult for an instructor to be sure they've checked all materials which might belong to them.\n",
    "\n",
    "This is a tool which automates the process of searching the site which I created to help me more easily keep tabs on what materials appear on the site.\n",
    "\n",
    "It is thus extremely rough and probably not very user friendly. That said, I am making them public in case others find them useful.  \n",
    "\n",
    "These tools are provided in the hope that they will be useful to teachers seeking to protect their intellectual property, but WITHOUT ANY WARRANTY; without even the implied warranty of MERCHANTABILITY or FITNESS FOR A PARTICULAR PURPOSE.\n",
    "\n",
    "I am not a lawyer; nothing in here should be construed as legal advice. Make sure you understand your rights and responsibilities under the DCMA and other applicable laws before submitting takedown requests. The tools are provided here with no warranty or claim that their use is consistent with any law, policy, terms of use policy, or any other constraint. IF YOU CHOOSE TO USE THEM, YOU AGREE TO REVIEW AND COMPLY WITH ALL RELEVANT POLICIES, INCLUDING SITE TERMS OF SERVICE, AND YOU AGREE THAT YOUR USE IS SOLELY AT YOUR OWN RISK.\n",
    "\n",
    "Questions, requests, complaints, or other feedback (or pull-requests!) are welcome through this project's github page\n",
    "        \n",
    "        https://github.com/HatakoHaterson/CourseZero\n",
    "\n",
    "Please understand that this is not an active project for me; I will monitor the project on github very infrequently.\n",
    "\n",
    "-- 復讐者\n",
    "\n",
    "\n",
    "View a static image of the main notebook (does not run) on Jupyter: \n",
    "    \n",
    "    https://nbviewer.jupyter.org/github/HatakoHaterson/CourseZero/blob/master/Notebooks/Copyrighted%20stuff%20search%helper.ipynb?flush_cache=true\n",
    "\n",
    "Or run it on your own mini-server using Binder\n",
    "\n",
    "    https://mybinder.org/v2/gh/HatakoHaterson/CourseZero/master?filepath=Notebooks%2FCopyrighted%20stuff%20search%helper.ipynb\n",
    "\n",
    "\n",
    "Once you've got the notebook open, select 'Run all' from the 'Cell' menu. Alternatively, press the run button in the toolbar repeatedly until you've reached the bottom of the page.\n",
    "\n",
    "Please note that each step will take several seconds to run as the tool queries the Course Hero site. If you have trouble, select 'Restart and clear output' from the 'Kernel' menu and try again.\n"
   ]
  },
  {
   "cell_type": "code",
   "execution_count": 2,
   "metadata": {
    "ExecuteTime": {
     "end_time": "2019-07-19T01:07:59.879909Z",
     "start_time": "2019-07-19T01:07:59.866568Z"
    }
   },
   "outputs": [
    {
     "data": {
      "application/javascript": [
       "IPython.OutputArea.prototype._should_scroll = function(lines) {\n",
       "    return false;\n",
       "}\n"
      ],
      "text/plain": [
       "<IPython.core.display.Javascript object>"
      ]
     },
     "metadata": {},
     "output_type": "display_data"
    }
   ],
   "source": [
    "%%javascript\n",
    "IPython.OutputArea.prototype._should_scroll = function(lines) {\n",
    "    return false;\n",
    "}"
   ]
  },
  {
   "cell_type": "code",
   "execution_count": 3,
   "metadata": {
    "ExecuteTime": {
     "end_time": "2019-07-19T01:08:00.585021Z",
     "start_time": "2019-07-19T01:07:59.900097Z"
    }
   },
   "outputs": [
    {
     "name": "stdout",
     "output_type": "stream",
     "text": [
      "/Users/adam/Dropbox/CourseZero\n"
     ]
    }
   ],
   "source": [
    "# for binder\n",
    "# !pip install CourseZero\n",
    "\n",
    "# for local testing\n",
    "%cd ../\n",
    "\n",
    "from environment import *\n",
    "from CourseZero.Widgets.CampusAndProfIdentifiers import make_campus_selector\n",
    "from CourseZero.UI import search_depts"
   ]
  },
  {
   "cell_type": "markdown",
   "metadata": {
    "ExecuteTime": {
     "end_time": "2019-02-16T04:17:45.566277Z",
     "start_time": "2019-02-16T04:17:45.563812Z"
    }
   },
   "source": [
    "# Select your campus\n",
    "\n",
    "\n",
    "Running the next cell will display a selection menu. Use it to select the CSU you want to search.\n",
    "\n",
    "NB, for now this will only work with CSU campuses. If there is a demand for covering more institutions, please leave a note on the github page \n",
    "\n",
    "When the search starts it will display a message like \"Searching for California State University Dominguez Hills\". You may need to wait a few seconds for it to complete.\n",
    "\n",
    "When the search completes, it will display buttons with all the departments found for the campus. Select all the departments you want to search for materials from..\n",
    "\n",
    "The site does not seem to standardize the departments students enter. Thus your class may be identified in some rather odd ways.\n"
   ]
  },
  {
   "cell_type": "code",
   "execution_count": 4,
   "metadata": {
    "ExecuteTime": {
     "end_time": "2019-07-19T01:08:02.909904Z",
     "start_time": "2019-07-19T01:08:02.886230Z"
    }
   },
   "outputs": [
    {
     "data": {
      "application/vnd.jupyter.widget-view+json": {
       "model_id": "9e7b893e33264d1987c708818c5d1dbe",
       "version_major": 2,
       "version_minor": 0
      },
      "text/plain": [
       "VBox(children=(HTML(value='<h1>Select campus to search</h1>'), Dropdown(description='Campus', layout=Layout(wi…"
      ]
     },
     "metadata": {},
     "output_type": "display_data"
    },
    {
     "name": "stdout",
     "output_type": "stream",
     "text": [
      "Searching for California Maritime Academy\n",
      "34 courses identified at California Maritime Academy\n",
      "23 department names located\n"
     ]
    },
    {
     "data": {
      "application/vnd.jupyter.widget-view+json": {
       "model_id": "50cfe227c9494d9db3bf48ec6fb922fc",
       "version_major": 2,
       "version_minor": 0
      },
      "text/plain": [
       "Output(layout=Layout(border='1px solid black'))"
      ]
     },
     "metadata": {},
     "output_type": "display_data"
    },
    {
     "data": {
      "application/vnd.jupyter.widget-view+json": {
       "model_id": "93647ab8d7464311a6bed209f8de294d",
       "version_major": 2,
       "version_minor": 0
      },
      "text/plain": [
       "Output(layout=Layout(border='1px solid black'))"
      ]
     },
     "metadata": {},
     "output_type": "display_data"
    },
    {
     "data": {
      "application/vnd.jupyter.widget-view+json": {
       "model_id": "577781c6b4d1465ab715facaffaf0c36",
       "version_major": 2,
       "version_minor": 0
      },
      "text/plain": [
       "Output(layout=Layout(border='1px solid black'))"
      ]
     },
     "metadata": {},
     "output_type": "display_data"
    },
    {
     "data": {
      "application/vnd.jupyter.widget-view+json": {
       "model_id": "1855ffd698aa4453b831a43f5a341f72",
       "version_major": 2,
       "version_minor": 0
      },
      "text/plain": [
       "Output(layout=Layout(border='1px solid black'))"
      ]
     },
     "metadata": {},
     "output_type": "display_data"
    },
    {
     "data": {
      "application/vnd.jupyter.widget-view+json": {
       "model_id": "13e4bea449094154a82661a034b3bc7d",
       "version_major": 2,
       "version_minor": 0
      },
      "text/plain": [
       "Output(layout=Layout(border='1px solid black'))"
      ]
     },
     "metadata": {},
     "output_type": "display_data"
    },
    {
     "data": {
      "application/vnd.jupyter.widget-view+json": {
       "model_id": "c35a1075063b4f588bda7acd15493551",
       "version_major": 2,
       "version_minor": 0
      },
      "text/plain": [
       "Output(layout=Layout(border='1px solid black'))"
      ]
     },
     "metadata": {},
     "output_type": "display_data"
    }
   ],
   "source": [
    "make_campus_selector(DataStore, search_depts)"
   ]
  }
 ],
 "metadata": {
  "kernelspec": {
   "display_name": "Python 3",
   "language": "python",
   "name": "python3"
  },
  "language_info": {
   "codemirror_mode": {
    "name": "ipython",
    "version": 3
   },
   "file_extension": ".py",
   "mimetype": "text/x-python",
   "name": "python",
   "nbconvert_exporter": "python",
   "pygments_lexer": "ipython3",
   "version": "3.6.4"
  },
  "latex_envs": {
   "LaTeX_envs_menu_present": true,
   "autoclose": false,
   "autocomplete": true,
   "bibliofile": "biblio.bib",
   "cite_by": "apalike",
   "current_citInitial": 1,
   "eqLabelWithNumbers": true,
   "eqNumInitial": 1,
   "hotkeys": {
    "equation": "Ctrl-E",
    "itemize": "Ctrl-I"
   },
   "labels_anchors": false,
   "latex_user_defs": false,
   "report_style_numbering": false,
   "user_envs_cfg": false
  },
  "toc": {
   "base_numbering": 1,
   "nav_menu": {},
   "number_sections": true,
   "sideBar": true,
   "skip_h1_title": false,
   "title_cell": "Table of Contents",
   "title_sidebar": "Contents",
   "toc_cell": false,
   "toc_position": {},
   "toc_section_display": true,
   "toc_window_display": false
  }
 },
 "nbformat": 4,
 "nbformat_minor": 2
}
