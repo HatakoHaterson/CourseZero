{
 "cells": [
  {
   "cell_type": "markdown",
   "metadata": {},
   "source": [
    "This is for helping file a request to takedown infringing materials\n",
    "\n",
    "It provides an automated way of submitting the form here: https://www.coursehero.com/copyright-infringement/ for selected course materials"
   ]
  },
  {
   "cell_type": "code",
   "execution_count": 1,
   "metadata": {
    "ExecuteTime": {
     "end_time": "2019-02-15T23:54:40.300926Z",
     "start_time": "2019-02-15T23:54:40.298124Z"
    }
   },
   "outputs": [],
   "source": [
    "from IPython.display import display\n",
    "from ipywidgets import widgets\n"
   ]
  },
  {
   "cell_type": "code",
   "execution_count": 2,
   "metadata": {
    "ExecuteTime": {
     "end_time": "2019-02-15T23:54:40.603310Z",
     "start_time": "2019-02-15T23:54:40.597747Z"
    }
   },
   "outputs": [
    {
     "name": "stdout",
     "output_type": "stream",
     "text": [
      "/Users/復讐者/Dropbox/CourseZero\n"
     ]
    }
   ],
   "source": [
    "%cd ../"
   ]
  },
  {
   "cell_type": "code",
   "execution_count": 4,
   "metadata": {
    "ExecuteTime": {
     "end_time": "2019-02-15T23:54:48.337468Z",
     "start_time": "2019-02-15T23:54:48.335114Z"
    }
   },
   "outputs": [],
   "source": [
    "from CourseZero.Store import TakedownStore"
   ]
  },
  {
   "cell_type": "code",
   "execution_count": null,
   "metadata": {
    "ExecuteTime": {
     "end_time": "2019-02-15T21:32:04.606828Z",
     "start_time": "2019-02-15T21:32:04.599179Z"
    },
    "deletable": false,
    "editable": false,
    "run_control": {
     "frozen": true
    }
   },
   "outputs": [],
   "source": [
    "class DataStore(object):\n",
    "    professor_first_name = None\n",
    "    professor_last_name = None\n",
    "    campus_name = None\n",
    "    campus_id = None\n",
    "    agreed_w_reqd_statements = False\n",
    "\n",
    "    @classmethod\n",
    "    def _parse_event(cls, event):\n",
    "        if event[ 'type' ] == 'change' and event[ 'name' ] == 'value':\n",
    "            v = event['new']\n",
    "            return v\n",
    "\n",
    "    @classmethod\n",
    "    def set_professor_lname(cls, event):\n",
    "        v= cls._parse_event(event)\n",
    "        if v is not None:\n",
    "            cls.professor_last_name = v\n",
    "\n",
    "    @classmethod\n",
    "    def set_professor_fname(cls, event):\n",
    "        v= cls._parse_event(event)\n",
    "        if v is not None:\n",
    "            cls.professor_first_name = v\n",
    "\n",
    "    @classmethod\n",
    "    def set_campus_name(cls, event):\n",
    "        v = cls._parse_event(event)\n",
    "        if v is not None:\n",
    "            cls.campus_name = v\n",
    "            \n",
    "    @classmethod\n",
    "    def toggle_statement_agreement(cls):\n",
    "        cls.agreed_w_reqd_statements = not cls.agreed_w_reqd_statements\n"
   ]
  },
  {
   "cell_type": "code",
   "execution_count": 6,
   "metadata": {
    "ExecuteTime": {
     "end_time": "2019-02-15T23:55:26.863842Z",
     "start_time": "2019-02-15T23:55:26.858438Z"
    }
   },
   "outputs": [],
   "source": [
    "from CourseZero.FileSystemTools import getSystemRoot\n",
    "from CourseZero.DataStorageTools import load_campus_id_data\n",
    "from CourseZero import environment as env\n",
    "csu_id_data = '{}/csu_ids.json'.format(env.DATA_FOLDER)\n",
    "\n",
    "\n",
    "campus_ids = load_campus_id_data(csu_id_data)\n",
    "csu_names = [c['name'] for c in campus_ids]"
   ]
  },
  {
   "cell_type": "code",
   "execution_count": null,
   "metadata": {},
   "outputs": [],
   "source": []
  },
  {
   "cell_type": "code",
   "execution_count": null,
   "metadata": {},
   "outputs": [],
   "source": []
  },
  {
   "cell_type": "code",
   "execution_count": null,
   "metadata": {},
   "outputs": [],
   "source": []
  },
  {
   "cell_type": "markdown",
   "metadata": {},
   "source": [
    "# Find posted materials for your classes"
   ]
  },
  {
   "cell_type": "markdown",
   "metadata": {
    "ExecuteTime": {
     "end_time": "2019-02-15T20:43:45.701942Z",
     "start_time": "2019-02-15T20:43:45.699351Z"
    }
   },
   "source": [
    "## Your campus"
   ]
  },
  {
   "cell_type": "code",
   "execution_count": 7,
   "metadata": {
    "ExecuteTime": {
     "end_time": "2019-02-15T23:55:33.191183Z",
     "start_time": "2019-02-15T23:55:33.188326Z"
    }
   },
   "outputs": [],
   "source": [
    "from CourseZero.Widgets.CampusAndProfIdentifiers import make_campus_selector"
   ]
  },
  {
   "cell_type": "code",
   "execution_count": 5,
   "metadata": {
    "ExecuteTime": {
     "end_time": "2019-02-15T23:54:57.391059Z",
     "start_time": "2019-02-15T23:54:57.267952Z"
    },
    "deletable": false,
    "editable": false,
    "run_control": {
     "frozen": true
    }
   },
   "outputs": [
    {
     "ename": "NameError",
     "evalue": "name 'csu_names' is not defined",
     "traceback": [
      "\u001b[0;31m---------------------------------------------------------------------------\u001b[0m",
      "\u001b[0;31mNameError\u001b[0m                                 Traceback (most recent call last)",
      "\u001b[0;32m<ipython-input-5-dbf396f0e47e>\u001b[0m in \u001b[0;36m<module>\u001b[0;34m\u001b[0m\n\u001b[1;32m     21\u001b[0m     \u001b[0mdisplay\u001b[0m\u001b[0;34m(\u001b[0m\u001b[0mcampus_sel\u001b[0m\u001b[0;34m)\u001b[0m\u001b[0;34m\u001b[0m\u001b[0m\n\u001b[1;32m     22\u001b[0m \u001b[0;34m\u001b[0m\u001b[0m\n\u001b[0;32m---> 23\u001b[0;31m \u001b[0mmake_campus_selector\u001b[0m\u001b[0;34m(\u001b[0m\u001b[0mTakedownStore\u001b[0m\u001b[0;34m)\u001b[0m\u001b[0;34m\u001b[0m\u001b[0m\n\u001b[0m",
      "\u001b[0;32m<ipython-input-5-dbf396f0e47e>\u001b[0m in \u001b[0;36mmake_campus_selector\u001b[0;34m(store)\u001b[0m\n\u001b[1;32m      3\u001b[0m \u001b[0;34m\u001b[0m\u001b[0m\n\u001b[1;32m      4\u001b[0m     campus_sel = widgets.Dropdown(\n\u001b[0;32m----> 5\u001b[0;31m         \u001b[0moptions\u001b[0m\u001b[0;34m=\u001b[0m\u001b[0mcsu_names\u001b[0m\u001b[0;34m,\u001b[0m\u001b[0;34m\u001b[0m\u001b[0m\n\u001b[0m\u001b[1;32m      6\u001b[0m         \u001b[0mdescription\u001b[0m\u001b[0;34m=\u001b[0m\u001b[0;34m'Campus'\u001b[0m\u001b[0;34m,\u001b[0m\u001b[0;34m\u001b[0m\u001b[0m\n\u001b[1;32m      7\u001b[0m         \u001b[0mdisabled\u001b[0m\u001b[0;34m=\u001b[0m\u001b[0;32mFalse\u001b[0m\u001b[0;34m,\u001b[0m\u001b[0;34m\u001b[0m\u001b[0m\n",
      "\u001b[0;31mNameError\u001b[0m: name 'csu_names' is not defined"
     ],
     "output_type": "error"
    }
   ],
   "source": [
    "def make_campus_selector(store):\n",
    "    layout = widgets.Layout( width='80%' )\n",
    "\n",
    "    campus_sel = widgets.Dropdown(\n",
    "        options=csu_names,\n",
    "        description='Campus',\n",
    "        disabled=False,\n",
    "        layout=layout\n",
    "    )\n",
    "\n",
    "    def campus_select_handler(event):\n",
    "        if event[ 'type' ] == 'change' and event[ 'name' ] == 'value':\n",
    "            v = event['new']\n",
    "            # set the campus name\n",
    "            store.campus_name = v\n",
    "            # look up the id and store it\n",
    "            cid = list(filter(lambda x: x['name'] == v, campus_ids))\n",
    "            store.campus_id = cid[0]['campus_id']\n",
    "\n",
    "    campus_sel.observe( campus_select_handler )\n",
    "    display(campus_sel)\n",
    "\n",
    "make_campus_selector(TakedownStore)"
   ]
  },
  {
   "cell_type": "code",
   "execution_count": 8,
   "metadata": {
    "ExecuteTime": {
     "end_time": "2019-02-15T23:55:42.579699Z",
     "start_time": "2019-02-15T23:55:42.566671Z"
    }
   },
   "outputs": [
    {
     "data": {
      "text/plain": [
       "Dropdown(description='Campus', layout=Layout(width='80%'), options=('California State University Bakersfield',…"
      ]
     },
     "metadata": {},
     "output_type": "display_data"
    }
   ],
   "source": [
    "make_campus_selector(TakedownStore, campus_ids)"
   ]
  },
  {
   "cell_type": "markdown",
   "metadata": {
    "ExecuteTime": {
     "end_time": "2019-02-15T20:43:46.330400Z",
     "start_time": "2019-02-15T20:43:46.326850Z"
    }
   },
   "source": [
    "## You"
   ]
  },
  {
   "cell_type": "code",
   "execution_count": null,
   "metadata": {
    "ExecuteTime": {
     "end_time": "2019-02-15T21:21:13.817474Z",
     "start_time": "2019-02-15T21:21:13.788032Z"
    }
   },
   "outputs": [],
   "source": [
    "fname = widgets.Text( description=\"First\" )\n",
    "fname.observe( DataStore.set_professor_fname )\n",
    "\n",
    "lname = widgets.Text( description=\"Last\" )\n",
    "lname.observe( DataStore.set_professor_lname )\n",
    "print(\"please enter your name\")\n",
    "display( widgets.HBox( [ fname, lname ] ) )"
   ]
  },
  {
   "cell_type": "code",
   "execution_count": null,
   "metadata": {},
   "outputs": [],
   "source": []
  },
  {
   "cell_type": "code",
   "execution_count": null,
   "metadata": {},
   "outputs": [],
   "source": []
  },
  {
   "cell_type": "code",
   "execution_count": null,
   "metadata": {
    "ExecuteTime": {
     "end_time": "2019-02-15T20:56:24.138566Z",
     "start_time": "2019-02-15T20:56:24.135579Z"
    }
   },
   "outputs": [],
   "source": [
    "print(DataStore.professor_name)"
   ]
  },
  {
   "cell_type": "code",
   "execution_count": null,
   "metadata": {
    "ExecuteTime": {
     "end_time": "2019-02-15T20:56:20.669926Z",
     "start_time": "2019-02-15T20:56:20.666749Z"
    }
   },
   "outputs": [],
   "source": [
    "print(DataStore.campus_name)"
   ]
  },
  {
   "cell_type": "code",
   "execution_count": null,
   "metadata": {
    "ExecuteTime": {
     "end_time": "2019-02-15T23:51:21.698430Z",
     "start_time": "2019-02-15T23:51:21.692475Z"
    }
   },
   "outputs": [],
   "source": [
    "TakedownStore.campus_id"
   ]
  },
  {
   "cell_type": "markdown",
   "metadata": {
    "ExecuteTime": {
     "end_time": "2019-02-15T21:35:34.806755Z",
     "start_time": "2019-02-15T21:35:34.803667Z"
    }
   },
   "source": [
    "# Find what materials have been posted for your classes"
   ]
  },
  {
   "cell_type": "code",
   "execution_count": null,
   "metadata": {},
   "outputs": [],
   "source": []
  },
  {
   "cell_type": "code",
   "execution_count": null,
   "metadata": {},
   "outputs": [],
   "source": []
  },
  {
   "cell_type": "code",
   "execution_count": null,
   "metadata": {},
   "outputs": [],
   "source": []
  },
  {
   "cell_type": "code",
   "execution_count": null,
   "metadata": {},
   "outputs": [],
   "source": []
  },
  {
   "cell_type": "markdown",
   "metadata": {},
   "source": [
    "# Request takedown"
   ]
  },
  {
   "cell_type": "markdown",
   "metadata": {},
   "source": [
    "Needed fields\n",
    "    Who is impacted\n",
    "        - I vs my company organization or client\n",
    "    \n",
    "    Identify the material in question (original, official title)\n",
    "    \n",
    "    Course Hero URL\n",
    "    \n",
    "    Contact info\n",
    "        University\n",
    "        Title or Job position\n",
    "        City\n",
    "        Zip code\n",
    "        Phone number\n",
    "        Full legal name\n",
    "        Street address\n",
    "        State\n",
    "        Country\n",
    "        email address\n",
    "        \n",
    "     Check boxes\n",
    "     By checking the following boxes, I state that... all checkboxes are\n",
    "    - I have a good faith belief that use of the material in the manner complained of is not authorized by the copyright owner, its agent, or the law.\n",
    "    - This notification is accurate.\n",
    "    - Under Penalty of Perjury, I am authorized to act on behalf of the owner of an exclusive right that is allegedly infringed.\n",
    "    - I acknowledge that under Section 512(f) of the DMCA any person who knowingly materially misrepresents that material or activity is infringing may be subject to liability for damages. \n",
    "\n",
    "Digital signature"
   ]
  },
  {
   "cell_type": "code",
   "execution_count": null,
   "metadata": {},
   "outputs": [],
   "source": []
  },
  {
   "cell_type": "markdown",
   "metadata": {},
   "source": [
    "## Make required assertions\n",
    "\n",
    "By clicking the button below, you are asserting all of the following. Do not click unless you agree with all statements:\n",
    "     - I have a good faith belief that use of the material in the manner complained of is not authorized by the copyright owner, its agent, or the law.\n",
    "    - This notification is accurate.\n",
    "    - Under Penalty of Perjury, I am authorized to act on behalf of the owner of an exclusive right that is allegedly infringed.\n",
    "    - I acknowledge that under Section 512(f) of the DMCA any person who knowingly materially misrepresents that material or activity is infringing may be subject to liability for damages. \n"
   ]
  },
  {
   "cell_type": "code",
   "execution_count": null,
   "metadata": {
    "ExecuteTime": {
     "end_time": "2019-02-15T21:32:22.285072Z",
     "start_time": "2019-02-15T21:32:22.269815Z"
    }
   },
   "outputs": [],
   "source": [
    "layout = widgets.Layout( width='80%' )\n",
    "assertions_button = widgets.Button(description=\"I agree with all of the required statements\",\n",
    "                                  button_style=\"danger\",\n",
    "                                  layout=layout)\n",
    "\n",
    "def assertion_handler(event):\n",
    "    DataStore.toggle_statement_agreement()\n",
    "    assertions_button.button_style = 'success'\n",
    "\n",
    "assertions_button.on_click(assertion_handler)\n",
    "display(assertions_button)"
   ]
  },
  {
   "cell_type": "code",
   "execution_count": null,
   "metadata": {
    "ExecuteTime": {
     "end_time": "2019-02-15T21:32:25.294979Z",
     "start_time": "2019-02-15T21:32:25.291228Z"
    }
   },
   "outputs": [],
   "source": [
    "DataStore.agreed_w_reqd_statements"
   ]
  },
  {
   "cell_type": "code",
   "execution_count": null,
   "metadata": {},
   "outputs": [],
   "source": []
  },
  {
   "cell_type": "markdown",
   "metadata": {
    "ExecuteTime": {
     "end_time": "2019-02-15T21:36:10.751040Z",
     "start_time": "2019-02-15T21:36:10.748382Z"
    }
   },
   "source": [
    "# Submit your request"
   ]
  },
  {
   "cell_type": "code",
   "execution_count": null,
   "metadata": {},
   "outputs": [],
   "source": []
  },
  {
   "cell_type": "code",
   "execution_count": null,
   "metadata": {},
   "outputs": [],
   "source": []
  },
  {
   "cell_type": "code",
   "execution_count": null,
   "metadata": {},
   "outputs": [],
   "source": []
  },
  {
   "cell_type": "code",
   "execution_count": null,
   "metadata": {},
   "outputs": [],
   "source": []
  },
  {
   "cell_type": "code",
   "execution_count": null,
   "metadata": {
    "ExecuteTime": {
     "end_time": "2019-02-15T20:28:19.438068Z",
     "start_time": "2019-02-15T20:28:19.431454Z"
    },
    "run_control": {
     "marked": true
    }
   },
   "outputs": [],
   "source": [
    "\n",
    "\n",
    "\n",
    "# -------- General\n",
    "def make_text_input( input_dict ):\n",
    "    \"\"\"Creates a text input field. The given dictionary should have keys 'label' and 'handler'\"\"\"\n",
    "    text = widgets.Text( description=input_dict[ 'label' ] )\n",
    "    display( text )\n",
    "    text.observe( input_dict[ 'handler' ] )\n",
    "    return text"
   ]
  },
  {
   "cell_type": "code",
   "execution_count": null,
   "metadata": {},
   "outputs": [],
   "source": []
  },
  {
   "cell_type": "code",
   "execution_count": null,
   "metadata": {},
   "outputs": [],
   "source": [
    "CHPAGE = \"https://www.coursehero.com/copyright-infringement\"\n",
    "\n",
    "from CourseZero.RequestTools import get_content\n",
    "\n",
    "# def get_content(url, headers={}):\n",
    "#     response = requests.get(url, headers=headers)\n",
    "#     return response.content\n",
    "\n",
    "html_content = get_content(CHPAGE, headers)\n",
    "\n",
    "soup = BeautifulSoup(html_content, 'html.parser')\n",
    "\n",
    "soup.findAll('input')"
   ]
  },
  {
   "cell_type": "code",
   "execution_count": null,
   "metadata": {},
   "outputs": [],
   "source": [
    "response = requests.get(url=CHPAGE)"
   ]
  },
  {
   "cell_type": "code",
   "execution_count": null,
   "metadata": {},
   "outputs": [],
   "source": [
    "response.decode"
   ]
  },
  {
   "cell_type": "code",
   "execution_count": null,
   "metadata": {},
   "outputs": [],
   "source": [
    "get_content(\"https://www.coursehero.com/file/7442544/QUIZ-ANSWERS/\")"
   ]
  }
 ],
 "metadata": {
  "kernelspec": {
   "display_name": "Python 3",
   "language": "python",
   "name": "python3"
  },
  "language_info": {
   "codemirror_mode": {
    "name": "ipython",
    "version": 3
   },
   "file_extension": ".py",
   "mimetype": "text/x-python",
   "name": "python",
   "nbconvert_exporter": "python",
   "pygments_lexer": "ipython3",
   "version": "3.6.4"
  },
  "toc": {
   "base_numbering": 1.0,
   "nav_menu": {},
   "number_sections": true,
   "sideBar": true,
   "skip_h1_title": false,
   "title_cell": "Table of Contents",
   "title_sidebar": "Contents",
   "toc_cell": false,
   "toc_position": {},
   "toc_section_display": true,
   "toc_window_display": false
  }
 },
 "nbformat": 4,
 "nbformat_minor": 2
}
