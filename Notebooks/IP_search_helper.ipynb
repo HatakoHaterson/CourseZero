{
 "cells": [
  {
   "cell_type": "markdown",
   "metadata": {
    "ExecuteTime": {
     "end_time": "2019-02-16T04:17:45.566277Z",
     "start_time": "2019-02-16T04:17:45.563812Z"
    }
   },
   "source": [
    "# What's this?\n",
    "\n",
    "The Course Hero website allows students to upload materials to assist other students. Unfortunately, this may include items which violate their instructors' intellectual property rights. Course Hero professes a commitment to protecting intellectual property and provides an easy to use webform (https://www.coursehero.com/copyright-infringement/) to request the removal of infringing materials. \n",
    "\n",
    "However, the site does not seem to standardize the names / abbreviations for departments and courses, and it uses the uploading student's favored spelling of the instructor's name. This makes it difficult for an instructor to be sure they've checked all materials which might belong to them.\n",
    "\n",
    "This is a tool which automates the process of searching the site to help me more easily keep tabs on my intellectual property.\n",
    "\n",
    "It is thus extremely rough and probably not very user friendly. That said, I am making them public in case others find them useful.  \n",
    "\n",
    "These tools are provided in the hope that they will be useful to teachers seeking to protect their intellectual property, but WITHOUT ANY WARRANTY; without even the implied warranty of MERCHANTABILITY or FITNESS FOR A PARTICULAR PURPOSE.\n",
    "\n",
    "I am not a lawyer; nothing in here should be construed as legal advice. Make sure you understand your rights and responsibilities under the DCMA and other applicable laws before submitting takedown requests. These tools are provided with no warranty or claim that their use is consistent with any law, policy, terms of service, or any other constraint. IF YOU CHOOSE TO USE THEM, YOU AGREE TO REVIEW AND COMPLY WITH ALL RELEVANT POLICIES, INCLUDING SITE TERMS OF SERVICE, AND YOU AGREE THAT YOUR USE IS SOLELY AT YOUR OWN RISK.\n",
    "\n",
    "Questions, requests, complaints, or other feedback (or pull-requests to improve it!) are welcome through this project's github page\n",
    "        \n",
    "        https://github.com/HatakoHaterson/CourseZero\n",
    "\n",
    "Please understand that this is not an active project for me; I will monitor the project on github very infrequently.\n",
    "\n",
    "-- 復讐者\n",
    "\n",
    "\n",
    "# Instructions\n",
    "If you want to see what this looks like without running it, you can view a static image of the main notebook (though you won't be able to see the actual output) on Jupyter: \n",
    "    \n",
    "    https://nbviewer.jupyter.org/github/HatakoHaterson/CourseZero/blob/master/Notebooks/IP_search_helper.ipynb?flush_cache=true\n",
    "\n",
    "If you have Jupyter/iPython running on your computer, you don't need me to tell you what to do.\n",
    "\n",
    "For most folks, it will be easiest to run it on your own free mini-server using Binder:\n",
    "\n",
    "    https://mybinder.org/v2/gh/HatakoHaterson/CourseZero/master?filepath=Notebooks%2FIP_search_helper.ipynb\n",
    "\n",
    "\n",
    "Once you've got the notebook open, select 'Run all' from the 'Cell' menu. Alternatively, press the run button in the toolbar repeatedly until you've reached the bottom of the page.\n",
    "\n",
    "Please note that each step will take several seconds to run as the tool queries the Course Hero site. I didn't add any progress notifications, so it may seem to be frozen. Please be patient while it's working --if you click buttons before the previous search has finished, you may discover why I said it's not entirely user friendly. \n",
    "\n",
    "If you have trouble, select 'Restart and clear output' from the 'Kernel' menu and try again.\n",
    "\n",
    "\n",
    "When the cells below run, they will display a selection menu of all CSU campuses. Use it to select the CSU you want to search.\n",
    "\n",
    "NB, for now this will only work with CSU campuses. If there is a demand for covering more institutions, please leave a note on the github page \n",
    "\n",
    "When the search starts it will display a message like \"Searching for California State University Dominguez Hills\". You may need to wait a few seconds for it to complete.\n",
    "\n",
    "When the search completes, it will display buttons with all the departments found for the campus. Select all the departments you want to search for materials from. That will initiate a search for courses associated with those departments; from there you'll be able to select files students have uploaded for those courses.\n",
    "\n",
    "Again, the site does not seem to standardize the names students enter. Thus you and your classes may be identified in some rather odd ways....\n"
   ]
  },
  {
   "cell_type": "code",
   "execution_count": 1,
   "metadata": {
    "ExecuteTime": {
     "end_time": "2019-07-19T18:52:33.166916Z",
     "start_time": "2019-07-19T18:52:33.155665Z"
    }
   },
   "outputs": [
    {
     "data": {
      "application/javascript": [
       "IPython.OutputArea.prototype._should_scroll = function(lines) {\n",
       "    return false;\n",
       "}\n"
      ],
      "text/plain": [
       "<IPython.core.display.Javascript object>"
      ]
     },
     "metadata": {},
     "output_type": "display_data"
    }
   ],
   "source": [
    "%%javascript\n",
    "IPython.OutputArea.prototype._should_scroll = function(lines) {\n",
    "    return false;\n",
    "}"
   ]
  },
  {
   "cell_type": "code",
   "execution_count": 2,
   "metadata": {
    "ExecuteTime": {
     "end_time": "2019-07-19T18:52:36.241509Z",
     "start_time": "2019-07-19T18:52:35.531224Z"
    }
   },
   "outputs": [
    {
     "name": "stdout",
     "output_type": "stream",
     "text": [
      "/Users/復讐者/Dropbox/CourseZero\n"
     ]
    },
    {
     "data": {
      "application/vnd.jupyter.widget-view+json": {
       "model_id": "7350f7bd2ee84729829a88bf49426c11",
       "version_major": 2,
       "version_minor": 0
      },
      "text/plain": [
       "VBox(children=(HTML(value='<h1>Select campus to search</h1>'), Dropdown(description='Campus', layout=Layout(wi…"
      ]
     },
     "metadata": {},
     "output_type": "display_data"
    },
    {
     "name": "stdout",
     "output_type": "stream",
     "text": [
      "Searching for California Maritime Academy\n",
      "34 courses identified at California Maritime Academy\n",
      "23 department names located\n"
     ]
    },
    {
     "data": {
      "application/vnd.jupyter.widget-view+json": {
       "model_id": "54142fe4ab8a436c9df172285fa2980c",
       "version_major": 2,
       "version_minor": 0
      },
      "text/plain": [
       "Output(layout=Layout(border='1px solid black'))"
      ]
     },
     "metadata": {},
     "output_type": "display_data"
    },
    {
     "data": {
      "application/vnd.jupyter.widget-view+json": {
       "model_id": "901569c9eac24aeda9f58f2306723034",
       "version_major": 2,
       "version_minor": 0
      },
      "text/plain": [
       "Output(layout=Layout(border='1px solid black'))"
      ]
     },
     "metadata": {},
     "output_type": "display_data"
    },
    {
     "data": {
      "application/vnd.jupyter.widget-view+json": {
       "model_id": "a4bc66f88b07497fb9804cbab8b61135",
       "version_major": 2,
       "version_minor": 0
      },
      "text/plain": [
       "Output(layout=Layout(border='1px solid black'))"
      ]
     },
     "metadata": {},
     "output_type": "display_data"
    },
    {
     "data": {
      "application/vnd.jupyter.widget-view+json": {
       "model_id": "6cff6fe52af24c0cade783f1c3c99c39",
       "version_major": 2,
       "version_minor": 0
      },
      "text/plain": [
       "Output(layout=Layout(border='1px solid black'))"
      ]
     },
     "metadata": {},
     "output_type": "display_data"
    },
    {
     "data": {
      "application/vnd.jupyter.widget-view+json": {
       "model_id": "68d18291ed9f4f4d8cd1e8737cf90968",
       "version_major": 2,
       "version_minor": 0
      },
      "text/plain": [
       "Output(layout=Layout(border='1px solid black'))"
      ]
     },
     "metadata": {},
     "output_type": "display_data"
    },
    {
     "data": {
      "application/vnd.jupyter.widget-view+json": {
       "model_id": "5b5f298f375f4400a097aba2227b966a",
       "version_major": 2,
       "version_minor": 0
      },
      "text/plain": [
       "Output(layout=Layout(border='1px solid black'))"
      ]
     },
     "metadata": {},
     "output_type": "display_data"
    }
   ],
   "source": [
    "# for binder\n",
    "# !pip install CourseZero\n",
    "\n",
    "# for local testing\n",
    "%cd ../\n",
    "\n",
    "from environment import *\n",
    "from CourseZero.Widgets.CampusAndProfIdentifiers import make_campus_selector\n",
    "from CourseZero.UI import search_depts\n",
    "\n",
    "make_campus_selector(DataStore, search_depts)"
   ]
  }
 ],
 "metadata": {
  "kernelspec": {
   "display_name": "Python 3",
   "language": "python",
   "name": "python3"
  },
  "language_info": {
   "codemirror_mode": {
    "name": "ipython",
    "version": 3
   },
   "file_extension": ".py",
   "mimetype": "text/x-python",
   "name": "python",
   "nbconvert_exporter": "python",
   "pygments_lexer": "ipython3",
   "version": "3.6.4"
  },
  "latex_envs": {
   "LaTeX_envs_menu_present": true,
   "autoclose": false,
   "autocomplete": true,
   "bibliofile": "biblio.bib",
   "cite_by": "apalike",
   "current_citInitial": 1,
   "eqLabelWithNumbers": true,
   "eqNumInitial": 1,
   "hotkeys": {
    "equation": "Ctrl-E",
    "itemize": "Ctrl-I"
   },
   "labels_anchors": false,
   "latex_user_defs": false,
   "report_style_numbering": false,
   "user_envs_cfg": false
  },
  "toc": {
   "base_numbering": 1,
   "nav_menu": {},
   "number_sections": true,
   "sideBar": true,
   "skip_h1_title": false,
   "title_cell": "Table of Contents",
   "title_sidebar": "Contents",
   "toc_cell": false,
   "toc_position": {},
   "toc_section_display": true,
   "toc_window_display": false
  }
 },
 "nbformat": 4,
 "nbformat_minor": 2
}
