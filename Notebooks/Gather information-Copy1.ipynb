{
 "cells": [
  {
   "cell_type": "code",
   "execution_count": 1,
   "metadata": {
    "ExecuteTime": {
     "end_time": "2019-02-16T03:52:14.891811Z",
     "start_time": "2019-02-16T03:52:14.886411Z"
    }
   },
   "outputs": [
    {
     "name": "stdout",
     "output_type": "stream",
     "text": [
      "/Users/復讐者/Dropbox/CourseZero\n"
     ]
    }
   ],
   "source": [
    "%cd ../"
   ]
  },
  {
   "cell_type": "code",
   "execution_count": 2,
   "metadata": {
    "ExecuteTime": {
     "end_time": "2019-02-16T03:52:15.736092Z",
     "start_time": "2019-02-16T03:52:15.173881Z"
    }
   },
   "outputs": [],
   "source": [
    "import json\n",
    "import pandas as pd\n",
    "\n",
    "import requests\n",
    "from bs4 import BeautifulSoup\n",
    "from CourseZero.FileSystemTools import getSystemRoot\n",
    "\n",
    "\n",
    "from IPython.display import display\n",
    "from ipywidgets import widgets\n",
    "\n",
    "from CourseZero import environment as env\n",
    "\n",
    "data_json = \"{}/chdata.json\".format(env.DATA_FOLDER)\n",
    "output_file = \"{}/coursehero-draft.csv\".format(env.STORAGE_FOLDER)"
   ]
  },
  {
   "cell_type": "code",
   "execution_count": 4,
   "metadata": {
    "ExecuteTime": {
     "end_time": "2019-02-16T03:52:18.807454Z",
     "start_time": "2019-02-16T03:52:18.802710Z"
    }
   },
   "outputs": [],
   "source": [
    "from CourseZero.Store import DataStore\n",
    "from CourseZero.Widgets.CampusAndProfIdentifiers import make_campus_selector"
   ]
  },
  {
   "cell_type": "markdown",
   "metadata": {},
   "source": [
    "# Load campus ids from file"
   ]
  },
  {
   "cell_type": "code",
   "execution_count": 3,
   "metadata": {
    "ExecuteTime": {
     "end_time": "2019-02-16T03:52:15.787793Z",
     "start_time": "2019-02-16T03:52:15.782357Z"
    }
   },
   "outputs": [],
   "source": [
    "from CourseZero.FileSystemTools import getSystemRoot\n",
    "from CourseZero.DataStorageTools import load_campus_id_data\n",
    "\n",
    "csu_id_data = '{}/csu_ids.json'.format(env.DATA_FOLDER)\n",
    "\n",
    "campus_ids = load_campus_id_data(csu_id_data)\n",
    "csu_names = [c['name'] for c in campus_ids]"
   ]
  },
  {
   "cell_type": "markdown",
   "metadata": {
    "ExecuteTime": {
     "end_time": "2019-02-16T04:17:45.566277Z",
     "start_time": "2019-02-16T04:17:45.563812Z"
    }
   },
   "source": [
    "# Select your campus"
   ]
  },
  {
   "cell_type": "code",
   "execution_count": null,
   "metadata": {
    "ExecuteTime": {
     "end_time": "2019-02-15T23:57:06.928046Z",
     "start_time": "2019-02-15T23:57:06.914765Z"
    }
   },
   "outputs": [],
   "source": [
    "make_campus_selector(DataStore, campus_ids)"
   ]
  },
  {
   "cell_type": "markdown",
   "metadata": {},
   "source": [
    "# courses"
   ]
  },
  {
   "cell_type": "code",
   "execution_count": null,
   "metadata": {},
   "outputs": [],
   "source": []
  },
  {
   "cell_type": "code",
   "execution_count": null,
   "metadata": {},
   "outputs": [],
   "source": []
  },
  {
   "cell_type": "code",
   "execution_count": null,
   "metadata": {},
   "outputs": [],
   "source": []
  },
  {
   "cell_type": "code",
   "execution_count": null,
   "metadata": {},
   "outputs": [],
   "source": []
  },
  {
   "cell_type": "code",
   "execution_count": null,
   "metadata": {},
   "outputs": [],
   "source": []
  },
  {
   "cell_type": "markdown",
   "metadata": {},
   "source": [
    "# course search"
   ]
  },
  {
   "cell_type": "code",
   "execution_count": 10,
   "metadata": {
    "ExecuteTime": {
     "end_time": "2019-02-16T03:52:40.037034Z",
     "start_time": "2019-02-16T03:52:40.031911Z"
    }
   },
   "outputs": [],
   "source": [
    "def parse_json_into_df(json_data):\n",
    "    \"\"\"Parse json data into a usable dataframe\n",
    "    For now: Control which columns are kept by commenting out in to_keep\n",
    "    \"\"\"\n",
    "    to_keep = [\n",
    "#         '@timestamp', \n",
    "     'canonical_course_id', \n",
    "#         'country', \n",
    "        'course_id',\n",
    "       'course_info', \n",
    "        'course_name', \n",
    "        'course_num', \n",
    "#         'course_pk', \n",
    "        'dept_acro',\n",
    "       'dept_id', \n",
    "        'dept_name', \n",
    "        'doc_counts', # if this isn't removed, can't dedupe\n",
    "#         'location', \n",
    "        'prof_id',\n",
    "       'prof_name', \n",
    "#         'school_aliases', \n",
    "#         'school_id', \n",
    "        'school_name',\n",
    "#        'subdivision', \n",
    "        'term', \n",
    "        'title', \n",
    "        'total_doc_count', \n",
    "        'type', \n",
    "        'url',\n",
    "       'verified', \n",
    "        'year'\n",
    "    ]\n",
    "\n",
    "    data = []\n",
    "\n",
    "    for r in json_data:\n",
    "        try:\n",
    "            if r['total'] >0: \n",
    "                for row in r['results']:\n",
    "                    data.append(row)\n",
    "\n",
    "        except Exception as e:\n",
    "            pass\n",
    "    \n",
    "    data = pd.DataFrame(data)\n",
    "    data = data[to_keep]\n",
    "\n",
    "    # Parse the counts of each kind of document out\n",
    "    def parse_counts(row):\n",
    "        for c in row['doc_counts']:\n",
    "            row[c['category']] = c['count']\n",
    "        return row\n",
    "    data = data.apply(lambda r: parse_counts(r), axis=1)\n",
    "    # We need to drop the counts column so can de-dupe\n",
    "    data.drop(['doc_counts'], axis=1, inplace=True)\n",
    "    data.drop_duplicates(inplace=True)\n",
    "    return data\n",
    "\n",
    "# Data frame operations\n",
    "def get_departments(frame):\n",
    "    # Extract standard list of departments\n",
    "    depts = list(set(frame.dept_acro.tolist()))\n",
    "    depts.sort()\n",
    "    return depts\n",
    "\n",
    "def normalize_prof_name(prof_name):\n",
    "    return prof_name.strip().upper()\n",
    "\n",
    "# Frame filtration operations\n",
    "def filter_by_dept_abbrevs(frame):\n",
    "    return frame[frame['dept_acro'].isin(DataStore.departments)]\n",
    "\n",
    "def get_by_course_id(frame, course_ids):\n",
    "    if type(course_ids) is not list:\n",
    "        course_ids = list(course_ids)\n",
    "    return frame[frame['course_id'].isin(course_ids)]\n",
    "#     return frame[frame['course_id'] == course_id]"
   ]
  },
  {
   "cell_type": "code",
   "execution_count": null,
   "metadata": {
    "ExecuteTime": {
     "end_time": "2018-11-09T19:22:46.637754Z",
     "start_time": "2018-11-09T19:22:46.633821Z"
    }
   },
   "outputs": [],
   "source": [
    "len(csus)"
   ]
  },
  {
   "cell_type": "code",
   "execution_count": null,
   "metadata": {
    "ExecuteTime": {
     "end_time": "2018-11-09T19:28:11.469504Z",
     "start_time": "2018-11-09T19:28:11.462696Z"
    }
   },
   "outputs": [],
   "source": [
    "# Url for finding campus ids\n",
    "from CourseZero.UrlMakers import make_campus_search_url, make_course_search_url\n",
    "\n",
    "# def make_campus_search_url(campus):\n",
    "#     campus_search_url = \"https://www.coursehero.com/ajax/autocomplete_resultset.php?term=%s&type=school\"\n",
    "#     return campus_search_url % campus\n",
    "# \n",
    "# def make_course_search_url(query, csu_id):\n",
    "#     course_search_url = \"https://www.coursehero.com/api/v1/courses/search/?q=%s&schoolId=%s\"\n",
    "#     return course_search_url % (query, csu_id)"
   ]
  },
  {
   "cell_type": "code",
   "execution_count": null,
   "metadata": {
    "ExecuteTime": {
     "end_time": "2018-11-09T19:35:34.961723Z",
     "start_time": "2018-11-09T19:35:34.757816Z"
    }
   },
   "outputs": [],
   "source": [
    "url = make_campus_search_url('Chico')\n",
    "r = requests.get(url, headers=headers)\n",
    "r.json()"
   ]
  },
  {
   "cell_type": "markdown",
   "metadata": {},
   "source": [
    "# Campus id finding"
   ]
  },
  {
   "cell_type": "code",
   "execution_count": null,
   "metadata": {
    "ExecuteTime": {
     "end_time": "2019-02-15T19:37:13.275939Z",
     "start_time": "2019-02-15T19:37:13.270641Z"
    },
    "deletable": false,
    "editable": false,
    "run_control": {
     "frozen": true
    }
   },
   "outputs": [],
   "source": [
    "campus_ids = [('California State University Bakersfield', '262'),\n",
    "              ('California State University, Chico', '264'),\n",
    " ('California State University Channel islands', '263'),\n",
    " ('California State University Dominguez hills', '265'),\n",
    " ('California State University East bay', '266'),\n",
    " ('California State University Fresno', '267'),\n",
    " ('California State University Fullerton', '268'),\n",
    " ('Humboldt State University', '3303'),\n",
    " ('California State University Long beach', '270'),\n",
    " ('California State University Los Angeles', '269'),\n",
    " ('California Maritime Academy', '245'),\n",
    "              ('California State University Monterey Bay', '3348' ),\n",
    " ('California State University Northridge', '272'),\n",
    " ('California Polytechnic State University, San Luis Obispo', '50'),\n",
    " ('California State University San bernardino', '274'),\n",
    "('California State University, Sacramento', '273'),\n",
    " ('San Diego State University', '24'),\n",
    " ('San Francisco State University', '362'),\n",
    " ('San jose State University', '19'),\n",
    " ('Sonoma State University', '382'),\n",
    " ('California State University San Marcos', '275'),\n",
    " ('California State University Stanislaus', '276'),\n",
    "('California Polytechnic State University, Pomona', '248'),\n",
    "]"
   ]
  },
  {
   "cell_type": "markdown",
   "metadata": {},
   "source": [
    "## campus doc counts"
   ]
  },
  {
   "cell_type": "code",
   "execution_count": null,
   "metadata": {
    "ExecuteTime": {
     "end_time": "2018-11-08T22:48:29.199067Z",
     "start_time": "2018-11-08T22:48:29.193386Z"
    }
   },
   "outputs": [],
   "source": [
    "document_counts = []\n",
    "\n",
    "for r in results:\n",
    "#     print(r[0]['document_count'])\n",
    "    document_counts.append((r[0]['label'], r[0]['document_count']))\n",
    "    print(r[0]['label'], r[0]['document_count'])\n",
    "#     print(list(r.decode('utf-8')))"
   ]
  },
  {
   "cell_type": "code",
   "execution_count": 5,
   "metadata": {
    "ExecuteTime": {
     "end_time": "2019-02-16T03:52:26.737582Z",
     "start_time": "2019-02-16T03:52:26.731612Z"
    }
   },
   "outputs": [],
   "source": [
    "from CourseZero.RequestTools import get_docs_for_campuses, get_docs_for_campus"
   ]
  },
  {
   "cell_type": "code",
   "execution_count": null,
   "metadata": {
    "ExecuteTime": {
     "end_time": "2019-02-16T03:52:38.803310Z",
     "start_time": "2019-02-16T03:52:27.243876Z"
    },
    "collapsed": false
   },
   "outputs": [
    {
     "name": "stdout",
     "output_type": "stream",
     "text": [
      "Searching for csun\n"
     ]
    },
    {
     "data": {
      "text/plain": [
       "26"
      ]
     },
     "execution_count": 6,
     "metadata": {},
     "output_type": "execute_result"
    }
   ],
   "source": [
    "json_data = get_docs_for_campus(268, 'csuf')"
   ]
  },
  {
   "cell_type": "code",
   "execution_count": null,
   "metadata": {
    "ExecuteTime": {
     "end_time": "2019-02-16T01:29:09.623621Z",
     "start_time": "2019-02-16T01:29:09.311896Z"
    },
    "deletable": false,
    "editable": false,
    "run_control": {
     "frozen": true
    }
   },
   "outputs": [],
   "source": [
    "json_data"
   ]
  },
  {
   "cell_type": "markdown",
   "metadata": {},
   "source": [
    "Responses look like this\n",
    "\n",
    "[{'total': 0, 'results': []},\n",
    " {'total': 25,\n",
    "  'results': [{'course_id': '1423503',\n",
    "    'canonical_course_id': '1423503',\n",
    "    'course_num': '280',\n",
    "    'course_name': 'BUSINESS LAW',\n",
    "    'dept_id': '43776',\n",
    "    'dept_acro': 'BLAW',\n",
    "    'dept_name': '',\n",
    "    'school_id': '272',\n",
    "    'school_name': 'California State University, Northridge',\n",
    "    'prof_id': '275168',\n",
    "    'prof_name': 'NG',\n",
    "    'course_pk': '1423503',\n",
    "    'verified': '0',\n",
    "    'year': '2011',\n",
    "    'term': '3',\n",
    "    'country': 'United States',\n",
    "    'subdivision': 'California',\n",
    "    'school_aliases': 'Cal State Northridge California State University Northridge California State University, Northridge CSU Northridge CSUN San Fernando Valley State College',\n",
    "    'course_info': 'BLAW 280 BUSINESS LAW',\n",
    "    'url': '/sitemap/schools/272-California-State-University-Northridge/courses/1423503-BLAW280/',\n",
    "    'total_doc_count': 238,\n",
    "    'doc_counts': [{'category': 'Essays', 'count': '17'},\n",
    "     {'category': 'Homework Help', 'count': '23'},\n",
    "     {'category': 'Notes', 'count': '149'},\n",
    "     {'category': 'Test Prep', 'count': '13'}],\n",
    "    'location': {'lat': '34.23550300', 'lon': '-118.52775300'},\n",
    "    'title': 'California State University, Northridge - BLAW 280 - BUSINESS LAW',\n",
    "    '@timestamp': '2018-07-27T18:02:22.000Z',\n",
    "    'type': 'course'},\n",
    "   {'course_id': '1266538',\n",
    "    'canonical_course_id': '1266538',\n",
    "    'course_num': '308',\n",
    "    'course_name': 'business law 11',\n",
    "    'dept_id': '43776',\n",
    "    'dept_acro': 'BLAW',\n",
    "    'dept_name': '',\n",
    "    'school_id': '272',\n",
    "    'school_name': 'California State University, Northridge',\n",
    "    'prof_id': '232909',\n",
    "    'prof_name': 'zucker',\n",
    "    'course_pk': '1266538',\n",
    "    'verified': '0',\n",
    "    'year': '2010',\n",
    "    'term': '3',\n",
    "    'country': 'United States',\n",
    "    'subdivision': 'California',\n",
    "    'school_aliases': 'Cal State Northridge California State University Northridge California State University, Northridge CSU Northridge CSUN San Fernando Valley State College',\n",
    "    'course_info': 'BLAW 308 business law 11',\n",
    "    'url': '/sitemap/schools/272-California-State-University-Northridge/courses/1266538-BLAW308/',\n",
    "    'total_doc_count': 204,"
   ]
  },
  {
   "cell_type": "code",
   "execution_count": 8,
   "metadata": {
    "ExecuteTime": {
     "end_time": "2019-02-16T03:52:40.022265Z",
     "start_time": "2019-02-16T03:52:38.817232Z"
    }
   },
   "outputs": [],
   "source": [
    "data = parse_json_into_df(json_data)"
   ]
  },
  {
   "cell_type": "code",
   "execution_count": 9,
   "metadata": {
    "ExecuteTime": {
     "end_time": "2019-02-16T03:52:40.029317Z",
     "start_time": "2019-02-16T03:52:40.025217Z"
    }
   },
   "outputs": [
    {
     "data": {
      "text/plain": [
       "364"
      ]
     },
     "execution_count": 9,
     "metadata": {},
     "output_type": "execute_result"
    }
   ],
   "source": [
    "len(data)"
   ]
  },
  {
   "cell_type": "code",
   "execution_count": 11,
   "metadata": {
    "ExecuteTime": {
     "end_time": "2019-02-16T03:52:40.042872Z",
     "start_time": "2019-02-16T03:52:40.039781Z"
    }
   },
   "outputs": [],
   "source": [
    "depts = get_departments(data)"
   ]
  },
  {
   "cell_type": "code",
   "execution_count": 12,
   "metadata": {
    "ExecuteTime": {
     "end_time": "2019-02-16T03:52:40.717817Z",
     "start_time": "2019-02-16T03:52:40.045397Z"
    }
   },
   "outputs": [],
   "source": [
    "def make_dept_b(dept):\n",
    "    b = widgets.Button(description=dept, button_style='primary')\n",
    "    def handle(event):\n",
    "        if dept in DataStore.departments:\n",
    "            DataStore.remove_department(dept)\n",
    "            b.button_style='primary'\n",
    "        else:\n",
    "            DataStore.add_department(dept)\n",
    "            b.button_style='success'\n",
    "    b.on_click(handle)\n",
    "    return b\n",
    "\n",
    "\n",
    "def split_list(a_list):\n",
    "    half = len(a_list)//2\n",
    "    return a_list[:half], a_list[half:]\n",
    "\n",
    "\n",
    "buttons = []\n",
    "for dept in depts:\n",
    "    buttons.append(make_dept_b(dept))\n",
    "\n",
    "b1, b3 = split_list(buttons)\n",
    "b1, b2 = split_list(b1)\n",
    "b3, b4 = split_list(b3)"
   ]
  },
  {
   "cell_type": "markdown",
   "metadata": {},
   "source": [
    "The site does not seem to standardize the departments students enter. Thus your class may be identified in some rather odd ways (it's almost as though someone wanted it to be hard)...\n",
    "\n",
    "Run the next cell and select all the possible departments using the buttons which display."
   ]
  },
  {
   "cell_type": "code",
   "execution_count": 13,
   "metadata": {
    "ExecuteTime": {
     "end_time": "2019-02-16T03:52:40.849294Z",
     "start_time": "2019-02-16T03:52:40.723502Z"
    }
   },
   "outputs": [
    {
     "data": {
      "text/plain": [
       "HBox(children=(VBox(children=(Button(button_style='primary', description='AAS', style=ButtonStyle()), Button(b…"
      ]
     },
     "metadata": {},
     "output_type": "display_data"
    }
   ],
   "source": [
    "display(widgets.HBox([widgets.VBox(b1), widgets.VBox(b2), widgets.VBox(b3), widgets.VBox(b4)]))"
   ]
  },
  {
   "cell_type": "code",
   "execution_count": 14,
   "metadata": {
    "ExecuteTime": {
     "end_time": "2019-02-16T03:52:46.137098Z",
     "start_time": "2019-02-16T03:52:46.131332Z"
    }
   },
   "outputs": [],
   "source": [
    "\n",
    "def make_selection_text(row):\n",
    "    t = \"{prof_name} ---- {dept_acro} {course_num} ----  {course_name} ----  {course_info}\"\n",
    "    return t.format(**row.to_dict())\n",
    "\n",
    "def make_course_b(row):\n",
    "    layout = widgets.Layout(width='90%')\n",
    "    b = widgets.Button(description=make_selection_text(row), button_style='primary', layout=layout)\n",
    "    \n",
    "    def handle(event):\n",
    "        if row['course_id'] in DataStore.course_ids:\n",
    "            DataStore.remove_course(row['course_id'])\n",
    "            b.button_style='primary'\n",
    "        else:\n",
    "            DataStore.add_course(row['course_id'])\n",
    "            b.button_style='success'\n",
    "    b.on_click(handle)\n",
    "    return b\n"
   ]
  },
  {
   "cell_type": "markdown",
   "metadata": {},
   "source": [
    "Run the next cell and select any of the courses which look like yours below"
   ]
  },
  {
   "cell_type": "code",
   "execution_count": 15,
   "metadata": {
    "ExecuteTime": {
     "end_time": "2019-02-16T03:52:48.098585Z",
     "start_time": "2019-02-16T03:52:48.075312Z"
    }
   },
   "outputs": [
    {
     "data": {
      "text/plain": [
       "VBox(children=(Button(button_style='primary', description='Abreu ---- HIST 101 ----  US History ----  HIST 101…"
      ]
     },
     "metadata": {},
     "output_type": "display_data"
    }
   ],
   "source": [
    "filtered = filter_by_dept_abbrevs(data)\n",
    "course_buttons =[]\n",
    "for i, r in filtered.iterrows():\n",
    "    course_buttons.append(make_course_b(r))\n",
    "\n",
    "display(widgets.VBox(course_buttons))"
   ]
  },
  {
   "cell_type": "markdown",
   "metadata": {},
   "source": [
    "# Display potentially stolen material"
   ]
  },
  {
   "cell_type": "code",
   "execution_count": 16,
   "metadata": {
    "ExecuteTime": {
     "end_time": "2019-02-16T03:52:54.116169Z",
     "start_time": "2019-02-16T03:52:54.089241Z"
    },
    "scrolled": true
   },
   "outputs": [
    {
     "data": {
      "text/html": [
       "<div>\n",
       "<style scoped>\n",
       "    .dataframe tbody tr th:only-of-type {\n",
       "        vertical-align: middle;\n",
       "    }\n",
       "\n",
       "    .dataframe tbody tr th {\n",
       "        vertical-align: top;\n",
       "    }\n",
       "\n",
       "    .dataframe thead th {\n",
       "        text-align: right;\n",
       "    }\n",
       "</style>\n",
       "<table border=\"1\" class=\"dataframe\">\n",
       "  <thead>\n",
       "    <tr style=\"text-align: right;\">\n",
       "      <th></th>\n",
       "      <th>Assessments</th>\n",
       "      <th>Assignments</th>\n",
       "      <th>Essays</th>\n",
       "      <th>Homework Help</th>\n",
       "      <th>Lab Reports</th>\n",
       "      <th>Lecture Slides</th>\n",
       "      <th>Lesson Plans</th>\n",
       "      <th>Notes</th>\n",
       "      <th>Test Prep</th>\n",
       "      <th>canonical_course_id</th>\n",
       "      <th>...</th>\n",
       "      <th>prof_id</th>\n",
       "      <th>prof_name</th>\n",
       "      <th>school_name</th>\n",
       "      <th>term</th>\n",
       "      <th>title</th>\n",
       "      <th>total_doc_count</th>\n",
       "      <th>type</th>\n",
       "      <th>url</th>\n",
       "      <th>verified</th>\n",
       "      <th>year</th>\n",
       "    </tr>\n",
       "  </thead>\n",
       "  <tbody>\n",
       "    <tr>\n",
       "      <th>161</th>\n",
       "      <td>NaN</td>\n",
       "      <td>NaN</td>\n",
       "      <td>1</td>\n",
       "      <td>NaN</td>\n",
       "      <td>NaN</td>\n",
       "      <td>NaN</td>\n",
       "      <td>NaN</td>\n",
       "      <td>9</td>\n",
       "      <td>1</td>\n",
       "      <td>1465170</td>\n",
       "      <td>...</td>\n",
       "      <td>296137</td>\n",
       "      <td>Abreu</td>\n",
       "      <td>California State University, Northridge</td>\n",
       "      <td>3</td>\n",
       "      <td>California State University, Northridge - HIST...</td>\n",
       "      <td>22</td>\n",
       "      <td>course</td>\n",
       "      <td>/sitemap/schools/272-California-State-Universi...</td>\n",
       "      <td>0</td>\n",
       "      <td>2011</td>\n",
       "    </tr>\n",
       "    <tr>\n",
       "      <th>162</th>\n",
       "      <td>1</td>\n",
       "      <td>1</td>\n",
       "      <td>9</td>\n",
       "      <td>5</td>\n",
       "      <td>NaN</td>\n",
       "      <td>NaN</td>\n",
       "      <td>NaN</td>\n",
       "      <td>8</td>\n",
       "      <td>6</td>\n",
       "      <td>296714</td>\n",
       "      <td>...</td>\n",
       "      <td>113967</td>\n",
       "      <td>Thompson</td>\n",
       "      <td>California State University, Northridge</td>\n",
       "      <td>3</td>\n",
       "      <td>California State University, Northridge - HIST...</td>\n",
       "      <td>33</td>\n",
       "      <td>course</td>\n",
       "      <td>/sitemap/schools/272-California-State-Universi...</td>\n",
       "      <td>0</td>\n",
       "      <td>2008</td>\n",
       "    </tr>\n",
       "  </tbody>\n",
       "</table>\n",
       "<p>2 rows × 27 columns</p>\n",
       "</div>"
      ],
      "text/plain": [
       "    Assessments Assignments Essays Homework Help Lab Reports Lecture Slides  \\\n",
       "161         NaN         NaN      1           NaN         NaN            NaN   \n",
       "162           1           1      9             5         NaN            NaN   \n",
       "\n",
       "    Lesson Plans Notes Test Prep canonical_course_id  ...  prof_id prof_name  \\\n",
       "161          NaN     9         1             1465170  ...   296137     Abreu   \n",
       "162          NaN     8         6              296714  ...   113967  Thompson   \n",
       "\n",
       "                                 school_name term  \\\n",
       "161  California State University, Northridge    3   \n",
       "162  California State University, Northridge    3   \n",
       "\n",
       "                                                 title total_doc_count  \\\n",
       "161  California State University, Northridge - HIST...              22   \n",
       "162  California State University, Northridge - HIST...              33   \n",
       "\n",
       "       type                                                url verified  year  \n",
       "161  course  /sitemap/schools/272-California-State-Universi...        0  2011  \n",
       "162  course  /sitemap/schools/272-California-State-Universi...        0  2008  \n",
       "\n",
       "[2 rows x 27 columns]"
      ]
     },
     "execution_count": 16,
     "metadata": {},
     "output_type": "execute_result"
    }
   ],
   "source": [
    "get_by_course_id(data, DataStore.course_ids)"
   ]
  },
  {
   "cell_type": "code",
   "execution_count": null,
   "metadata": {
    "ExecuteTime": {
     "end_time": "2019-02-16T03:41:27.479029Z",
     "start_time": "2019-02-16T03:41:27.474026Z"
    }
   },
   "outputs": [],
   "source": []
  },
  {
   "cell_type": "code",
   "execution_count": 51,
   "metadata": {
    "ExecuteTime": {
     "end_time": "2019-02-16T04:15:05.476835Z",
     "start_time": "2019-02-16T04:15:05.467749Z"
    }
   },
   "outputs": [],
   "source": [
    "from CourseZero.RequestTools import get_content\n",
    "CHBASE = \"https://www.coursehero.com{}\"\n",
    "\n",
    "\n",
    "def get_file_links_from_course_page(course_page_url):\n",
    "    files = []\n",
    "\n",
    "    html_content = get_content(CHBASE.format(course_page_url))\n",
    "    soup = BeautifulSoup(html_content, 'html.parser')\n",
    "\n",
    "    for j in soup.findAll('a'):\n",
    "        try:\n",
    "            dest = j['href']\n",
    "            fnd = \"/file/\"\n",
    "            if dest[: len(fnd)] == fnd:\n",
    "                files.append(CHBASE.format(dest))\n",
    "        except Exception as e:\n",
    "            pass\n",
    "\n",
    "    files = list(set(files))\n",
    "    return files\n",
    "\n",
    "def show_selected(frame):\n",
    "    selected = get_by_course_id(frame, DataStore.course_ids)\n",
    "    for i, r in selected.iterrows():\n",
    "        files = get_file_links_from_course_page(r['url'])\n",
    "        t = \"{prof_name} ---- {dept_acro} {course_num} ----  {course_name} ----  {course_info}\"\n",
    "        print(t.format(**r.to_dict()))\n",
    "        for f in files:\n",
    "            print(f)\n"
   ]
  },
  {
   "cell_type": "code",
   "execution_count": 52,
   "metadata": {
    "ExecuteTime": {
     "end_time": "2019-02-16T04:15:08.713145Z",
     "start_time": "2019-02-16T04:15:05.777572Z"
    }
   },
   "outputs": [
    {
     "name": "stdout",
     "output_type": "stream",
     "text": [
      "Abreu ---- HIST 101 ----  US History ----  HIST 101 US History\n",
      "https://www.coursehero.com/file/32127606/313-journaldocx/\n",
      "https://www.coursehero.com/file/32127640/113-journaldocx/\n",
      "https://www.coursehero.com/file/17534566/outline-6/\n",
      "https://www.coursehero.com/file/17534550/Ch3-5-APUSH/\n",
      "https://www.coursehero.com/file/17534560/ch21-outline/\n",
      "https://www.coursehero.com/file/27745493/discussiondocx/\n",
      "https://www.coursehero.com/file/32127637/Untitled-documentdocx/\n",
      "https://www.coursehero.com/file/28442784/Journals-2docx/\n",
      "https://www.coursehero.com/file/32127645/Boxer-Reb-Essay-docx/\n",
      "https://www.coursehero.com/file/17534540/Chapter-1-Study-Guide/\n",
      "https://www.coursehero.com/file/17534549/Chapter-6-8-Vocabulary-terms-AP-US-HISTORY/\n",
      "https://www.coursehero.com/file/32127643/Untitled-documentdocx/\n",
      "https://www.coursehero.com/file/13686428/1-Outline-New-South-Test-Notesdoc/\n",
      "https://www.coursehero.com/file/32127644/Untitled-documentdocx/\n",
      "https://www.coursehero.com/file/13686431/5Notes-World-War-One/\n",
      "https://www.coursehero.com/file/13686429/2-Notes-Industrial-Revolution/\n",
      "https://www.coursehero.com/file/32127635/Untitled-documentdocx/\n",
      "https://www.coursehero.com/file/32127639/Untitled-documentdocx/\n",
      "https://www.coursehero.com/file/13686430/3-Notes-Outline-Immigration/\n",
      "https://www.coursehero.com/file/32127614/328-practicedocx/\n",
      "https://www.coursehero.com/file/32127636/Untitled-documentdocx/\n",
      "https://www.coursehero.com/file/17534561/Chapter-9-Outline-AP-US-HISTORY/\n",
      "Thompson ---- HIST 271 ----  US since 1865 ----  HIST 271 US since 1865\n",
      "https://www.coursehero.com/file/31910846/history-271-midterm-study-guidedocx/\n",
      "https://www.coursehero.com/file/26050505/Literature-Analysis-of-the-Avengersdoc/\n",
      "https://www.coursehero.com/file/9599498/History-271-Final-Exam-Study-Questions-Summer-2014/\n",
      "https://www.coursehero.com/file/12501116/Primary-Anaylsis-2/\n",
      "https://www.coursehero.com/file/12501584/Hisotry-post-5/\n",
      "https://www.coursehero.com/file/29872076/HIST-270-Exam-1-odt/\n",
      "https://www.coursehero.com/file/26010377/Love-and-hatedocx/\n",
      "https://www.coursehero.com/file/178372/Coming-of-Age/\n",
      "https://www.coursehero.com/file/12501576/Primary-Anaylsis-2/\n",
      "https://www.coursehero.com/file/12501574/History-Final-Essay/\n",
      "https://www.coursehero.com/file/27948473/Lies-My-Teacher-Told-Medocx/\n",
      "https://www.coursehero.com/file/12501577/Midterm-paper/\n",
      "https://www.coursehero.com/file/12501582/History-Post-3/\n",
      "https://www.coursehero.com/file/27948476/Loewen-Readingsdocx/\n",
      "https://www.coursehero.com/file/22848777/138528846-Order-7-1/\n",
      "https://www.coursehero.com/file/30614009/Reconstruction-notes2018pdf/\n",
      "https://www.coursehero.com/file/12501575/Primary-Anaylsis-1/\n",
      "https://www.coursehero.com/file/30614004/Industrializationpdf/\n",
      "https://www.coursehero.com/file/22848800/210/\n",
      "https://www.coursehero.com/file/25489646/James-Baldwindoc/\n",
      "https://www.coursehero.com/file/12501580/History-Post-1/\n",
      "https://www.coursehero.com/file/30613999/end-of-the-civil-war2018pdf/\n",
      "https://www.coursehero.com/file/30614861/Origins-of-Empirepdf/\n",
      "https://www.coursehero.com/file/12501114/History-Final-Essay/\n",
      "https://www.coursehero.com/file/10417102/History-Exam-2/\n",
      "https://www.coursehero.com/file/35541223/Study-Guide-Final-Exam-Henretta-V2-8th-1docx/\n",
      "https://www.coursehero.com/file/12501117/Midterm-paper/\n",
      "https://www.coursehero.com/file/27948493/Termsdocx/\n",
      "https://www.coursehero.com/file/10417104/HIST271-EXAM-1/\n",
      "https://www.coursehero.com/file/12501583/HistoryPost-4/\n"
     ]
    }
   ],
   "source": [
    "show_selected(data)"
   ]
  },
  {
   "cell_type": "code",
   "execution_count": null,
   "metadata": {
    "ExecuteTime": {
     "end_time": "2019-02-16T03:41:47.173713Z",
     "start_time": "2019-02-16T03:41:47.168620Z"
    }
   },
   "outputs": [],
   "source": [
    "# https://www.coursehero.com/sitemap/schools/272-California-State-University-Northridge/courses/1465170-HIST101/\n"
   ]
  },
  {
   "cell_type": "code",
   "execution_count": null,
   "metadata": {},
   "outputs": [],
   "source": []
  },
  {
   "cell_type": "code",
   "execution_count": 21,
   "metadata": {
    "ExecuteTime": {
     "end_time": "2019-02-16T03:53:22.814069Z",
     "start_time": "2019-02-16T03:53:22.811136Z"
    }
   },
   "outputs": [],
   "source": [
    "CHPAGE = \"https://www.coursehero.com/sitemap/schools/272-California-State-University-Northridge/courses/1465170-HIST101/\"\n"
   ]
  },
  {
   "cell_type": "code",
   "execution_count": 44,
   "metadata": {
    "ExecuteTime": {
     "end_time": "2019-02-16T04:09:14.563246Z",
     "start_time": "2019-02-16T04:09:13.059388Z"
    }
   },
   "outputs": [],
   "source": [
    "files = get_file_links_from_course_page(CHPAGE)"
   ]
  },
  {
   "cell_type": "code",
   "execution_count": 45,
   "metadata": {
    "ExecuteTime": {
     "end_time": "2019-02-16T04:09:17.030289Z",
     "start_time": "2019-02-16T04:09:17.025972Z"
    }
   },
   "outputs": [
    {
     "data": {
      "text/plain": [
       "['https://www.coursehero.com/file/32127606/313-journaldocx/',\n",
       " 'https://www.coursehero.com/file/32127640/113-journaldocx/',\n",
       " 'https://www.coursehero.com/file/17534566/outline-6/',\n",
       " 'https://www.coursehero.com/file/17534550/Ch3-5-APUSH/',\n",
       " 'https://www.coursehero.com/file/17534560/ch21-outline/',\n",
       " 'https://www.coursehero.com/file/27745493/discussiondocx/',\n",
       " 'https://www.coursehero.com/file/32127637/Untitled-documentdocx/',\n",
       " 'https://www.coursehero.com/file/28442784/Journals-2docx/',\n",
       " 'https://www.coursehero.com/file/32127645/Boxer-Reb-Essay-docx/',\n",
       " 'https://www.coursehero.com/file/17534540/Chapter-1-Study-Guide/',\n",
       " 'https://www.coursehero.com/file/17534549/Chapter-6-8-Vocabulary-terms-AP-US-HISTORY/',\n",
       " 'https://www.coursehero.com/file/32127643/Untitled-documentdocx/',\n",
       " 'https://www.coursehero.com/file/13686428/1-Outline-New-South-Test-Notesdoc/',\n",
       " 'https://www.coursehero.com/file/32127644/Untitled-documentdocx/',\n",
       " 'https://www.coursehero.com/file/13686431/5Notes-World-War-One/',\n",
       " 'https://www.coursehero.com/file/13686429/2-Notes-Industrial-Revolution/',\n",
       " 'https://www.coursehero.com/file/32127635/Untitled-documentdocx/',\n",
       " 'https://www.coursehero.com/file/32127639/Untitled-documentdocx/',\n",
       " 'https://www.coursehero.com/file/13686430/3-Notes-Outline-Immigration/',\n",
       " 'https://www.coursehero.com/file/32127614/328-practicedocx/',\n",
       " 'https://www.coursehero.com/file/32127636/Untitled-documentdocx/',\n",
       " 'https://www.coursehero.com/file/17534561/Chapter-9-Outline-AP-US-HISTORY/']"
      ]
     },
     "execution_count": 45,
     "metadata": {},
     "output_type": "execute_result"
    }
   ],
   "source": [
    "files"
   ]
  },
  {
   "cell_type": "code",
   "execution_count": null,
   "metadata": {},
   "outputs": [],
   "source": []
  },
  {
   "cell_type": "code",
   "execution_count": null,
   "metadata": {},
   "outputs": [],
   "source": []
  },
  {
   "cell_type": "code",
   "execution_count": null,
   "metadata": {
    "ExecuteTime": {
     "end_time": "2019-02-16T01:35:33.920602Z",
     "start_time": "2019-02-16T01:35:33.916886Z"
    }
   },
   "outputs": [],
   "source": [
    "a = d.copy(deep=True)"
   ]
  },
  {
   "cell_type": "code",
   "execution_count": null,
   "metadata": {
    "ExecuteTime": {
     "end_time": "2019-02-16T01:36:09.968037Z",
     "start_time": "2019-02-16T01:36:09.863112Z"
    }
   },
   "outputs": [],
   "source": [
    "a = a[to_keep]\n",
    "a"
   ]
  },
  {
   "cell_type": "code",
   "execution_count": null,
   "metadata": {},
   "outputs": [],
   "source": []
  },
  {
   "cell_type": "code",
   "execution_count": null,
   "metadata": {
    "ExecuteTime": {
     "end_time": "2019-02-15T23:46:39.971637Z",
     "start_time": "2019-02-15T23:42:22.901855Z"
    }
   },
   "outputs": [],
   "source": [
    "json_data = get_docs_for_campuses(campus_ids)"
   ]
  },
  {
   "cell_type": "code",
   "execution_count": null,
   "metadata": {
    "ExecuteTime": {
     "end_time": "2018-11-09T19:45:26.482368Z",
     "start_time": "2018-11-09T19:41:10.919883Z"
    },
    "deletable": false,
    "editable": false,
    "run_control": {
     "frozen": true
    }
   },
   "outputs": [],
   "source": [
    "# Query all courses at all csus\n",
    "\n",
    "abcs = 'abcdefghijklmnopqrstuvwxyz'\n",
    "\n",
    "data = []\n",
    "\n",
    "for csu, csuid in campus_ids:\n",
    "    print(csu)\n",
    "    for letter in abcs:\n",
    "        try: \n",
    "            url = make_course_search_url(letter, csuid)\n",
    "            r = requests.get(url, headers=headers)\n",
    "            data.append(r.json())\n",
    "\n",
    "        except:\n",
    "            pass\n",
    "\n",
    "    \n",
    "with open(data_json, 'w+') as fpp:\n",
    "    json.dump(data, fpp)"
   ]
  },
  {
   "cell_type": "code",
   "execution_count": null,
   "metadata": {
    "ExecuteTime": {
     "end_time": "2019-02-15T23:59:07.466925Z",
     "start_time": "2019-02-15T23:59:07.462833Z"
    }
   },
   "outputs": [],
   "source": [
    "dept_fields = ['dept_id', 'dept_acro', 'dept_name']\n",
    "prof_fields = ['prof_id', 'prof_name']\n",
    "document_categories = {'Assessments',\n",
    " 'Assignments',\n",
    " 'Essays',\n",
    " 'Homework Help',\n",
    " 'Lab Reports',\n",
    " 'Lecture Slides',\n",
    " 'Lesson Plans',\n",
    " 'Notes',\n",
    " 'Reading Lists',\n",
    " 'Rubrics',\n",
    " 'Syllabi',\n",
    " 'Test Prep'}"
   ]
  },
  {
   "cell_type": "markdown",
   "metadata": {},
   "source": [
    "# load from json"
   ]
  },
  {
   "cell_type": "markdown",
   "metadata": {},
   "source": [
    "The loaded data will be a list of dictionaries with the format:\n",
    "    \n",
    "    {'total': 25,\n",
    "      'results': [\n",
    "          {'course_id': '701843',\n",
    "          ...\n",
    "          ]\n",
    "     }"
   ]
  },
  {
   "cell_type": "code",
   "execution_count": null,
   "metadata": {
    "ExecuteTime": {
     "end_time": "2018-11-08T22:59:32.515144Z",
     "start_time": "2018-11-08T22:59:32.505024Z"
    },
    "code_folding": [
     2.0
    ]
   },
   "outputs": [],
   "source": [
    "results = []\n",
    "\n",
    "for csu in csus:\n",
    "    r = requests.get(campus_search_url % csu, headers=headers)\n",
    "    results.append((csu, r.json()))\n",
    "\n",
    "# drop empty results\n",
    "# results = [r for r in results if r[0]['id'] != -1 ]\n",
    "\n",
    "ids = []\n",
    "for csu, r in results:\n",
    "    sid = r[0]['id']\n",
    "    if sid != -1:\n",
    "        ids.append((csu, sid))\n",
    "\n",
    "ids    "
   ]
  },
  {
   "cell_type": "code",
   "execution_count": null,
   "metadata": {
    "ExecuteTime": {
     "end_time": "2018-11-09T19:46:53.105428Z",
     "start_time": "2018-11-09T19:46:52.799361Z"
    },
    "deletable": false,
    "editable": false,
    "run_control": {
     "frozen": true
    }
   },
   "outputs": [],
   "source": [
    "with open(data_json, 'r') as f:\n",
    "    json_data = json.load(f)"
   ]
  },
  {
   "cell_type": "code",
   "execution_count": null,
   "metadata": {
    "ExecuteTime": {
     "end_time": "2019-02-15T23:57:51.642490Z",
     "start_time": "2019-02-15T23:57:51.639269Z"
    }
   },
   "outputs": [],
   "source": [
    "json_data = data"
   ]
  },
  {
   "cell_type": "code",
   "execution_count": null,
   "metadata": {
    "ExecuteTime": {
     "end_time": "2019-02-15T23:57:53.883513Z",
     "start_time": "2019-02-15T23:57:53.878586Z"
    }
   },
   "outputs": [],
   "source": [
    "def get_counts(count_list):\n",
    "    \"\"\"Parses out the types of document into a dictionary\"\"\"\n",
    "    d = {}\n",
    "    for c in count_list:\n",
    "        d[c['category']] = c['count']\n",
    "    return d\n",
    "\n",
    "def make_dict(row):\n",
    "    \"\"\"Creates a dictionary for making a dataframe from a record\"\"\"\n",
    "    d = {\n",
    "        'csu' : row['school_name'],\n",
    "        'dept' : row['dept_acro'],\n",
    "        'course_number' : row['course_num'],\n",
    "        'course_name': row['course_name'],\n",
    "        'professor': row['prof_name'],\n",
    "        'total_documents': row['total_doc_count']\n",
    "    }\n",
    "    d.update(get_counts(row['doc_counts']))\n",
    "    return d\n"
   ]
  },
  {
   "cell_type": "code",
   "execution_count": null,
   "metadata": {
    "ExecuteTime": {
     "end_time": "2019-02-15T23:58:08.486362Z",
     "start_time": "2019-02-15T23:58:08.455640Z"
    }
   },
   "outputs": [],
   "source": [
    "data = pd.DataFrame(data)"
   ]
  },
  {
   "cell_type": "code",
   "execution_count": null,
   "metadata": {
    "ExecuteTime": {
     "end_time": "2019-02-16T01:14:37.369648Z",
     "start_time": "2019-02-16T01:14:37.306577Z"
    }
   },
   "outputs": [],
   "source": [
    "ordered_labels = ['csu', 'dept', 'course_number', 'course_name', 'professor', 'total_documents', 'Assessments', 'Assignments', 'Essays', 'Homework Help', 'Lab Reports',\n",
    "       'Lecture Slides', 'Lesson Plans', 'Notes', 'Reading Lists', 'Rubrics', 'Syllabi', 'Test Prep']\n",
    "\n",
    "data = data[ordered_labels]\n",
    "data"
   ]
  },
  {
   "cell_type": "code",
   "execution_count": null,
   "metadata": {
    "ExecuteTime": {
     "end_time": "2018-11-09T19:54:13.970300Z",
     "start_time": "2018-11-09T19:54:13.910691Z"
    }
   },
   "outputs": [],
   "source": [
    "data[data.csu == 'California Polytechnic State University, Pomona']"
   ]
  },
  {
   "cell_type": "code",
   "execution_count": null,
   "metadata": {
    "ExecuteTime": {
     "end_time": "2019-02-15T23:59:32.053560Z",
     "start_time": "2019-02-15T23:59:32.049461Z"
    }
   },
   "outputs": [],
   "source": [
    "len(data)"
   ]
  },
  {
   "cell_type": "code",
   "execution_count": null,
   "metadata": {
    "ExecuteTime": {
     "end_time": "2018-11-09T19:52:47.503659Z",
     "start_time": "2018-11-09T19:52:47.498061Z"
    }
   },
   "outputs": [],
   "source": [
    "len(set(data['csu'].tolist()))"
   ]
  },
  {
   "cell_type": "code",
   "execution_count": null,
   "metadata": {},
   "outputs": [],
   "source": []
  },
  {
   "cell_type": "code",
   "execution_count": null,
   "metadata": {
    "ExecuteTime": {
     "end_time": "2018-11-09T20:00:56.624237Z",
     "start_time": "2018-11-09T20:00:56.516897Z"
    }
   },
   "outputs": [],
   "source": [
    "data.to_csv(output_file)"
   ]
  },
  {
   "cell_type": "code",
   "execution_count": null,
   "metadata": {
    "ExecuteTime": {
     "end_time": "2018-11-09T17:30:36.557386Z",
     "start_time": "2018-11-09T17:30:36.514317Z"
    }
   },
   "outputs": [],
   "source": [
    "j[:2]"
   ]
  },
  {
   "cell_type": "code",
   "execution_count": null,
   "metadata": {
    "ExecuteTime": {
     "end_time": "2018-11-09T19:48:47.688334Z",
     "start_time": "2018-11-09T19:48:47.682788Z"
    }
   },
   "outputs": [],
   "source": [
    "data.columns"
   ]
  },
  {
   "cell_type": "markdown",
   "metadata": {
    "ExecuteTime": {
     "end_time": "2018-11-08T23:19:39.538722Z",
     "start_time": "2018-11-08T23:19:39.535012Z"
    }
   },
   "source": [
    "## Save something"
   ]
  },
  {
   "cell_type": "code",
   "execution_count": null,
   "metadata": {
    "ExecuteTime": {
     "end_time": "2018-11-08T23:19:49.462022Z",
     "start_time": "2018-11-08T23:19:49.446634Z"
    }
   },
   "outputs": [],
   "source": [
    "data = pd.DataFrame(data)"
   ]
  },
  {
   "cell_type": "code",
   "execution_count": null,
   "metadata": {
    "ExecuteTime": {
     "end_time": "2018-11-08T23:24:03.122283Z",
     "start_time": "2018-11-08T23:24:03.081140Z"
    }
   },
   "outputs": [],
   "source": [
    "dest = \"%s/Desktop/TEMPORARY/dest.csv\" % getSystemRoot()\n",
    "d = data.rename({0: 'csu', 1: 'course_name', 2: 'professor', 3: 'count_of_docs'}, axis=1)\n",
    "d.to_csv(dest)"
   ]
  },
  {
   "cell_type": "code",
   "execution_count": null,
   "metadata": {
    "ExecuteTime": {
     "end_time": "2018-11-08T23:23:00.441095Z",
     "start_time": "2018-11-08T23:23:00.437445Z"
    }
   },
   "outputs": [],
   "source": []
  },
  {
   "cell_type": "code",
   "execution_count": null,
   "metadata": {
    "ExecuteTime": {
     "end_time": "2018-11-08T23:23:06.242616Z",
     "start_time": "2018-11-08T23:23:06.237656Z"
    }
   },
   "outputs": [],
   "source": [
    "dest"
   ]
  },
  {
   "cell_type": "code",
   "execution_count": null,
   "metadata": {
    "ExecuteTime": {
     "end_time": "2018-11-08T23:11:16.700222Z",
     "start_time": "2018-11-08T23:11:16.695177Z"
    },
    "code_folding": []
   },
   "outputs": [],
   "source": [
    "docs = []\n",
    "for r in js['results']:\n",
    "    try:\n",
    "        docs.append((r['dept_acro'], r['course_name'], r['prof_name'], r['total_doc_count']))\n",
    "    except:\n",
    "        pass"
   ]
  },
  {
   "cell_type": "code",
   "execution_count": null,
   "metadata": {
    "ExecuteTime": {
     "end_time": "2018-11-08T23:11:20.009182Z",
     "start_time": "2018-11-08T23:11:20.004314Z"
    }
   },
   "outputs": [],
   "source": [
    "docs"
   ]
  },
  {
   "cell_type": "code",
   "execution_count": null,
   "metadata": {
    "ExecuteTime": {
     "end_time": "2018-11-09T00:18:06.952302Z",
     "start_time": "2018-11-09T00:18:06.948532Z"
    }
   },
   "outputs": [],
   "source": [
    "for r in js['results']:\n",
    "    print(r)\n",
    "#     print(r['doc_counts'])"
   ]
  },
  {
   "cell_type": "code",
   "execution_count": null,
   "metadata": {},
   "outputs": [],
   "source": [
    "\"doc_counts\":[{\"category\":\"Essays\",\"count\":\"1\"},{\"category\":\"Homework Help\",\"count\":\"2\"},{\"category\":\"Notes\",\"count\":\"5\"},{\"category\":\"Test Prep\",\"count\":\"19\"}],\"location\":{\"lat\":\"35.35432400\",\"lon\":\"-119.10326200\"}"
   ]
  },
  {
   "cell_type": "code",
   "execution_count": null,
   "metadata": {
    "ExecuteTime": {
     "end_time": "2018-11-08T23:06:08.610457Z",
     "start_time": "2018-11-08T23:06:08.606050Z"
    }
   },
   "outputs": [],
   "source": [
    "r.text"
   ]
  },
  {
   "cell_type": "code",
   "execution_count": null,
   "metadata": {},
   "outputs": [],
   "source": []
  },
  {
   "cell_type": "code",
   "execution_count": null,
   "metadata": {
    "ExecuteTime": {
     "end_time": "2018-11-09T19:22:46.344235Z",
     "start_time": "2018-11-09T19:22:46.339918Z"
    },
    "deletable": false,
    "editable": false,
    "run_control": {
     "frozen": true
    }
   },
   "outputs": [],
   "source": [
    "csus = [\n",
    "        'California State University Bakersfield',\n",
    "        'California State University Channel islands', \n",
    "        'California State University Chico', \n",
    "        'California State University Dominguez hills', \n",
    "        'California State University East bay',\n",
    "        'California State University Fresno', \n",
    "        'California State University Fullerton', \n",
    "        'California State University Long Beach',    \n",
    "        'California State University Los Angeles',\n",
    "        'California State University Northridge', \n",
    "        'California State University Monterey Bay',\n",
    "        'California Polytechnic State University Pomona', \n",
    "        'California Polytechnic State University San Luis Obispo', \n",
    "        'California State University San Bernardino',\n",
    "        'California State University San Marcos',\n",
    "        'California State University Stanislaus',\n",
    "        'California Maritime Academy',\n",
    "        'Humboldt State University',     \n",
    "        'Sacramento State University',\n",
    "        'San Diego State University', \n",
    "        'San Francisco State University', \n",
    "        'San Jose state University', \n",
    "        'Sonoma State University',\n",
    "       ]"
   ]
  },
  {
   "cell_type": "code",
   "execution_count": null,
   "metadata": {
    "ExecuteTime": {
     "end_time": "2018-11-08T21:48:50.430843Z",
     "start_time": "2018-11-08T21:48:50.427538Z"
    }
   },
   "outputs": [],
   "source": [
    "user_agent = \"Mozilla/5.0 (Macintosh; Intel Mac OS X 10_13_6) AppleWebKit/537.36 (KHTML, like Gecko) Chrome/70.0.3538.77 Safari/537.36\"\n",
    "headers = {'User-Agent': user_agent}\n"
   ]
  }
 ],
 "metadata": {
  "kernelspec": {
   "display_name": "Python 3",
   "language": "python",
   "name": "python3"
  },
  "language_info": {
   "codemirror_mode": {
    "name": "ipython",
    "version": 3
   },
   "file_extension": ".py",
   "mimetype": "text/x-python",
   "name": "python",
   "nbconvert_exporter": "python",
   "pygments_lexer": "ipython3",
   "version": "3.6.4"
  },
  "latex_envs": {
   "LaTeX_envs_menu_present": true,
   "autoclose": false,
   "autocomplete": true,
   "bibliofile": "biblio.bib",
   "cite_by": "apalike",
   "current_citInitial": 1.0,
   "eqLabelWithNumbers": true,
   "eqNumInitial": 1.0,
   "hotkeys": {
    "equation": "Ctrl-E",
    "itemize": "Ctrl-I"
   },
   "labels_anchors": false,
   "latex_user_defs": false,
   "report_style_numbering": false,
   "user_envs_cfg": false
  },
  "toc": {
   "base_numbering": 1.0,
   "nav_menu": {},
   "number_sections": true,
   "sideBar": true,
   "skip_h1_title": false,
   "title_cell": "Table of Contents",
   "title_sidebar": "Contents",
   "toc_cell": false,
   "toc_position": {},
   "toc_section_display": true,
   "toc_window_display": false
  }
 },
 "nbformat": 4,
 "nbformat_minor": 2
}
